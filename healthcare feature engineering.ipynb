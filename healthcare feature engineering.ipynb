{
 "cells": [
  {
   "cell_type": "markdown",
   "metadata": {},
   "source": [
    "## Assignment 4 - Health Care Fraud Detection\n",
    "\n",
    "## Section 1: Data Prep <a class=\"anchor\" id=\"Section_1\"></a>"
   ]
  },
  {
   "cell_type": "code",
   "execution_count": 20,
   "metadata": {},
   "outputs": [],
   "source": [
    "import numpy as np\n",
    "import pandas as pd\n",
    "import matplotlib.pyplot as plt\n",
    "%matplotlib inline\n",
    "import seaborn as sns\n",
    "import plotly\n",
    "import plotly.express as px\n",
    "import scipy.stats as stats\n",
    "import plotly.io as pio\n",
    "pio.renderers.default = \"notebook\""
   ]
  },
  {
   "cell_type": "code",
   "execution_count": 21,
   "metadata": {},
   "outputs": [
    {
     "name": "stderr",
     "output_type": "stream",
     "text": [
      "C:\\Users\\Jessica\\AppData\\Local\\Temp\\ipykernel_17664\\1883067601.py:14: FutureWarning:\n",
      "\n",
      "The default value of regex will change from True to False in a future version.\n",
      "\n",
      "C:\\Users\\Jessica\\AppData\\Local\\Temp\\ipykernel_17664\\1883067601.py:16: FutureWarning:\n",
      "\n",
      "The default value of regex will change from True to False in a future version.\n",
      "\n"
     ]
    },
    {
     "data": {
      "text/html": [
       "<div>\n",
       "<style scoped>\n",
       "    .dataframe tbody tr th:only-of-type {\n",
       "        vertical-align: middle;\n",
       "    }\n",
       "\n",
       "    .dataframe tbody tr th {\n",
       "        vertical-align: top;\n",
       "    }\n",
       "\n",
       "    .dataframe thead th {\n",
       "        text-align: right;\n",
       "    }\n",
       "</style>\n",
       "<table border=\"1\" class=\"dataframe\">\n",
       "  <thead>\n",
       "    <tr style=\"text-align: right;\">\n",
       "      <th></th>\n",
       "      <th>DRG</th>\n",
       "      <th>Provider_Id</th>\n",
       "      <th>Provider_Name</th>\n",
       "      <th>Provider_StreetAddress</th>\n",
       "      <th>Provider_City</th>\n",
       "      <th>Provider_State</th>\n",
       "      <th>Provider_Zipcode</th>\n",
       "      <th>Hospital_referral_region_desp</th>\n",
       "      <th>Total_Discharges</th>\n",
       "      <th>Average_Total_Payments</th>\n",
       "      <th>Average_Medicare_Payment</th>\n",
       "    </tr>\n",
       "  </thead>\n",
       "  <tbody>\n",
       "    <tr>\n",
       "      <th>0</th>\n",
       "      <td>039 - EXTRACRANIAL PROCEDURES W/O CC/MCC</td>\n",
       "      <td>10001</td>\n",
       "      <td>SOUTHEAST ALABAMA MEDICAL CENTER</td>\n",
       "      <td>1108 ROSS CLARK CIRCLE</td>\n",
       "      <td>DOTHAN</td>\n",
       "      <td>AL</td>\n",
       "      <td>36301</td>\n",
       "      <td>AL - Dothan</td>\n",
       "      <td>91</td>\n",
       "      <td>5777.24</td>\n",
       "      <td>4763.73</td>\n",
       "    </tr>\n",
       "    <tr>\n",
       "      <th>1</th>\n",
       "      <td>039 - EXTRACRANIAL PROCEDURES W/O CC/MCC</td>\n",
       "      <td>10005</td>\n",
       "      <td>MARSHALL MEDICAL CENTER SOUTH</td>\n",
       "      <td>2505 U S HIGHWAY 431 NORTH</td>\n",
       "      <td>BOAZ</td>\n",
       "      <td>AL</td>\n",
       "      <td>35957</td>\n",
       "      <td>AL - Birmingham</td>\n",
       "      <td>14</td>\n",
       "      <td>5787.57</td>\n",
       "      <td>4976.71</td>\n",
       "    </tr>\n",
       "    <tr>\n",
       "      <th>2</th>\n",
       "      <td>039 - EXTRACRANIAL PROCEDURES W/O CC/MCC</td>\n",
       "      <td>10006</td>\n",
       "      <td>ELIZA COFFEE MEMORIAL HOSPITAL</td>\n",
       "      <td>205 MARENGO STREET</td>\n",
       "      <td>FLORENCE</td>\n",
       "      <td>AL</td>\n",
       "      <td>35631</td>\n",
       "      <td>AL - Birmingham</td>\n",
       "      <td>24</td>\n",
       "      <td>5434.95</td>\n",
       "      <td>4453.79</td>\n",
       "    </tr>\n",
       "    <tr>\n",
       "      <th>3</th>\n",
       "      <td>039 - EXTRACRANIAL PROCEDURES W/O CC/MCC</td>\n",
       "      <td>10011</td>\n",
       "      <td>ST VINCENT'S EAST</td>\n",
       "      <td>50 MEDICAL PARK EAST DRIVE</td>\n",
       "      <td>BIRMINGHAM</td>\n",
       "      <td>AL</td>\n",
       "      <td>35235</td>\n",
       "      <td>AL - Birmingham</td>\n",
       "      <td>25</td>\n",
       "      <td>5417.56</td>\n",
       "      <td>4129.16</td>\n",
       "    </tr>\n",
       "    <tr>\n",
       "      <th>4</th>\n",
       "      <td>039 - EXTRACRANIAL PROCEDURES W/O CC/MCC</td>\n",
       "      <td>10016</td>\n",
       "      <td>SHELBY BAPTIST MEDICAL CENTER</td>\n",
       "      <td>1000 FIRST STREET NORTH</td>\n",
       "      <td>ALABASTER</td>\n",
       "      <td>AL</td>\n",
       "      <td>35007</td>\n",
       "      <td>AL - Birmingham</td>\n",
       "      <td>18</td>\n",
       "      <td>5658.33</td>\n",
       "      <td>4851.44</td>\n",
       "    </tr>\n",
       "  </tbody>\n",
       "</table>\n",
       "</div>"
      ],
      "text/plain": [
       "                                        DRG Provider_Id  \\\n",
       "0  039 - EXTRACRANIAL PROCEDURES W/O CC/MCC       10001   \n",
       "1  039 - EXTRACRANIAL PROCEDURES W/O CC/MCC       10005   \n",
       "2  039 - EXTRACRANIAL PROCEDURES W/O CC/MCC       10006   \n",
       "3  039 - EXTRACRANIAL PROCEDURES W/O CC/MCC       10011   \n",
       "4  039 - EXTRACRANIAL PROCEDURES W/O CC/MCC       10016   \n",
       "\n",
       "                      Provider_Name      Provider_StreetAddress Provider_City  \\\n",
       "0  SOUTHEAST ALABAMA MEDICAL CENTER      1108 ROSS CLARK CIRCLE        DOTHAN   \n",
       "1     MARSHALL MEDICAL CENTER SOUTH  2505 U S HIGHWAY 431 NORTH          BOAZ   \n",
       "2    ELIZA COFFEE MEMORIAL HOSPITAL          205 MARENGO STREET      FLORENCE   \n",
       "3                 ST VINCENT'S EAST  50 MEDICAL PARK EAST DRIVE    BIRMINGHAM   \n",
       "4     SHELBY BAPTIST MEDICAL CENTER     1000 FIRST STREET NORTH     ALABASTER   \n",
       "\n",
       "  Provider_State  Provider_Zipcode Hospital_referral_region_desp  \\\n",
       "0             AL             36301                   AL - Dothan   \n",
       "1             AL             35957               AL - Birmingham   \n",
       "2             AL             35631               AL - Birmingham   \n",
       "3             AL             35235               AL - Birmingham   \n",
       "4             AL             35007               AL - Birmingham   \n",
       "\n",
       "   Total_Discharges  Average_Total_Payments  Average_Medicare_Payment  \n",
       "0                91                 5777.24                   4763.73  \n",
       "1                14                 5787.57                   4976.71  \n",
       "2                24                 5434.95                   4453.79  \n",
       "3                25                 5417.56                   4129.16  \n",
       "4                18                 5658.33                   4851.44  "
      ]
     },
     "execution_count": 21,
     "metadata": {},
     "output_type": "execute_result"
    }
   ],
   "source": [
    "data = pd.read_csv(\"inpatientCharges.csv\")\n",
    "data.columns = ['DRG','Provider_Id', 'Provider_Name','Provider_StreetAddress','Provider_City',\n",
    "               'Provider_State','Provider_Zipcode','Hospital_referral_region_desp',\n",
    "                'Total_Discharges','Average_Covered_Charges','Average_Total_Payments',\n",
    "                'Average_Medicare_Payment']\n",
    "data = data.drop('Average_Covered_Charges',axis=1)\n",
    "\n",
    "# Change data type and transfer spending amount with dollar sign into numeric\n",
    "data['DRG'] = data['DRG'].astype('category')\n",
    "data['Provider_State'] = data['Provider_State'].astype('category')\n",
    "data['Provider_City'] = data['Provider_City'].astype('category')\n",
    "data['Provider_Id'] = data['Provider_Id'].astype('category')\n",
    "data['Hospital_referral_region_desp'] = data['Hospital_referral_region_desp'].astype('category')\n",
    "data['Average_Total_Payments'] = (data['Average_Total_Payments']\n",
    "                              .str.replace(r'[^-+\\d.]', '').astype(float))\n",
    "data['Average_Medicare_Payment'] = (data['Average_Medicare_Payment']\n",
    "                              .str.replace(r'[^-+\\d.]', '').astype(float))\n",
    "\n",
    "data.head()"
   ]
  },
  {
   "cell_type": "markdown",
   "metadata": {},
   "source": [
    "## Section 2: Features <a class=\"anchor\" id=\"Section_3\"></a>\n",
    "\n",
    "### Section 2.1a DRG's 95% CI of Average Payment <a class=\"anchor\" id=\"Section_31\"></a>\n",
    "**Assumption: Hospitals may heavily abuse the resources compared to the 95% of its peers of the same DRG.**"
   ]
  },
  {
   "cell_type": "code",
   "execution_count": 22,
   "metadata": {},
   "outputs": [
    {
     "data": {
      "text/html": [
       "<div>\n",
       "<style scoped>\n",
       "    .dataframe tbody tr th:only-of-type {\n",
       "        vertical-align: middle;\n",
       "    }\n",
       "\n",
       "    .dataframe tbody tr th {\n",
       "        vertical-align: top;\n",
       "    }\n",
       "\n",
       "    .dataframe thead th {\n",
       "        text-align: right;\n",
       "    }\n",
       "</style>\n",
       "<table border=\"1\" class=\"dataframe\">\n",
       "  <thead>\n",
       "    <tr style=\"text-align: right;\">\n",
       "      <th></th>\n",
       "      <th>DRG</th>\n",
       "      <th>Provider_Id</th>\n",
       "      <th>Provider_Name</th>\n",
       "      <th>Provider_StreetAddress</th>\n",
       "      <th>Provider_City</th>\n",
       "      <th>Provider_State</th>\n",
       "      <th>Provider_Zipcode</th>\n",
       "      <th>Hospital_referral_region_desp</th>\n",
       "      <th>Total_Discharges</th>\n",
       "      <th>Average_Total_Payments</th>\n",
       "      <th>Average_Medicare_Payment</th>\n",
       "      <th>Mean</th>\n",
       "      <th>Std</th>\n",
       "      <th>upper_CI</th>\n",
       "    </tr>\n",
       "  </thead>\n",
       "  <tbody>\n",
       "    <tr>\n",
       "      <th>0</th>\n",
       "      <td>039 - EXTRACRANIAL PROCEDURES W/O CC/MCC</td>\n",
       "      <td>10001</td>\n",
       "      <td>SOUTHEAST ALABAMA MEDICAL CENTER</td>\n",
       "      <td>1108 ROSS CLARK CIRCLE</td>\n",
       "      <td>DOTHAN</td>\n",
       "      <td>AL</td>\n",
       "      <td>36301</td>\n",
       "      <td>AL - Dothan</td>\n",
       "      <td>91</td>\n",
       "      <td>5777.24</td>\n",
       "      <td>4763.73</td>\n",
       "      <td>6960.534004</td>\n",
       "      <td>1477.873952</td>\n",
       "      <td>9857.166949</td>\n",
       "    </tr>\n",
       "    <tr>\n",
       "      <th>1</th>\n",
       "      <td>039 - EXTRACRANIAL PROCEDURES W/O CC/MCC</td>\n",
       "      <td>10005</td>\n",
       "      <td>MARSHALL MEDICAL CENTER SOUTH</td>\n",
       "      <td>2505 U S HIGHWAY 431 NORTH</td>\n",
       "      <td>BOAZ</td>\n",
       "      <td>AL</td>\n",
       "      <td>35957</td>\n",
       "      <td>AL - Birmingham</td>\n",
       "      <td>14</td>\n",
       "      <td>5787.57</td>\n",
       "      <td>4976.71</td>\n",
       "      <td>6960.534004</td>\n",
       "      <td>1477.873952</td>\n",
       "      <td>9857.166949</td>\n",
       "    </tr>\n",
       "    <tr>\n",
       "      <th>2</th>\n",
       "      <td>039 - EXTRACRANIAL PROCEDURES W/O CC/MCC</td>\n",
       "      <td>10006</td>\n",
       "      <td>ELIZA COFFEE MEMORIAL HOSPITAL</td>\n",
       "      <td>205 MARENGO STREET</td>\n",
       "      <td>FLORENCE</td>\n",
       "      <td>AL</td>\n",
       "      <td>35631</td>\n",
       "      <td>AL - Birmingham</td>\n",
       "      <td>24</td>\n",
       "      <td>5434.95</td>\n",
       "      <td>4453.79</td>\n",
       "      <td>6960.534004</td>\n",
       "      <td>1477.873952</td>\n",
       "      <td>9857.166949</td>\n",
       "    </tr>\n",
       "    <tr>\n",
       "      <th>3</th>\n",
       "      <td>039 - EXTRACRANIAL PROCEDURES W/O CC/MCC</td>\n",
       "      <td>10011</td>\n",
       "      <td>ST VINCENT'S EAST</td>\n",
       "      <td>50 MEDICAL PARK EAST DRIVE</td>\n",
       "      <td>BIRMINGHAM</td>\n",
       "      <td>AL</td>\n",
       "      <td>35235</td>\n",
       "      <td>AL - Birmingham</td>\n",
       "      <td>25</td>\n",
       "      <td>5417.56</td>\n",
       "      <td>4129.16</td>\n",
       "      <td>6960.534004</td>\n",
       "      <td>1477.873952</td>\n",
       "      <td>9857.166949</td>\n",
       "    </tr>\n",
       "    <tr>\n",
       "      <th>4</th>\n",
       "      <td>039 - EXTRACRANIAL PROCEDURES W/O CC/MCC</td>\n",
       "      <td>10016</td>\n",
       "      <td>SHELBY BAPTIST MEDICAL CENTER</td>\n",
       "      <td>1000 FIRST STREET NORTH</td>\n",
       "      <td>ALABASTER</td>\n",
       "      <td>AL</td>\n",
       "      <td>35007</td>\n",
       "      <td>AL - Birmingham</td>\n",
       "      <td>18</td>\n",
       "      <td>5658.33</td>\n",
       "      <td>4851.44</td>\n",
       "      <td>6960.534004</td>\n",
       "      <td>1477.873952</td>\n",
       "      <td>9857.166949</td>\n",
       "    </tr>\n",
       "  </tbody>\n",
       "</table>\n",
       "</div>"
      ],
      "text/plain": [
       "                                        DRG Provider_Id  \\\n",
       "0  039 - EXTRACRANIAL PROCEDURES W/O CC/MCC       10001   \n",
       "1  039 - EXTRACRANIAL PROCEDURES W/O CC/MCC       10005   \n",
       "2  039 - EXTRACRANIAL PROCEDURES W/O CC/MCC       10006   \n",
       "3  039 - EXTRACRANIAL PROCEDURES W/O CC/MCC       10011   \n",
       "4  039 - EXTRACRANIAL PROCEDURES W/O CC/MCC       10016   \n",
       "\n",
       "                      Provider_Name      Provider_StreetAddress Provider_City  \\\n",
       "0  SOUTHEAST ALABAMA MEDICAL CENTER      1108 ROSS CLARK CIRCLE        DOTHAN   \n",
       "1     MARSHALL MEDICAL CENTER SOUTH  2505 U S HIGHWAY 431 NORTH          BOAZ   \n",
       "2    ELIZA COFFEE MEMORIAL HOSPITAL          205 MARENGO STREET      FLORENCE   \n",
       "3                 ST VINCENT'S EAST  50 MEDICAL PARK EAST DRIVE    BIRMINGHAM   \n",
       "4     SHELBY BAPTIST MEDICAL CENTER     1000 FIRST STREET NORTH     ALABASTER   \n",
       "\n",
       "  Provider_State  Provider_Zipcode Hospital_referral_region_desp  \\\n",
       "0             AL             36301                   AL - Dothan   \n",
       "1             AL             35957               AL - Birmingham   \n",
       "2             AL             35631               AL - Birmingham   \n",
       "3             AL             35235               AL - Birmingham   \n",
       "4             AL             35007               AL - Birmingham   \n",
       "\n",
       "   Total_Discharges  Average_Total_Payments  Average_Medicare_Payment  \\\n",
       "0                91                 5777.24                   4763.73   \n",
       "1                14                 5787.57                   4976.71   \n",
       "2                24                 5434.95                   4453.79   \n",
       "3                25                 5417.56                   4129.16   \n",
       "4                18                 5658.33                   4851.44   \n",
       "\n",
       "          Mean          Std     upper_CI  \n",
       "0  6960.534004  1477.873952  9857.166949  \n",
       "1  6960.534004  1477.873952  9857.166949  \n",
       "2  6960.534004  1477.873952  9857.166949  \n",
       "3  6960.534004  1477.873952  9857.166949  \n",
       "4  6960.534004  1477.873952  9857.166949  "
      ]
     },
     "execution_count": 22,
     "metadata": {},
     "output_type": "execute_result"
    }
   ],
   "source": [
    "grouped = data.groupby(['DRG'])['Average_Total_Payments']\n",
    "mean = grouped.mean()\n",
    "std = grouped.std()\n",
    "\n",
    "# Create a benchmark within 95% of confidence interval\n",
    "drg_95 = pd.DataFrame({'Mean': mean, 'Std': std})\n",
    "\n",
    "# add the new feature average spending to the dataset \n",
    "drg_95 = data.merge(drg_95, on='DRG', how='left')\n",
    "\n",
    "drg_95['upper_CI'] = np.where(drg_95['Mean']==0, 0, drg_95['Mean'] + 1.96*drg_95['Std'])\n",
    "drg_95.head()"
   ]
  },
  {
   "cell_type": "code",
   "execution_count": 23,
   "metadata": {},
   "outputs": [
    {
     "data": {
      "text/html": [
       "<div>\n",
       "<style scoped>\n",
       "    .dataframe tbody tr th:only-of-type {\n",
       "        vertical-align: middle;\n",
       "    }\n",
       "\n",
       "    .dataframe tbody tr th {\n",
       "        vertical-align: top;\n",
       "    }\n",
       "\n",
       "    .dataframe thead th {\n",
       "        text-align: right;\n",
       "    }\n",
       "</style>\n",
       "<table border=\"1\" class=\"dataframe\">\n",
       "  <thead>\n",
       "    <tr style=\"text-align: right;\">\n",
       "      <th></th>\n",
       "      <th>DRG</th>\n",
       "      <th>Provider_Name</th>\n",
       "      <th>Average_Total_Payments</th>\n",
       "      <th>upper_CI</th>\n",
       "    </tr>\n",
       "  </thead>\n",
       "  <tbody>\n",
       "    <tr>\n",
       "      <th>31</th>\n",
       "      <td>039 - EXTRACRANIAL PROCEDURES W/O CC/MCC</td>\n",
       "      <td>FLAGSTAFF MEDICAL CENTER</td>\n",
       "      <td>11026.33</td>\n",
       "      <td>9857.166949</td>\n",
       "    </tr>\n",
       "    <tr>\n",
       "      <th>36</th>\n",
       "      <td>039 - EXTRACRANIAL PROCEDURES W/O CC/MCC</td>\n",
       "      <td>SUMMIT HEALTHCARE REGIONAL MEDICAL CENTER</td>\n",
       "      <td>10000.82</td>\n",
       "      <td>9857.166949</td>\n",
       "    </tr>\n",
       "    <tr>\n",
       "      <th>67</th>\n",
       "      <td>039 - EXTRACRANIAL PROCEDURES W/O CC/MCC</td>\n",
       "      <td>MERCY GENERAL HOSPITAL</td>\n",
       "      <td>10863.22</td>\n",
       "      <td>9857.166949</td>\n",
       "    </tr>\n",
       "    <tr>\n",
       "      <th>73</th>\n",
       "      <td>039 - EXTRACRANIAL PROCEDURES W/O CC/MCC</td>\n",
       "      <td>GLENDALE MEM HOSPITAL &amp; HLTH CENTER</td>\n",
       "      <td>11082.18</td>\n",
       "      <td>9857.166949</td>\n",
       "    </tr>\n",
       "    <tr>\n",
       "      <th>88</th>\n",
       "      <td>039 - EXTRACRANIAL PROCEDURES W/O CC/MCC</td>\n",
       "      <td>JOHN MUIR MEDICAL CENTER - WALNUT CREEK CAMPUS</td>\n",
       "      <td>12355.85</td>\n",
       "      <td>9857.166949</td>\n",
       "    </tr>\n",
       "  </tbody>\n",
       "</table>\n",
       "</div>"
      ],
      "text/plain": [
       "                                         DRG  \\\n",
       "31  039 - EXTRACRANIAL PROCEDURES W/O CC/MCC   \n",
       "36  039 - EXTRACRANIAL PROCEDURES W/O CC/MCC   \n",
       "67  039 - EXTRACRANIAL PROCEDURES W/O CC/MCC   \n",
       "73  039 - EXTRACRANIAL PROCEDURES W/O CC/MCC   \n",
       "88  039 - EXTRACRANIAL PROCEDURES W/O CC/MCC   \n",
       "\n",
       "                                     Provider_Name  Average_Total_Payments  \\\n",
       "31                        FLAGSTAFF MEDICAL CENTER                11026.33   \n",
       "36       SUMMIT HEALTHCARE REGIONAL MEDICAL CENTER                10000.82   \n",
       "67                          MERCY GENERAL HOSPITAL                10863.22   \n",
       "73             GLENDALE MEM HOSPITAL & HLTH CENTER                11082.18   \n",
       "88  JOHN MUIR MEDICAL CENTER - WALNUT CREEK CAMPUS                12355.85   \n",
       "\n",
       "       upper_CI  \n",
       "31  9857.166949  \n",
       "36  9857.166949  \n",
       "67  9857.166949  \n",
       "73  9857.166949  \n",
       "88  9857.166949  "
      ]
     },
     "execution_count": 23,
     "metadata": {},
     "output_type": "execute_result"
    }
   ],
   "source": [
    "#Filter out average total payment is over 95% of the upper confidence interval\n",
    "outlier = drg_95[(drg_95['Average_Total_Payments']>drg_95['upper_CI']) & (drg_95['upper_CI'] >= 0)] \n",
    "filtered_outlier = outlier[['DRG', 'Provider_Name', 'Average_Total_Payments', 'upper_CI']]\n",
    "\n",
    "filtered_outlier.head()"
   ]
  },
  {
   "cell_type": "markdown",
   "metadata": {},
   "source": [
    "### Section 2.1b DRG's of Average Payment <a class=\"anchor\" id=\"Section_31\"></a>\n",
    "**Assumption: Hospitals may abuse the resources compared to 2 times of average total payments from its peers with the same DRG.**"
   ]
  },
  {
   "cell_type": "code",
   "execution_count": 24,
   "metadata": {},
   "outputs": [
    {
     "data": {
      "text/plain": [
       "count    163065.000000\n",
       "mean          1.000000\n",
       "std           0.248259\n",
       "min           0.464005\n",
       "25%           0.839686\n",
       "50%           0.928391\n",
       "75%           1.085989\n",
       "max           9.449417\n",
       "Name: drg_avg_ratio, dtype: float64"
      ]
     },
     "execution_count": 24,
     "metadata": {},
     "output_type": "execute_result"
    }
   ],
   "source": [
    "drg_avg = data.groupby(['DRG'])['Average_Total_Payments'].mean().reset_index()\n",
    "drg_avg.columns = ['DRG','Avg_Payment_ByStateDRG']\n",
    "\n",
    "drg_avg = pd.merge(data, drg_avg, how='left', on=['DRG'])\n",
    " \n",
    "drg_avg['drg_avg_ratio'] = np.where(drg_avg['Avg_Payment_ByStateDRG']==0,0, drg_avg['Average_Total_Payments'] / drg_avg['Avg_Payment_ByStateDRG'])\n",
    "drg_avg['drg_avg_ratio'].describe()"
   ]
  },
  {
   "cell_type": "markdown",
   "metadata": {},
   "source": [
    "### Section 2.1c DRG's of Median Payment <a class=\"anchor\" id=\"Section_31\"></a>\n",
    "**Assumption: Hospitals may abuse the resources compared to 2 times of median total payments from its peers with the same DRG. Also, median benchmark is somewhat useful compared to average measurement because the outliers could distort the mean values of data.**"
   ]
  },
  {
   "cell_type": "code",
   "execution_count": 25,
   "metadata": {},
   "outputs": [
    {
     "data": {
      "text/plain": [
       "count    163065.000000\n",
       "mean          1.000000\n",
       "std           0.248259\n",
       "min           0.464005\n",
       "25%           0.839686\n",
       "50%           0.928391\n",
       "75%           1.085989\n",
       "max           9.449417\n",
       "Name: drg_median_ratio_amount, dtype: float64"
      ]
     },
     "execution_count": 25,
     "metadata": {},
     "output_type": "execute_result"
    }
   ],
   "source": [
    "med_drg = data.groupby(['DRG'])['Average_Total_Payments'].mean() \n",
    "med_drg = pd.DataFrame(med_drg)\n",
    "med_drg.columns = ['Median_avg_total_payments']\n",
    "\n",
    "# add the new feature median spending to the dataset \n",
    "med_drg = pd.merge(data, med_drg, how='left', on=['DRG'])\n",
    "\n",
    "med_drg['drg_median_ratio_amount'] = np.where(med_drg['Median_avg_total_payments']==0,0, med_drg['Average_Total_Payments'] / med_drg['Median_avg_total_payments'])\n",
    "med_drg['drg_median_ratio_amount'].describe()"
   ]
  },
  {
   "cell_type": "markdown",
   "metadata": {},
   "source": [
    "### Section 2.2a: State & DRG's 95% CI of Average Payment <a class=\"anchor\" id=\"Section_31\"></a>\n",
    "**Assumption: Hospitals may abuse the resources compared to the 95% of its peers of the same DRG within the same State.**"
   ]
  },
  {
   "cell_type": "code",
   "execution_count": 26,
   "metadata": {},
   "outputs": [
    {
     "data": {
      "text/html": [
       "<div>\n",
       "<style scoped>\n",
       "    .dataframe tbody tr th:only-of-type {\n",
       "        vertical-align: middle;\n",
       "    }\n",
       "\n",
       "    .dataframe tbody tr th {\n",
       "        vertical-align: top;\n",
       "    }\n",
       "\n",
       "    .dataframe thead th {\n",
       "        text-align: right;\n",
       "    }\n",
       "</style>\n",
       "<table border=\"1\" class=\"dataframe\">\n",
       "  <thead>\n",
       "    <tr style=\"text-align: right;\">\n",
       "      <th></th>\n",
       "      <th>DRG</th>\n",
       "      <th>Provider_Name</th>\n",
       "      <th>Provider_State</th>\n",
       "      <th>Average_Total_Payments</th>\n",
       "      <th>upper_CI</th>\n",
       "    </tr>\n",
       "  </thead>\n",
       "  <tbody>\n",
       "    <tr>\n",
       "      <th>162822</th>\n",
       "      <td>948 - SIGNS &amp; SYMPTOMS W/O MCC</td>\n",
       "      <td>MEMORIAL HERMANN TEXAS MEDICAL CENTER</td>\n",
       "      <td>TX</td>\n",
       "      <td>7910.32</td>\n",
       "      <td>7474.839233</td>\n",
       "    </tr>\n",
       "    <tr>\n",
       "      <th>162893</th>\n",
       "      <td>948 - SIGNS &amp; SYMPTOMS W/O MCC</td>\n",
       "      <td>LAMB HEALTHCARE CENTER</td>\n",
       "      <td>TX</td>\n",
       "      <td>8241.50</td>\n",
       "      <td>7474.839233</td>\n",
       "    </tr>\n",
       "    <tr>\n",
       "      <th>162934</th>\n",
       "      <td>948 - SIGNS &amp; SYMPTOMS W/O MCC</td>\n",
       "      <td>MEDICAL COLLEGE OF VIRGINIA HOSPITALS</td>\n",
       "      <td>VA</td>\n",
       "      <td>8760.77</td>\n",
       "      <td>7474.839233</td>\n",
       "    </tr>\n",
       "    <tr>\n",
       "      <th>162972</th>\n",
       "      <td>948 - SIGNS &amp; SYMPTOMS W/O MCC</td>\n",
       "      <td>UNIVERSITY OF WASHINGTON MEDICAL CTR</td>\n",
       "      <td>WA</td>\n",
       "      <td>8771.80</td>\n",
       "      <td>7474.839233</td>\n",
       "    </tr>\n",
       "    <tr>\n",
       "      <th>163063</th>\n",
       "      <td>948 - SIGNS &amp; SYMPTOMS W/O MCC</td>\n",
       "      <td>TEXAS REGIONAL MEDICAL CENTER AT SUNNYVALE</td>\n",
       "      <td>TX</td>\n",
       "      <td>7663.09</td>\n",
       "      <td>7474.839233</td>\n",
       "    </tr>\n",
       "  </tbody>\n",
       "</table>\n",
       "</div>"
      ],
      "text/plain": [
       "                                   DRG  \\\n",
       "162822  948 - SIGNS & SYMPTOMS W/O MCC   \n",
       "162893  948 - SIGNS & SYMPTOMS W/O MCC   \n",
       "162934  948 - SIGNS & SYMPTOMS W/O MCC   \n",
       "162972  948 - SIGNS & SYMPTOMS W/O MCC   \n",
       "163063  948 - SIGNS & SYMPTOMS W/O MCC   \n",
       "\n",
       "                                     Provider_Name Provider_State  \\\n",
       "162822       MEMORIAL HERMANN TEXAS MEDICAL CENTER             TX   \n",
       "162893                      LAMB HEALTHCARE CENTER             TX   \n",
       "162934       MEDICAL COLLEGE OF VIRGINIA HOSPITALS             VA   \n",
       "162972        UNIVERSITY OF WASHINGTON MEDICAL CTR             WA   \n",
       "163063  TEXAS REGIONAL MEDICAL CENTER AT SUNNYVALE             TX   \n",
       "\n",
       "        Average_Total_Payments     upper_CI  \n",
       "162822                 7910.32  7474.839233  \n",
       "162893                 8241.50  7474.839233  \n",
       "162934                 8760.77  7474.839233  \n",
       "162972                 8771.80  7474.839233  \n",
       "163063                 7663.09  7474.839233  "
      ]
     },
     "execution_count": 26,
     "metadata": {},
     "output_type": "execute_result"
    }
   ],
   "source": [
    "state_drg_95 = data.groupby(['DRG', 'Provider_State'])['Average_Total_Payments']\n",
    "mean = grouped.mean()\n",
    "std = grouped.std()\n",
    "\n",
    "# Create a benchmark within 95% of confidence interval\n",
    "state_drg_95 = pd.DataFrame({'Mean': mean, 'Std': std}).reset_index()\n",
    "\n",
    "# add the new feature average spending to the dataset \n",
    "state_drg_95 = data.merge(state_drg_95, on='DRG', how='left')\n",
    "\n",
    "state_drg_95['upper_CI'] = np.where(state_drg_95['Mean']==0, 0, state_drg_95['Mean'] + 1.96*state_drg_95['Std'])\n",
    "\n",
    "#Filter out average total payment is over 95% of the upper confidence interval\n",
    "outlier = state_drg_95[(state_drg_95['Average_Total_Payments']>state_drg_95['upper_CI']) & (state_drg_95['upper_CI'] >= 0)] \n",
    "filtered_outlier = outlier[['DRG', 'Provider_Name', 'Provider_State', 'Average_Total_Payments', 'upper_CI']]\n",
    "\n",
    "filtered_outlier.tail()"
   ]
  },
  {
   "cell_type": "markdown",
   "metadata": {},
   "source": [
    "### Section 2.2b: State & DRG's Average Payment <a class=\"anchor\" id=\"Section_31\"></a>\n",
    "**Assumption: Hospitals may abuse the resources compared to 2 times of average total payments from its peers under the same DRG and State.**"
   ]
  },
  {
   "cell_type": "code",
   "execution_count": 27,
   "metadata": {},
   "outputs": [],
   "source": [
    "drg_state_avg = data.groupby(['DRG', 'Provider_State'])['Average_Total_Payments'].mean().reset_index()\n",
    "drg_state_avg.head()\n",
    "drg_state_avg.columns = ['DRG', 'Provider_State', 'drg_state_avg_total_payment']\n",
    "\n",
    "drg_state_avg = pd.merge(data, drg_state_avg, how='left', left_on=['DRG', 'Provider_State'], right_on = ['DRG', 'Provider_State'])\n",
    " \n",
    "drg_state_avg['drg_state_avg_ratio'] = np.where(drg_state_avg['drg_state_avg_total_payment']==0,0, drg_state_avg['Average_Total_Payments'] / drg_state_avg['drg_state_avg_total_payment'])"
   ]
  },
  {
   "cell_type": "markdown",
   "metadata": {},
   "source": [
    "The chart also shows few outliers located at the right hand side of the red line while further matching hospitals' state and DRG clinical condition. Also, the distribution here shows a normal distribution."
   ]
  },
  {
   "cell_type": "markdown",
   "metadata": {},
   "source": [
    "### Section 2.2c State and DRG's of Median Average Total Payment <a class=\"anchor\" id=\"Section_31\"></a>\n",
    "**Assumption: Hospitals may abuse the resources compared to 2 times of median total payments from its peers under the same DRG within same state.**"
   ]
  },
  {
   "cell_type": "code",
   "execution_count": 28,
   "metadata": {},
   "outputs": [
    {
     "data": {
      "text/plain": [
       "count    163065.000000\n",
       "mean          1.000000\n",
       "std           0.195274\n",
       "min           0.384805\n",
       "25%           0.880824\n",
       "50%           0.956830\n",
       "75%           1.064688\n",
       "max           7.857934\n",
       "Name: drg_state_median_ratio_amount, dtype: float64"
      ]
     },
     "execution_count": 28,
     "metadata": {},
     "output_type": "execute_result"
    }
   ],
   "source": [
    "med_drg_state = data.groupby(['DRG', 'Provider_State'])['Average_Total_Payments'].mean() \n",
    "med_drg_state = pd.DataFrame(med_drg_state)\n",
    "med_drg_state.columns = ['Median_avg_total_payments']\n",
    "\n",
    "# add the new feature median spending to the dataset \n",
    "med_drg_state = pd.merge(data, med_drg_state, how='left', on=['DRG', 'Provider_State'])\n",
    "\n",
    "med_drg_state['drg_state_median_ratio_amount'] = np.where(med_drg_state['Median_avg_total_payments']==0,0, med_drg_state['Average_Total_Payments'] / med_drg_state['Median_avg_total_payments'])\n",
    "med_drg_state['drg_state_median_ratio_amount'].describe()"
   ]
  },
  {
   "cell_type": "markdown",
   "metadata": {},
   "source": [
    "### Section 2.3a: Hospital_referral_region_desp's 95% CI of Average Total Payment <a class=\"anchor\" id=\"Section_31\"></a>\n",
    "**Assumption: Hospitals may abuse the resources compared to the 95% of average total payments from its peers in the same region.**"
   ]
  },
  {
   "cell_type": "code",
   "execution_count": 29,
   "metadata": {},
   "outputs": [
    {
     "data": {
      "text/html": [
       "<div>\n",
       "<style scoped>\n",
       "    .dataframe tbody tr th:only-of-type {\n",
       "        vertical-align: middle;\n",
       "    }\n",
       "\n",
       "    .dataframe tbody tr th {\n",
       "        vertical-align: top;\n",
       "    }\n",
       "\n",
       "    .dataframe thead th {\n",
       "        text-align: right;\n",
       "    }\n",
       "</style>\n",
       "<table border=\"1\" class=\"dataframe\">\n",
       "  <thead>\n",
       "    <tr style=\"text-align: right;\">\n",
       "      <th></th>\n",
       "      <th>Provider_Name</th>\n",
       "      <th>Hospital_referral_region_desp</th>\n",
       "      <th>Average_Total_Payments</th>\n",
       "      <th>upper_CI</th>\n",
       "    </tr>\n",
       "  </thead>\n",
       "  <tbody>\n",
       "    <tr>\n",
       "      <th>154595</th>\n",
       "      <td>UNIVERSITY OF TEXAS MEDICAL BRANCH GAL</td>\n",
       "      <td>TX - Houston</td>\n",
       "      <td>28615.63</td>\n",
       "      <td>24608.650047</td>\n",
       "    </tr>\n",
       "    <tr>\n",
       "      <th>154837</th>\n",
       "      <td>MEDICAL COLLEGE OF VIRGINIA HOSPITALS</td>\n",
       "      <td>VA - Richmond</td>\n",
       "      <td>28604.07</td>\n",
       "      <td>25314.772289</td>\n",
       "    </tr>\n",
       "    <tr>\n",
       "      <th>154950</th>\n",
       "      <td>ST JOSEPHS HEALTHCARE SYSTEM</td>\n",
       "      <td>WV - Charleston</td>\n",
       "      <td>20435.93</td>\n",
       "      <td>17894.178616</td>\n",
       "    </tr>\n",
       "    <tr>\n",
       "      <th>159452</th>\n",
       "      <td>UNIVERSITY OF MICHIGAN HEALTH SYSTEM</td>\n",
       "      <td>MI - Ann Arbor</td>\n",
       "      <td>33251.14</td>\n",
       "      <td>27827.030713</td>\n",
       "    </tr>\n",
       "    <tr>\n",
       "      <th>162713</th>\n",
       "      <td>CANCER TREATMENT CENTERS OF AMERICA</td>\n",
       "      <td>PA - Philadelphia</td>\n",
       "      <td>28968.20</td>\n",
       "      <td>26668.033820</td>\n",
       "    </tr>\n",
       "  </tbody>\n",
       "</table>\n",
       "</div>"
      ],
      "text/plain": [
       "                                 Provider_Name Hospital_referral_region_desp  \\\n",
       "154595  UNIVERSITY OF TEXAS MEDICAL BRANCH GAL                  TX - Houston   \n",
       "154837   MEDICAL COLLEGE OF VIRGINIA HOSPITALS                 VA - Richmond   \n",
       "154950            ST JOSEPHS HEALTHCARE SYSTEM               WV - Charleston   \n",
       "159452    UNIVERSITY OF MICHIGAN HEALTH SYSTEM                MI - Ann Arbor   \n",
       "162713     CANCER TREATMENT CENTERS OF AMERICA             PA - Philadelphia   \n",
       "\n",
       "        Average_Total_Payments      upper_CI  \n",
       "154595                28615.63  24608.650047  \n",
       "154837                28604.07  25314.772289  \n",
       "154950                20435.93  17894.178616  \n",
       "159452                33251.14  27827.030713  \n",
       "162713                28968.20  26668.033820  "
      ]
     },
     "execution_count": 29,
     "metadata": {},
     "output_type": "execute_result"
    }
   ],
   "source": [
    "grouped = data.groupby(['Hospital_referral_region_desp'])['Average_Total_Payments']\n",
    "mean = grouped.mean()\n",
    "std = grouped.std()\n",
    "\n",
    "# Create a benchmark within 95% of confidence interval\n",
    "hos_region_95 = pd.DataFrame({'Mean': mean, 'Std': std}).reset_index()\n",
    "hos_region_95.head()\n",
    "# add the new feature average spending to the dataset \n",
    "hos_region_95 = data.merge(hos_region_95, on='Hospital_referral_region_desp', how='left')\n",
    "\n",
    "hos_region_95['upper_CI'] = np.where(hos_region_95['Mean']==0, 0, hos_region_95['Mean'] + 1.96*hos_region_95['Std'])\n",
    "\n",
    "#Filter out average total payment is over 95% of the upper confidence interval\n",
    "outlier = hos_region_95[(hos_region_95['Average_Total_Payments']>hos_region_95['upper_CI']) & (hos_region_95['upper_CI'] >= 0)] \n",
    "filtered_outlier = outlier[['Provider_Name', 'Hospital_referral_region_desp', 'Average_Total_Payments', 'upper_CI']]\n",
    "\n",
    "filtered_outlier.tail()"
   ]
  },
  {
   "cell_type": "markdown",
   "metadata": {},
   "source": [
    "### Section 2.3b: Hospital_referral_region_desp's Average Total Payment\n",
    "**Assumpton: Hospitals may abuse the resources compared to 2 times of average total payments from its peers in the same region.**"
   ]
  },
  {
   "cell_type": "code",
   "execution_count": 30,
   "metadata": {},
   "outputs": [],
   "source": [
    "hos_region_avg = data.groupby(['Hospital_referral_region_desp'])['Average_Total_Payments'].mean().reset_index()\n",
    "hos_region_avg.columns = ['Hospital_referral_region_desp','hos_region_avg_total_payment']\n",
    "\n",
    "hos_region_avg = pd.merge(data, hos_region_avg, how='left', on=['Hospital_referral_region_desp'])\n",
    " \n",
    "hos_region_avg['hos_region_avg_ratio'] = np.where(hos_region_avg['hos_region_avg_total_payment']==0,0, hos_region_avg['Average_Total_Payments'] / hos_region_avg['hos_region_avg_total_payment'])"
   ]
  },
  {
   "cell_type": "markdown",
   "metadata": {},
   "source": [
    "The outliers are basically located at the right hand side of the red line while further matching hospitals' region. Also, the distribution here shows a normal distribution."
   ]
  },
  {
   "cell_type": "markdown",
   "metadata": {},
   "source": [
    "### Section 2.3c Hospital_referral_region_desp's of Median Average Total Payment <a class=\"anchor\" id=\"Section_31\"></a>\n",
    "**Assumption: Hospitals may abuse the resources compared to 2 times of median total payments from its peers in the same region.**"
   ]
  },
  {
   "cell_type": "code",
   "execution_count": 31,
   "metadata": {},
   "outputs": [
    {
     "data": {
      "text/plain": [
       "count    163065.000000\n",
       "mean          1.000000\n",
       "std           0.747571\n",
       "min           0.238224\n",
       "25%           0.553887\n",
       "50%           0.754392\n",
       "75%           1.174096\n",
       "max          14.354180\n",
       "Name: hos_median_ratio_amount, dtype: float64"
      ]
     },
     "execution_count": 31,
     "metadata": {},
     "output_type": "execute_result"
    }
   ],
   "source": [
    "med_hos = data.groupby(['Hospital_referral_region_desp'])['Average_Total_Payments'].mean() \n",
    "med_hos = pd.DataFrame(med_hos)\n",
    "med_hos.columns = ['Median_avg_total_payments']\n",
    "\n",
    "# add the new feature median spending to the dataset \n",
    "med_hos = pd.merge(data, med_hos, how='left', on=['Hospital_referral_region_desp'])\n",
    "\n",
    "med_hos['hos_median_ratio_amount'] = np.where(med_hos['Median_avg_total_payments']==0,0, med_hos['Average_Total_Payments'] / med_hos['Median_avg_total_payments'])\n",
    "med_hos['hos_median_ratio_amount'].describe()"
   ]
  },
  {
   "cell_type": "markdown",
   "metadata": {},
   "source": [
    "### Section 2.4a: Total Discharges over 95% of Average Total Payments\n",
    "**Assumpton: If the total discharges are comparably low but the average payment is higher than 95% of confidence interval, the fraudulent transaction might happen.**\n",
    "\n",
    "The total discharges indicate the number of beneficiaries who were released from the inpatient hospital after receiving care."
   ]
  },
  {
   "cell_type": "code",
   "execution_count": 32,
   "metadata": {},
   "outputs": [
    {
     "data": {
      "text/html": [
       "<div>\n",
       "<style scoped>\n",
       "    .dataframe tbody tr th:only-of-type {\n",
       "        vertical-align: middle;\n",
       "    }\n",
       "\n",
       "    .dataframe tbody tr th {\n",
       "        vertical-align: top;\n",
       "    }\n",
       "\n",
       "    .dataframe thead th {\n",
       "        text-align: right;\n",
       "    }\n",
       "</style>\n",
       "<table border=\"1\" class=\"dataframe\">\n",
       "  <thead>\n",
       "    <tr style=\"text-align: right;\">\n",
       "      <th></th>\n",
       "      <th>Provider_Name</th>\n",
       "      <th>Total_Discharges</th>\n",
       "      <th>Average_Total_Payments</th>\n",
       "      <th>upper_CI</th>\n",
       "    </tr>\n",
       "  </thead>\n",
       "  <tbody>\n",
       "    <tr>\n",
       "      <th>1554</th>\n",
       "      <td>JOHNS HOPKINS HOSPITAL, THE</td>\n",
       "      <td>83</td>\n",
       "      <td>24865.61</td>\n",
       "      <td>21460.955088</td>\n",
       "    </tr>\n",
       "    <tr>\n",
       "      <th>1566</th>\n",
       "      <td>JOHNS HOPKINS BAYVIEW MEDICAL CENTER</td>\n",
       "      <td>103</td>\n",
       "      <td>19700.60</td>\n",
       "      <td>15601.612665</td>\n",
       "    </tr>\n",
       "    <tr>\n",
       "      <th>2384</th>\n",
       "      <td>COMMUNITY REGIONAL MEDICAL CENTER</td>\n",
       "      <td>107</td>\n",
       "      <td>18392.02</td>\n",
       "      <td>18119.595713</td>\n",
       "    </tr>\n",
       "    <tr>\n",
       "      <th>2420</th>\n",
       "      <td>JOHN MUIR MEDICAL CENTER - WALNUT CREEK CAMPUS</td>\n",
       "      <td>72</td>\n",
       "      <td>24440.79</td>\n",
       "      <td>21398.792999</td>\n",
       "    </tr>\n",
       "    <tr>\n",
       "      <th>2422</th>\n",
       "      <td>WASHINGTON HOSPITAL</td>\n",
       "      <td>50</td>\n",
       "      <td>22851.80</td>\n",
       "      <td>22057.377241</td>\n",
       "    </tr>\n",
       "  </tbody>\n",
       "</table>\n",
       "</div>"
      ],
      "text/plain": [
       "                                       Provider_Name  Total_Discharges  \\\n",
       "1554                     JOHNS HOPKINS HOSPITAL, THE                83   \n",
       "1566            JOHNS HOPKINS BAYVIEW MEDICAL CENTER               103   \n",
       "2384               COMMUNITY REGIONAL MEDICAL CENTER               107   \n",
       "2420  JOHN MUIR MEDICAL CENTER - WALNUT CREEK CAMPUS                72   \n",
       "2422                             WASHINGTON HOSPITAL                50   \n",
       "\n",
       "      Average_Total_Payments      upper_CI  \n",
       "1554                24865.61  21460.955088  \n",
       "1566                19700.60  15601.612665  \n",
       "2384                18392.02  18119.595713  \n",
       "2420                24440.79  21398.792999  \n",
       "2422                22851.80  22057.377241  "
      ]
     },
     "execution_count": 32,
     "metadata": {},
     "output_type": "execute_result"
    }
   ],
   "source": [
    "grouped = data.groupby(['Total_Discharges'])['Average_Total_Payments']\n",
    "mean = grouped.mean()\n",
    "std = grouped.std()\n",
    "\n",
    "# Create a benchmark within 95% of confidence interval\n",
    "dis_95 = pd.DataFrame({'Mean': mean, 'Std': std})\n",
    "\n",
    "# add the new feature average spending to the dataset \n",
    "dis_95 = data.merge(dis_95, on='Total_Discharges', how='left')\n",
    "\n",
    "dis_95['upper_CI'] = np.where(dis_95['Mean']==0, 0, dis_95['Mean'] + 1.96*dis_95['Std'])\n",
    "\n",
    "#Filter out average total payment is over 95% of the upper confidence interval\n",
    "outlier = dis_95[(dis_95['Average_Total_Payments']>dis_95['upper_CI']) & (dis_95['upper_CI'] >= 0)] \n",
    "filtered_outlier = outlier[['Provider_Name', 'Total_Discharges', 'Average_Total_Payments', 'upper_CI']]\n",
    "\n",
    "filtered_outlier.head()"
   ]
  },
  {
   "cell_type": "markdown",
   "metadata": {},
   "source": [
    "### Section 2.4b: Total Discharges over mean average total payments\n",
    "**Assumpton: If the total discharges are comparably low but the average payment is higher than 2 times of average, the fraudulent transaction might happen.**\n",
    "\n",
    "The total discharges indicate the number of beneficiaries who were released from the inpatient hospital after receiving care."
   ]
  },
  {
   "cell_type": "code",
   "execution_count": 33,
   "metadata": {},
   "outputs": [],
   "source": [
    "dis_avg = data.groupby(['Total_Discharges'])['Average_Total_Payments'].mean().reset_index()\n",
    "dis_avg.head()\n",
    "dis_avg.columns = ['Total_Discharges', 'dis_avg_total_payment']\n",
    "\n",
    "dis_avg = pd.merge(data, dis_avg, how='left', on=['Total_Discharges'])\n",
    " \n",
    "dis_avg['dis_avg_ratio'] = np.where(dis_avg['dis_avg_total_payment']==0,0, dis_avg['Average_Total_Payments'] / dis_avg['dis_avg_total_payment'])"
   ]
  },
  {
   "cell_type": "markdown",
   "metadata": {},
   "source": [
    "### Section 2.4c Total Discharges over Median Average Total Payment <a class=\"anchor\" id=\"Section_31\"></a>\n",
    "**Assumption: Hospitals may abuse the resources compared to 2 times of median total payments compared to same level of total discharges**"
   ]
  },
  {
   "cell_type": "code",
   "execution_count": 34,
   "metadata": {},
   "outputs": [
    {
     "data": {
      "text/plain": [
       "count    163065.000000\n",
       "mean          1.000000\n",
       "std           0.747571\n",
       "min           0.238224\n",
       "25%           0.553887\n",
       "50%           0.754392\n",
       "75%           1.174096\n",
       "max          14.354180\n",
       "Name: med_total_discharges_ratio_amount, dtype: float64"
      ]
     },
     "execution_count": 34,
     "metadata": {},
     "output_type": "execute_result"
    }
   ],
   "source": [
    "med_total_discharges = data.groupby(['Total_Discharges'])['Average_Total_Payments'].mean() \n",
    "med_total_discharges = pd.DataFrame(med_total_discharges)\n",
    "med_total_discharges.columns = ['Median_avg_total_payments']\n",
    "\n",
    "# add the new feature median spending to the dataset \n",
    "med_total_discharges = pd.merge(data, med_total_discharges, how='left', on=['Total_Discharges'])\n",
    "\n",
    "med_total_discharges['med_total_discharges_ratio_amount'] = np.where(med_hos['Median_avg_total_payments']==0,0, med_hos['Average_Total_Payments'] / med_hos['Median_avg_total_payments'])\n",
    "med_total_discharges['med_total_discharges_ratio_amount'].describe()"
   ]
  },
  {
   "cell_type": "markdown",
   "metadata": {},
   "source": [
    "### Section 2.5a: Provider name's 95% CI of Average Total Payment <a class=\"anchor\" id=\"Section_31\"></a>\n",
    "**Assumption: Hospitals may abuse the resources compared to the 95% of average total payments from its own average total payment.**"
   ]
  },
  {
   "cell_type": "code",
   "execution_count": 35,
   "metadata": {},
   "outputs": [
    {
     "data": {
      "text/html": [
       "<div>\n",
       "<style scoped>\n",
       "    .dataframe tbody tr th:only-of-type {\n",
       "        vertical-align: middle;\n",
       "    }\n",
       "\n",
       "    .dataframe tbody tr th {\n",
       "        vertical-align: top;\n",
       "    }\n",
       "\n",
       "    .dataframe thead th {\n",
       "        text-align: right;\n",
       "    }\n",
       "</style>\n",
       "<table border=\"1\" class=\"dataframe\">\n",
       "  <thead>\n",
       "    <tr style=\"text-align: right;\">\n",
       "      <th></th>\n",
       "      <th>Provider_Id</th>\n",
       "      <th>Provider_Name</th>\n",
       "      <th>Provider_State</th>\n",
       "      <th>Average_Total_Payments</th>\n",
       "      <th>upper_CI</th>\n",
       "    </tr>\n",
       "  </thead>\n",
       "  <tbody>\n",
       "    <tr>\n",
       "      <th>154962</th>\n",
       "      <td>510082</td>\n",
       "      <td>SUMMERSVILLE REGIONAL MEDICAL CENTER</td>\n",
       "      <td>WV</td>\n",
       "      <td>11358.28</td>\n",
       "      <td>11318.413858</td>\n",
       "    </tr>\n",
       "    <tr>\n",
       "      <th>155021</th>\n",
       "      <td>520204</td>\n",
       "      <td>WHEATON FRANCISCAN HEALTHCARE- FRANKLIN, INC</td>\n",
       "      <td>WI</td>\n",
       "      <td>11828.43</td>\n",
       "      <td>10893.517928</td>\n",
       "    </tr>\n",
       "    <tr>\n",
       "      <th>155024</th>\n",
       "      <td>530002</td>\n",
       "      <td>CAMPBELL COUNTY MEMORIAL HOSPITAL</td>\n",
       "      <td>WY</td>\n",
       "      <td>19201.38</td>\n",
       "      <td>18760.738641</td>\n",
       "    </tr>\n",
       "    <tr>\n",
       "      <th>155028</th>\n",
       "      <td>670002</td>\n",
       "      <td>SOUTH HAMPTON COMMUNITY HOSPITAL</td>\n",
       "      <td>TX</td>\n",
       "      <td>13671.91</td>\n",
       "      <td>13624.569648</td>\n",
       "    </tr>\n",
       "    <tr>\n",
       "      <th>155043</th>\n",
       "      <td>670060</td>\n",
       "      <td>TEXAS REGIONAL MEDICAL CENTER AT SUNNYVALE</td>\n",
       "      <td>TX</td>\n",
       "      <td>18468.00</td>\n",
       "      <td>18437.346165</td>\n",
       "    </tr>\n",
       "  </tbody>\n",
       "</table>\n",
       "</div>"
      ],
      "text/plain": [
       "       Provider_Id                                 Provider_Name  \\\n",
       "154962      510082          SUMMERSVILLE REGIONAL MEDICAL CENTER   \n",
       "155021      520204  WHEATON FRANCISCAN HEALTHCARE- FRANKLIN, INC   \n",
       "155024      530002             CAMPBELL COUNTY MEMORIAL HOSPITAL   \n",
       "155028      670002              SOUTH HAMPTON COMMUNITY HOSPITAL   \n",
       "155043      670060    TEXAS REGIONAL MEDICAL CENTER AT SUNNYVALE   \n",
       "\n",
       "       Provider_State  Average_Total_Payments      upper_CI  \n",
       "154962             WV                11358.28  11318.413858  \n",
       "155021             WI                11828.43  10893.517928  \n",
       "155024             WY                19201.38  18760.738641  \n",
       "155028             TX                13671.91  13624.569648  \n",
       "155043             TX                18468.00  18437.346165  "
      ]
     },
     "execution_count": 35,
     "metadata": {},
     "output_type": "execute_result"
    }
   ],
   "source": [
    "grouped = data.groupby(['Provider_Name'])['Average_Total_Payments']\n",
    "mean = grouped.mean()\n",
    "std = grouped.std()\n",
    "\n",
    "# Create a benchmark within 95% of confidence interval\n",
    "name_95 = pd.DataFrame({'Mean': mean, 'Std': std}).reset_index()\n",
    "name_95.head()\n",
    "# add the new feature average spending to the dataset \n",
    "name_95 = data.merge(name_95, on='Provider_Name', how='left')\n",
    "\n",
    "name_95['upper_CI'] = np.where(name_95['Mean']==0, 0, name_95['Mean'] + 1.96*name_95['Std'])\n",
    "\n",
    "#Filter out average total payment is over 95% of the upper confidence interval\n",
    "outlier = name_95[(name_95['Average_Total_Payments']>name_95['upper_CI']) & (name_95['upper_CI'] >= 0)] \n",
    "filtered_outlier = outlier[['Provider_Id', 'Provider_Name', 'Provider_State', 'Average_Total_Payments', 'upper_CI']]\n",
    "\n",
    "filtered_outlier.tail()"
   ]
  },
  {
   "cell_type": "markdown",
   "metadata": {},
   "source": [
    "### Section 2.5b: Provider name's Mean Average Total Payment\n",
    "**Assumpton: Hospitals may abuse the resources compared to 2 times of average total payments from its own average total payment.**"
   ]
  },
  {
   "cell_type": "code",
   "execution_count": 36,
   "metadata": {},
   "outputs": [],
   "source": [
    "name_avg = data.groupby(['Provider_Name'])['Average_Total_Payments'].mean().reset_index()\n",
    "name_avg.columns = ['Provider_Name','name_avg_total_payment']\n",
    "\n",
    "name_avg = pd.merge(data, name_avg, how='left', on=['Provider_Name'])\n",
    " \n",
    "name_avg['name_avg_ratio'] = np.where(name_avg['name_avg_total_payment']==0,0, name_avg['Average_Total_Payments'] / name_avg['name_avg_total_payment'])"
   ]
  },
  {
   "cell_type": "markdown",
   "metadata": {},
   "source": [
    "### Section 2.5c Provider Name's Median Average Total Payment <a class=\"anchor\" id=\"Section_31\"></a>\n",
    "**Assumption: Hospitals may abuse the resources compared to 2 times of median total payments under same provider.**"
   ]
  },
  {
   "cell_type": "code",
   "execution_count": 37,
   "metadata": {},
   "outputs": [
    {
     "data": {
      "text/plain": [
       "count    163065.000000\n",
       "mean          1.000000\n",
       "std           0.683008\n",
       "min           0.142642\n",
       "25%           0.578467\n",
       "50%           0.779055\n",
       "75%           1.189022\n",
       "max           8.268243\n",
       "Name: med_hos_ratio_amount, dtype: float64"
      ]
     },
     "execution_count": 37,
     "metadata": {},
     "output_type": "execute_result"
    }
   ],
   "source": [
    "med_name = data.groupby(['Provider_Name'])['Average_Total_Payments'].mean() \n",
    "med_name = pd.DataFrame(med_name)\n",
    "med_name.columns = ['Median_avg_total_payments']\n",
    "\n",
    "# add the new feature median spending to the dataset \n",
    "med_name = pd.merge(data, med_name, how='left', on=['Provider_Name'])\n",
    "\n",
    "med_name['med_hos_ratio_amount'] = np.where(med_name['Median_avg_total_payments']==0,0, med_name['Average_Total_Payments'] / med_name['Median_avg_total_payments'])\n",
    "med_name['med_hos_ratio_amount'].describe()"
   ]
  },
  {
   "cell_type": "markdown",
   "metadata": {},
   "source": [
    "## Section 3. Models\n",
    "\n",
    "### Combinations of Feature\n",
    "These include ratio and upper confidence interval features in combination"
   ]
  },
  {
   "cell_type": "code",
   "execution_count": 91,
   "metadata": {},
   "outputs": [],
   "source": [
    "from sklearn.preprocessing import StandardScaler\n",
    "\n",
    "feature_ratio = pd.concat([drg_avg['drg_avg_ratio'], med_drg['drg_median_ratio_amount'], drg_state_avg['drg_state_avg_ratio'], med_drg_state['drg_state_median_ratio_amount'], \n",
    "    hos_region_avg['hos_region_avg_ratio'], med_hos['hos_median_ratio_amount'], dis_avg['dis_avg_ratio'], med_total_discharges['med_total_discharges_ratio_amount'],\n",
    "    name_avg['name_avg_ratio'], med_name['med_hos_ratio_amount']], axis=1)\n",
    "\n",
    "feature_ratio = StandardScaler().fit_transform(feature_ratio)\n",
    "feature_ratio = pd.DataFrame(feature_ratio)\n",
    "\n",
    "feature_upper = pd.concat([drg_95['upper_CI'], state_drg_95['upper_CI'], hos_region_95['upper_CI'], dis_95['upper_CI'], name_95['upper_CI']], axis=1)\n",
    "feature_upper.columns = ['drg_upper', 'state_drg_upper', 'hos_region_upper', 'dis_upper', 'name_upper']\n",
    "feature_upper = StandardScaler().fit_transform(feature_upper)\n",
    "feature_upper = pd.DataFrame(feature_upper)\n"
   ]
  },
  {
   "cell_type": "markdown",
   "metadata": {},
   "source": [
    "### PCA\n",
    "\n",
    "**Principal Component Analysis:**\n",
    "1. Unsupervised machine learning technique\n",
    "2. Reduce the dimensionality of dataset, especially with the data that consists a large number of variables\n",
    "3. Calculate sets of new variables (principal components) from the linear combinations of the original variables. e.g., rotates the axes to line up better with data.\n",
    "4. All variables should be on the same scale so variables need to be standardised\n",
    "\n",
    "**PCA: Ratio Feature**"
   ]
  },
  {
   "cell_type": "code",
   "execution_count": 57,
   "metadata": {},
   "outputs": [
    {
     "data": {
      "text/html": [
       "<div>\n",
       "<style scoped>\n",
       "    .dataframe tbody tr th:only-of-type {\n",
       "        vertical-align: middle;\n",
       "    }\n",
       "\n",
       "    .dataframe tbody tr th {\n",
       "        vertical-align: top;\n",
       "    }\n",
       "\n",
       "    .dataframe thead th {\n",
       "        text-align: right;\n",
       "    }\n",
       "</style>\n",
       "<table border=\"1\" class=\"dataframe\">\n",
       "  <thead>\n",
       "    <tr style=\"text-align: right;\">\n",
       "      <th></th>\n",
       "      <th>0</th>\n",
       "      <th>1</th>\n",
       "      <th>2</th>\n",
       "      <th>3</th>\n",
       "      <th>4</th>\n",
       "      <th>5</th>\n",
       "      <th>6</th>\n",
       "      <th>7</th>\n",
       "      <th>8</th>\n",
       "      <th>9</th>\n",
       "    </tr>\n",
       "  </thead>\n",
       "  <tbody>\n",
       "    <tr>\n",
       "      <th>0</th>\n",
       "      <td>-1.020776</td>\n",
       "      <td>-0.325024</td>\n",
       "      <td>-0.743248</td>\n",
       "      <td>0.275435</td>\n",
       "      <td>0.047151</td>\n",
       "      <td>4.685933e-14</td>\n",
       "      <td>-1.291525e-14</td>\n",
       "      <td>-2.860013e-15</td>\n",
       "      <td>-2.216628e-15</td>\n",
       "      <td>3.392597e-35</td>\n",
       "    </tr>\n",
       "    <tr>\n",
       "      <th>1</th>\n",
       "      <td>-0.971876</td>\n",
       "      <td>-0.379635</td>\n",
       "      <td>-0.729659</td>\n",
       "      <td>-0.161161</td>\n",
       "      <td>0.029030</td>\n",
       "      <td>-3.227726e-17</td>\n",
       "      <td>-1.639086e-17</td>\n",
       "      <td>-1.784001e-17</td>\n",
       "      <td>-1.275620e-17</td>\n",
       "      <td>-1.124299e-34</td>\n",
       "    </tr>\n",
       "    <tr>\n",
       "      <th>2</th>\n",
       "      <td>-1.434572</td>\n",
       "      <td>-0.737325</td>\n",
       "      <td>-0.632307</td>\n",
       "      <td>0.144131</td>\n",
       "      <td>0.024983</td>\n",
       "      <td>2.194646e-15</td>\n",
       "      <td>-2.978258e-15</td>\n",
       "      <td>-3.309117e-15</td>\n",
       "      <td>1.270108e-14</td>\n",
       "      <td>-9.061599e-35</td>\n",
       "    </tr>\n",
       "    <tr>\n",
       "      <th>3</th>\n",
       "      <td>-1.446123</td>\n",
       "      <td>-0.759944</td>\n",
       "      <td>-0.625586</td>\n",
       "      <td>0.146991</td>\n",
       "      <td>0.029742</td>\n",
       "      <td>-5.949076e-17</td>\n",
       "      <td>-9.807633e-19</td>\n",
       "      <td>-3.030054e-17</td>\n",
       "      <td>-2.646582e-17</td>\n",
       "      <td>-1.057284e-33</td>\n",
       "    </tr>\n",
       "    <tr>\n",
       "      <th>4</th>\n",
       "      <td>-1.200945</td>\n",
       "      <td>-0.479696</td>\n",
       "      <td>-0.699199</td>\n",
       "      <td>0.042083</td>\n",
       "      <td>0.026014</td>\n",
       "      <td>3.339440e-14</td>\n",
       "      <td>1.686437e-14</td>\n",
       "      <td>3.023882e-15</td>\n",
       "      <td>1.746704e-15</td>\n",
       "      <td>-2.170690e-34</td>\n",
       "    </tr>\n",
       "  </tbody>\n",
       "</table>\n",
       "</div>"
      ],
      "text/plain": [
       "          0         1         2         3         4             5  \\\n",
       "0 -1.020776 -0.325024 -0.743248  0.275435  0.047151  4.685933e-14   \n",
       "1 -0.971876 -0.379635 -0.729659 -0.161161  0.029030 -3.227726e-17   \n",
       "2 -1.434572 -0.737325 -0.632307  0.144131  0.024983  2.194646e-15   \n",
       "3 -1.446123 -0.759944 -0.625586  0.146991  0.029742 -5.949076e-17   \n",
       "4 -1.200945 -0.479696 -0.699199  0.042083  0.026014  3.339440e-14   \n",
       "\n",
       "              6             7             8             9  \n",
       "0 -1.291525e-14 -2.860013e-15 -2.216628e-15  3.392597e-35  \n",
       "1 -1.639086e-17 -1.784001e-17 -1.275620e-17 -1.124299e-34  \n",
       "2 -2.978258e-15 -3.309117e-15  1.270108e-14 -9.061599e-35  \n",
       "3 -9.807633e-19 -3.030054e-17 -2.646582e-17 -1.057284e-33  \n",
       "4  1.686437e-14  3.023882e-15  1.746704e-15 -2.170690e-34  "
      ]
     },
     "execution_count": 57,
     "metadata": {},
     "output_type": "execute_result"
    }
   ],
   "source": [
    "from sklearn.decomposition import PCA\n",
    "\n",
    "# feature_ratio \n",
    "pca = PCA()\n",
    "r_pca = pca.fit_transform(feature_ratio)\n",
    "r_pca = pd.DataFrame(r_pca)\n",
    "r_pca.head()"
   ]
  },
  {
   "cell_type": "code",
   "execution_count": 58,
   "metadata": {},
   "outputs": [
    {
     "data": {
      "text/plain": [
       "array([6.03956711e-01, 3.45029249e-01, 3.65460748e-02, 1.08404227e-02,\n",
       "       3.62754286e-03, 2.21567768e-33, 3.48140294e-34, 1.69563823e-34,\n",
       "       1.32026086e-34, 2.80204668e-68])"
      ]
     },
     "execution_count": 58,
     "metadata": {},
     "output_type": "execute_result"
    }
   ],
   "source": [
    "# The ratio feature variance explained by each principal component\n",
    "explained_variance = pca.explained_variance_ratio_\n",
    "explained_variance"
   ]
  },
  {
   "cell_type": "markdown",
   "metadata": {},
   "source": [
    "The first principal component accounts for 60.4% of the variance, while the second accounts for 34.5%. Thus, the first and second principal components capture 94.9% of the information in total, which is nearly 100%."
   ]
  },
  {
   "cell_type": "code",
   "execution_count": 110,
   "metadata": {},
   "outputs": [
    {
     "data": {
      "image/png": "[encoded data removed]",
      "text/plain": [
       "<Figure size 576x432 with 1 Axes>"
      ]
     },
     "metadata": {
      "needs_background": "light"
     },
     "output_type": "display_data"
    }
   ],
   "source": [
    "pc1 = r_pca.iloc[:, 0]\n",
    "pc2 = r_pca.iloc[:, 1]\n",
    "\n",
    "# The eigenvectors from the PCA object\n",
    "eigenvectors = pca.components_\n",
    "\n",
    "plt.figure(figsize=(8, 6))\n",
    "\n",
    "# Scatter plot\n",
    "plt.scatter(pc1, pc2, alpha=0.2)\n",
    "scale_factor = 8 #length of the eigenvector\n",
    "\n",
    "# Adding eigenvectors scaled by the square root of the corresponding eigenvalue\n",
    "for length, vector in zip(pca.explained_variance_, eigenvectors):\n",
    "    v = vector * scale_factor # to scale the vectors\n",
    "    plt.quiver(pca.mean_[0], pca.mean_[1], v[0], v[1], angles='xy', scale_units='xy', scale=1, color='r')\n",
    "\n",
    "plt.xlabel('PC1')\n",
    "plt.ylabel('PC2')\n",
    "plt.title('Scatterplot of First 2 Principal Components from Ratio Feature')\n",
    "\n",
    "plt.show()\n"
   ]
  },
  {
   "cell_type": "markdown",
   "metadata": {},
   "source": [
    "The normal data points will line up along the new axes' eigenvectors, which have low eigenvalues. The outliers are those high eigenvalues that far from the eigenvectors. As a result, an indicator of an outlier can be found in the large distances between each data point and its eigenvectors. The scatterplot shows the first and second principal components which capture nearly 95% of the information. The outliers are those with a wide distance from the red eigenvectors. The top right corner data cluster could be seemed as suspicious within 5% because 10% is quite high for most of the application."
   ]
  },
  {
   "cell_type": "markdown",
   "metadata": {},
   "source": [
    "**PCA: Upper Confidence Interval Feature**"
   ]
  },
  {
   "cell_type": "code",
   "execution_count": 93,
   "metadata": {},
   "outputs": [
    {
     "data": {
      "text/html": [
       "<div>\n",
       "<style scoped>\n",
       "    .dataframe tbody tr th:only-of-type {\n",
       "        vertical-align: middle;\n",
       "    }\n",
       "\n",
       "    .dataframe tbody tr th {\n",
       "        vertical-align: top;\n",
       "    }\n",
       "\n",
       "    .dataframe thead th {\n",
       "        text-align: right;\n",
       "    }\n",
       "</style>\n",
       "<table border=\"1\" class=\"dataframe\">\n",
       "  <thead>\n",
       "    <tr style=\"text-align: right;\">\n",
       "      <th></th>\n",
       "      <th>0</th>\n",
       "      <th>1</th>\n",
       "      <th>2</th>\n",
       "      <th>3</th>\n",
       "      <th>4</th>\n",
       "    </tr>\n",
       "  </thead>\n",
       "  <tbody>\n",
       "    <tr>\n",
       "      <th>0</th>\n",
       "      <td>-1.050011</td>\n",
       "      <td>-0.699630</td>\n",
       "      <td>2.271390</td>\n",
       "      <td>0.613869</td>\n",
       "      <td>6.861826e-14</td>\n",
       "    </tr>\n",
       "    <tr>\n",
       "      <th>1</th>\n",
       "      <td>-1.050131</td>\n",
       "      <td>-1.679921</td>\n",
       "      <td>-0.441838</td>\n",
       "      <td>-0.050313</td>\n",
       "      <td>1.445900e-17</td>\n",
       "    </tr>\n",
       "    <tr>\n",
       "      <th>2</th>\n",
       "      <td>-0.832097</td>\n",
       "      <td>-1.089604</td>\n",
       "      <td>-0.527661</td>\n",
       "      <td>0.612469</td>\n",
       "      <td>1.297730e-17</td>\n",
       "    </tr>\n",
       "    <tr>\n",
       "      <th>3</th>\n",
       "      <td>-0.849106</td>\n",
       "      <td>-1.068357</td>\n",
       "      <td>-0.357330</td>\n",
       "      <td>0.568249</td>\n",
       "      <td>1.303932e-17</td>\n",
       "    </tr>\n",
       "    <tr>\n",
       "      <th>4</th>\n",
       "      <td>-0.913574</td>\n",
       "      <td>-1.287536</td>\n",
       "      <td>-0.440485</td>\n",
       "      <td>0.367316</td>\n",
       "      <td>1.351295e-17</td>\n",
       "    </tr>\n",
       "  </tbody>\n",
       "</table>\n",
       "</div>"
      ],
      "text/plain": [
       "          0         1         2         3             4\n",
       "0 -1.050011 -0.699630  2.271390  0.613869  6.861826e-14\n",
       "1 -1.050131 -1.679921 -0.441838 -0.050313  1.445900e-17\n",
       "2 -0.832097 -1.089604 -0.527661  0.612469  1.297730e-17\n",
       "3 -0.849106 -1.068357 -0.357330  0.568249  1.303932e-17\n",
       "4 -0.913574 -1.287536 -0.440485  0.367316  1.351295e-17"
      ]
     },
     "execution_count": 93,
     "metadata": {},
     "output_type": "execute_result"
    }
   ],
   "source": [
    "# feature_upper\n",
    "pca = PCA()\n",
    "feature_upper = feature_upper.fillna(feature_upper.mean()) #since pca.fit could not handle NaN values and I want to make PCs in the same shape\n",
    "u_pca = pca.fit_transform(feature_upper)\n",
    "u_pca = pd.DataFrame(u_pca)\n",
    "u_pca.head()"
   ]
  },
  {
   "cell_type": "markdown",
   "metadata": {},
   "source": [
    "PCA provides same number of principal components as the number of original features."
   ]
  },
  {
   "cell_type": "code",
   "execution_count": 94,
   "metadata": {},
   "outputs": [
    {
     "data": {
      "text/plain": [
       "array([4.10827468e-01, 3.15237660e-01, 1.96701322e-01, 7.72335501e-02,\n",
       "       5.91154509e-33])"
      ]
     },
     "execution_count": 94,
     "metadata": {},
     "output_type": "execute_result"
    }
   ],
   "source": [
    "# The upper feature variance explained by each principal component\n",
    "explained_variance = pca.explained_variance_ratio_\n",
    "explained_variance"
   ]
  },
  {
   "cell_type": "markdown",
   "metadata": {},
   "source": [
    "The first principal component accounts for 41.1% of the variance, while the second and third components account for 31.5% and 19.7%. Thus, the first, second, and third principal components capture most of the information with 92.3%, which is converged to 100%."
   ]
  },
  {
   "cell_type": "code",
   "execution_count": 109,
   "metadata": {},
   "outputs": [
    {
     "data": {
      "image/png": "[encoded data removed]",
      "text/plain": [
       "<Figure size 576x432 with 1 Axes>"
      ]
     },
     "metadata": {
      "needs_background": "light"
     },
     "output_type": "display_data"
    }
   ],
   "source": [
    "import numpy as np\n",
    "import statsmodels.api as sm\n",
    "from mpl_toolkits.mplot3d import Axes3D\n",
    "import matplotlib.pyplot as plt\n",
    "\n",
    "# Assuming pc1, pc2, pc3 are your data\n",
    "pc1 = u_pca.iloc[:, 0]\n",
    "pc2 = u_pca.iloc[:, 1]\n",
    "pc3 = u_pca.iloc[:, 2]\n",
    "\n",
    "# Fit the plane using multiple regression\n",
    "eigenvectors = pca.components_\n",
    "\n",
    "fig = plt.figure(figsize=(8, 6))\n",
    "ax = fig.add_subplot(111, projection='3d')\n",
    "\n",
    "# Scatter plot\n",
    "ax.scatter(pc1, pc2, pc3, alpha=0.2)\n",
    "\n",
    "# Plot the eigenvectors originating from the mean of the data\n",
    "mean_x, mean_y, mean_z = np.mean(pc1), np.mean(pc2), np.mean(pc3)\n",
    "\n",
    "scale_factor = 9\n",
    "\n",
    "for v in eigenvectors:\n",
    "    ax.quiver(mean_x, mean_y, mean_z, v[0]*scale_factor, v[1]*scale_factor, v[2]*scale_factor, color='red')\n",
    "\n",
    "ax.set_xlabel('Principal Component 1')\n",
    "ax.set_ylabel('Principal Component 2')\n",
    "ax.set_zlabel('Principal Component 3')\n",
    "\n",
    "plt.title('3D Scatterplot of First 3 Principal Components from Upper Confidence Interval Feature')\n",
    "plt.show()\n"
   ]
  },
  {
   "cell_type": "markdown",
   "metadata": {},
   "source": [
    "The first 3 principal components capture nearly 92% of the information in upper confidence interval feature so I draw a 3D scatterplot to show them altogether. The outliers are those far away from the red eigenvectors. \n"
   ]
  },
  {
   "cell_type": "markdown",
   "metadata": {},
   "source": [
    "### KNN\n",
    "\n",
    "**K-Nearest Neighbour Algorithm:**\n",
    "1. Usually supervised machine learning method whereas its computations of the distance to the k neighbours do not need y target variable.\n",
    "2. Compute the distance (e.g., Euclidean distance) to the k neighbours and use distance to define outlier scores.\n",
    "3. No parameters needed to tune to make the performance better.\n",
    "\n",
    "**Ratio Feature**"
   ]
  },
  {
   "cell_type": "code",
   "execution_count": 84,
   "metadata": {},
   "outputs": [
    {
     "name": "stdout",
     "output_type": "stream",
     "text": [
      "The ratio feature data: {0: 155859, 1: 7206}\n",
      "The threshold for the defined comtanimation rate: 0.4518582527344378\n"
     ]
    }
   ],
   "source": [
    "from pyod.models.knn import KNN\n",
    "knn = KNN(contamination=0.05)\n",
    "\n",
    "# Ratio Feature\n",
    "knn.fit(feature_ratio)\n",
    "\n",
    "# Training data\n",
    "r_scores = knn.decision_function(feature_ratio)\n",
    "r_pred = knn.predict(feature_ratio)\n",
    "\n",
    "\n",
    "def count_stat(vector):\n",
    "    # Because it is '0' and '1', we can run a count statistic. \n",
    "    unique, counts = np.unique(vector, return_counts=True)\n",
    "    return dict(zip(unique, counts))\n",
    "\n",
    "print(\"The ratio feature data:\", count_stat(r_pred))\n",
    "# Threshold for the defined comtanimation rate\n",
    "print(\"The threshold for the defined comtanimation rate:\" , knn.threshold_)"
   ]
  },
  {
   "cell_type": "markdown",
   "metadata": {},
   "source": [
    "**Upper Confidence Interval Feature**"
   ]
  },
  {
   "cell_type": "code",
   "execution_count": 111,
   "metadata": {},
   "outputs": [
    {
     "name": "stdout",
     "output_type": "stream",
     "text": [
      "The upper feature data: {0: 156501, 1: 6564}\n",
      "The threshold for the defined comtanimation rate: 0.2893458439245031\n"
     ]
    }
   ],
   "source": [
    "knn = KNN(contamination=0.05)\n",
    "\n",
    "# Upper Feature\n",
    "knn.fit(feature_upper)\n",
    "\n",
    "# Training data\n",
    "u_scores = knn.decision_function(feature_upper)\n",
    "u_pred = knn.predict(feature_upper)\n",
    "\n",
    "def count_stat(vector):\n",
    "    # Because it is '0' and '1', we can run a count statistic. \n",
    "    unique, counts = np.unique(vector, return_counts=True)\n",
    "    return dict(zip(unique, counts))\n",
    "\n",
    "print(\"The upper feature data:\", count_stat(u_pred))\n",
    "# Threshold for the defined comtanimation rate\n",
    "print(\"The threshold for the defined comtanimation rate:\" , knn.threshold_)"
   ]
  },
  {
   "cell_type": "markdown",
   "metadata": {},
   "source": [
    "### Reasonable Benchmark Visualisation"
   ]
  },
  {
   "cell_type": "code",
   "execution_count": 117,
   "metadata": {},
   "outputs": [
    {
     "data": {
      "text/plain": [
       "Text(0.29, 0, '0.29')"
      ]
     },
     "execution_count": 117,
     "metadata": {},
     "output_type": "execute_result"
    },
    {
     "data": {
      "image/png": "[encoded data removed]",
      "text/plain": [
       "<Figure size 1728x576 with 2 Axes>"
      ]
     },
     "metadata": {
      "needs_background": "light"
     },
     "output_type": "display_data"
    }
   ],
   "source": [
    "fig, (ax1, ax2) = plt.subplots(1, 2, figsize=(24, 8))\n",
    "\n",
    "ax1.hist(r_scores, bins='auto')\n",
    "ax1.set_title(\"KNN's Histogram with 'auto' Bins in Ratio Feature\")\n",
    "ax1.set_xlabel(\"KNN's ratio feature outlier score\")\n",
    "ax1.axvline(x=0.45, color='red', linestyle='--')\n",
    "ax1.text(0.45, 0, \"0.45\", ha='right', va='bottom', color='red')\n",
    "\n",
    "ax2.hist(u_scores, bins='auto')\n",
    "ax2.set_title(\"KNN's Histogram with 'auto' Bins in Upper Confidence Interval Feature\")\n",
    "ax2.set_xlabel(\"KNN's upper confidence interval feature outlier score\")\n",
    "ax2.axvline(x=0.29, color='red', linestyle='--')\n",
    "ax2.text(0.29, 0, \"0.29\", ha='left', va='bottom', color='red')"
   ]
  },
  {
   "cell_type": "markdown",
   "metadata": {},
   "source": [
    "Both figures above present the outlier scores. The histogram of ratio feature on the left, which the optimal threshold can be 0.45 and if the values are greater than this benchmark, they are outliers. The right-hand side graph is the histogram of upper confidence interval feature, which the benchmark line is suggested as 0.29. The values that greater than this could be treated as outliers."
   ]
  },
  {
   "cell_type": "markdown",
   "metadata": {},
   "source": [
    "### Summary Statistics of The Normal and The Abnormal Groups\n",
    "\n",
    "**Ratio Feature**"
   ]
  },
  {
   "cell_type": "code",
   "execution_count": 118,
   "metadata": {},
   "outputs": [
    {
     "data": {
      "text/html": [
       "<div>\n",
       "<style scoped>\n",
       "    .dataframe tbody tr th:only-of-type {\n",
       "        vertical-align: middle;\n",
       "    }\n",
       "\n",
       "    .dataframe tbody tr th {\n",
       "        vertical-align: top;\n",
       "    }\n",
       "\n",
       "    .dataframe thead th {\n",
       "        text-align: right;\n",
       "    }\n",
       "</style>\n",
       "<table border=\"1\" class=\"dataframe\">\n",
       "  <thead>\n",
       "    <tr style=\"text-align: right;\">\n",
       "      <th></th>\n",
       "      <th>Group</th>\n",
       "      <th>Count</th>\n",
       "      <th>Count %</th>\n",
       "      <th>0</th>\n",
       "      <th>1</th>\n",
       "      <th>2</th>\n",
       "      <th>3</th>\n",
       "      <th>4</th>\n",
       "      <th>5</th>\n",
       "      <th>6</th>\n",
       "      <th>7</th>\n",
       "      <th>8</th>\n",
       "      <th>9</th>\n",
       "      <th>Anomaly_Score</th>\n",
       "    </tr>\n",
       "  </thead>\n",
       "  <tbody>\n",
       "    <tr>\n",
       "      <th>0</th>\n",
       "      <td>Normal</td>\n",
       "      <td>143658</td>\n",
       "      <td>88.098611</td>\n",
       "      <td>-0.14</td>\n",
       "      <td>-0.14</td>\n",
       "      <td>-0.12</td>\n",
       "      <td>-0.12</td>\n",
       "      <td>-0.23</td>\n",
       "      <td>-0.23</td>\n",
       "      <td>-0.24</td>\n",
       "      <td>-0.23</td>\n",
       "      <td>-0.21</td>\n",
       "      <td>-0.21</td>\n",
       "      <td>0.13</td>\n",
       "    </tr>\n",
       "    <tr>\n",
       "      <th>1</th>\n",
       "      <td>Outlier</td>\n",
       "      <td>19407</td>\n",
       "      <td>11.901389</td>\n",
       "      <td>1.05</td>\n",
       "      <td>1.05</td>\n",
       "      <td>0.90</td>\n",
       "      <td>0.90</td>\n",
       "      <td>1.69</td>\n",
       "      <td>1.69</td>\n",
       "      <td>1.79</td>\n",
       "      <td>1.69</td>\n",
       "      <td>1.57</td>\n",
       "      <td>1.57</td>\n",
       "      <td>0.50</td>\n",
       "    </tr>\n",
       "  </tbody>\n",
       "</table>\n",
       "</div>"
      ],
      "text/plain": [
       "     Group   Count    Count %     0     1     2     3     4     5     6     7  \\\n",
       "0   Normal  143658  88.098611 -0.14 -0.14 -0.12 -0.12 -0.23 -0.23 -0.24 -0.23   \n",
       "1  Outlier   19407  11.901389  1.05  1.05  0.90  0.90  1.69  1.69  1.79  1.69   \n",
       "\n",
       "      8     9  Anomaly_Score  \n",
       "0 -0.21 -0.21           0.13  \n",
       "1  1.57  1.57           0.50  "
      ]
     },
     "execution_count": 118,
     "metadata": {},
     "output_type": "execute_result"
    }
   ],
   "source": [
    "# ratio feature\n",
    "threshold = knn.threshold_ # Or other value from the above histogram\n",
    "\n",
    "def descriptive_stat_threshold(df,pred_score, threshold):\n",
    "    # Let's see how many '0's and '1's.\n",
    "    df = pd.DataFrame(df)\n",
    "    df['Anomaly_Score'] = pred_score\n",
    "    df['Group'] = np.where(df['Anomaly_Score']< threshold, 'Normal', 'Outlier')\n",
    "\n",
    "    # Now let's show the summary statistics:\n",
    "    cnt = df.groupby('Group')['Anomaly_Score'].count().reset_index().rename(columns={'Anomaly_Score':'Count'})\n",
    "    cnt['Count %'] = (cnt['Count'] / cnt['Count'].sum()) * 100 # The count and count %\n",
    "    stat = df.groupby('Group').mean().round(2).reset_index() # The avg.\n",
    "    stat = cnt.merge(stat, left_on='Group',right_on='Group') # Put the count and the avg. together\n",
    "    return (stat)\n",
    "\n",
    "\n",
    "descriptive_stat_threshold(feature_ratio, r_scores, threshold)"
   ]
  },
  {
   "cell_type": "markdown",
   "metadata": {},
   "source": [
    "The outliers of the ratio feature occupy roughly 11.9% of the dataset with a low anomaly score 0.5, which means the observation within a dataset slightly deviates from the expected pattern."
   ]
  },
  {
   "cell_type": "markdown",
   "metadata": {},
   "source": [
    "**Upper Confidence Interval Feature**"
   ]
  },
  {
   "cell_type": "code",
   "execution_count": 119,
   "metadata": {},
   "outputs": [
    {
     "data": {
      "text/html": [
       "<div>\n",
       "<style scoped>\n",
       "    .dataframe tbody tr th:only-of-type {\n",
       "        vertical-align: middle;\n",
       "    }\n",
       "\n",
       "    .dataframe tbody tr th {\n",
       "        vertical-align: top;\n",
       "    }\n",
       "\n",
       "    .dataframe thead th {\n",
       "        text-align: right;\n",
       "    }\n",
       "</style>\n",
       "<table border=\"1\" class=\"dataframe\">\n",
       "  <thead>\n",
       "    <tr style=\"text-align: right;\">\n",
       "      <th></th>\n",
       "      <th>Group</th>\n",
       "      <th>Count</th>\n",
       "      <th>Count %</th>\n",
       "      <th>0</th>\n",
       "      <th>1</th>\n",
       "      <th>2</th>\n",
       "      <th>3</th>\n",
       "      <th>4</th>\n",
       "      <th>Anomaly_Score</th>\n",
       "    </tr>\n",
       "  </thead>\n",
       "  <tbody>\n",
       "    <tr>\n",
       "      <th>0</th>\n",
       "      <td>Normal</td>\n",
       "      <td>156501</td>\n",
       "      <td>95.974611</td>\n",
       "      <td>-0.05</td>\n",
       "      <td>-0.05</td>\n",
       "      <td>-0.05</td>\n",
       "      <td>0.03</td>\n",
       "      <td>-0.05</td>\n",
       "      <td>0.12</td>\n",
       "    </tr>\n",
       "    <tr>\n",
       "      <th>1</th>\n",
       "      <td>Outlier</td>\n",
       "      <td>6564</td>\n",
       "      <td>4.025389</td>\n",
       "      <td>1.17</td>\n",
       "      <td>1.17</td>\n",
       "      <td>1.13</td>\n",
       "      <td>-0.75</td>\n",
       "      <td>1.26</td>\n",
       "      <td>0.42</td>\n",
       "    </tr>\n",
       "  </tbody>\n",
       "</table>\n",
       "</div>"
      ],
      "text/plain": [
       "     Group   Count    Count %     0     1     2     3     4  Anomaly_Score\n",
       "0   Normal  156501  95.974611 -0.05 -0.05 -0.05  0.03 -0.05           0.12\n",
       "1  Outlier    6564   4.025389  1.17  1.17  1.13 -0.75  1.26           0.42"
      ]
     },
     "execution_count": 119,
     "metadata": {},
     "output_type": "execute_result"
    }
   ],
   "source": [
    "threshold = knn.threshold_ # Or other value from the above histogram\n",
    "\n",
    "def descriptive_stat_threshold(df,pred_score, threshold):\n",
    "    # Let's see how many '0's and '1's.\n",
    "    df = pd.DataFrame(df)\n",
    "    df['Anomaly_Score'] = pred_score\n",
    "    df['Group'] = np.where(df['Anomaly_Score']< threshold, 'Normal', 'Outlier')\n",
    "\n",
    "    # Now let's show the summary statistics:\n",
    "    cnt = df.groupby('Group')['Anomaly_Score'].count().reset_index().rename(columns={'Anomaly_Score':'Count'})\n",
    "    cnt['Count %'] = (cnt['Count'] / cnt['Count'].sum()) * 100 # The count and count %\n",
    "    stat = df.groupby('Group').mean().round(2).reset_index() # The avg.\n",
    "    stat = cnt.merge(stat, left_on='Group',right_on='Group') # Put the count and the avg. together\n",
    "    return (stat)\n",
    "\n",
    "\n",
    "descriptive_stat_threshold(feature_upper, u_scores, threshold)"
   ]
  },
  {
   "cell_type": "markdown",
   "metadata": {},
   "source": [
    "The outliers of the upper confidence interval feature occupy nearly 4% of the dataset with a low anomaly score 0.42, which also shows that the observations have a slight deviation from the pattern established by the majority of the data points."
   ]
  },
  {
   "cell_type": "markdown",
   "metadata": {},
   "source": [
    "### Visualise KNN Anomalous Clusters\n",
    "\n",
    "**Ratio Feature**"
   ]
  },
  {
   "cell_type": "code",
   "execution_count": 124,
   "metadata": {},
   "outputs": [
    {
     "data": {
      "image/png": "[encoded data removed]",
      "text/plain": [
       "<Figure size 432x288 with 1 Axes>"
      ]
     },
     "metadata": {
      "needs_background": "light"
     },
     "output_type": "display_data"
    }
   ],
   "source": [
    "sns.scatterplot(x=0, y=1, hue='Group', data=feature_ratio)\n",
    "\n",
    "plt.title('Scatterplot with Normal & Outliers in Ratio Feature')\n",
    "plt.xlabel('Principal Component 1')\n",
    "plt.ylabel('Principal Component 2')\n",
    "\n",
    "plt.show()\n"
   ]
  },
  {
   "cell_type": "markdown",
   "metadata": {},
   "source": [
    "If the distance to its kth nearest neighbour exceeds some threshold, an observation is considered anomalous, that’s why an isolated points are usually deemed as anomalies. To identify the clusters of outliers from KNN, the outliers show in orange in ratio feature apart from the origin but also the location far from the axes origin. "
   ]
  },
  {
   "cell_type": "markdown",
   "metadata": {},
   "source": [
    "**Upper Confidence Interval Feature**"
   ]
  },
  {
   "cell_type": "code",
   "execution_count": 132,
   "metadata": {},
   "outputs": [
    {
     "data": {
      "image/png": "[encoded data removed]",
      "text/plain": [
       "<Figure size 864x576 with 1 Axes>"
      ]
     },
     "metadata": {
      "needs_background": "light"
     },
     "output_type": "display_data"
    }
   ],
   "source": [
    "import matplotlib.patches as mpatches\n",
    "fig = plt.figure(figsize=(12, 8))\n",
    "ax = fig.add_subplot(111, projection='3d')\n",
    "\n",
    "# Create a color map for the 'Group' column\n",
    "colors = {'Normal': 'blue', 'Outlier': 'red'}\n",
    "\n",
    "# Scatter plot with 'Group' column for color\n",
    "scatter = ax.scatter(feature_upper[0], feature_upper[1], feature_upper[2], c=feature_upper['Group'].apply(lambda x: colors[x]))\n",
    "\n",
    "ax.set_xlabel('Principal Component 1')\n",
    "ax.set_ylabel('Principal Component 2')\n",
    "ax.set_zlabel('Principal Component 3')\n",
    "\n",
    "legend_elements = [mpatches.Patch(color=color, label=group) for group, color in colors.items()]\n",
    "ax.legend(handles=legend_elements, loc='best')\n",
    "\n",
    "\n",
    "plt.title('Scatterplot with Normal & Outliers in Upper Confidence Interval Feature')\n",
    "\n",
    "plt.show()\n"
   ]
  },
  {
   "cell_type": "markdown",
   "metadata": {},
   "source": [
    "In upper confidence interval feature, the anomalous clusters mainly focus on the middle of the 3D scatterplot which are filled in red. The reason for these outliers can be a lot of reasons, for example, data collection mistake, etc."
   ]
  }
 ],
 "metadata": {
  "kernelspec": {
   "display_name": "Python 3.9.12 64-bit ('anaconda')",
   "language": "python",
   "name": "python3"
  },
  "language_info": {
   "codemirror_mode": {
    "name": "ipython",
    "version": 3
   },
   "file_extension": ".py",
   "mimetype": "text/x-python",
   "name": "python",
   "nbconvert_exporter": "python",
   "pygments_lexer": "ipython3",
   "version": "3.9.12"
  },
  "orig_nbformat": 4,
  "vscode": {
   "interpreter": {
    "hash": "e358bd2b65f232ebd2cb8f886f874cd79d5edb3be24198e458ad61fb5fd5af21"
   }
  }
 },
 "nbformat": 4,
 "nbformat_minor": 2
}
