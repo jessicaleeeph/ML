{
 "cells": [
  {
   "cell_type": "markdown",
   "metadata": {
    "id": "jCY8CL01BLrK"
   },
   "source": [
    "# Load original data file into python"
   ]
  },
  {
   "cell_type": "code",
   "execution_count": 1,
   "metadata": {
    "id": "iLsffvQ2BLrN"
   },
   "outputs": [],
   "source": [
    "#!pip install openpyxl\n",
    "import pandas as pd\n",
    "import numpy as np\n",
    "import random"
   ]
  },
  {
   "cell_type": "code",
   "execution_count": 2,
   "metadata": {
    "id": "KthoQdlKBLrO"
   },
   "outputs": [],
   "source": [
    "customer_df = pd.read_csv('/Users/dajojo/Downloads/Customer-Lookup.csv')\n",
    "trans_df = pd.read_csv('/Users/dajojo/Downloads/FoodMart-Transactions-1997.csv')\n",
    "product_df = pd.read_csv('/Users/dajojo/Downloads/Product-Lookup.csv')\n",
    "store_df = pd.read_csv('/Users/dajojo/Downloads/Store-Lookup.csv')\n",
    "sales_df = pd.read_csv('/Users/dajojo/Downloads/supermarket_sales - Sheet1.csv')"
   ]
  },
  {
   "cell_type": "markdown",
   "metadata": {
    "id": "wFEe1Yo0BLrO"
   },
   "source": [
    "### Transform data format"
   ]
  },
  {
   "cell_type": "code",
   "execution_count": 3,
   "metadata": {
    "id": "0Whmq3wDBLrP"
   },
   "outputs": [],
   "source": [
    "#convert date format\n",
    "customer_df['birthdate'] = pd.to_datetime(customer_df['birthdate'], format='%m/%d/%Y')\n",
    "customer_df['acct_open_date'] = pd.to_datetime(customer_df['acct_open_date'], format='%m/%d/%Y')\n",
    "trans_df['transaction_date'] = \tpd.to_datetime(trans_df['transaction_date'], format='%m/%d/%Y')\n",
    "trans_df['stock_date'] = pd.to_datetime(trans_df['stock_date'], format='%m/%d/%Y')\n",
    "sales_df['Date'] = pd.to_datetime(sales_df['Date'], format='%m/%d/%Y')\n",
    "sales_df['Time'] = pd.to_datetime(sales_df['Time'], format='%H:%M').dt.time\n",
    "\n",
    "#convert invoice id in sales_df to serial number\n",
    "sales_df['Invoice ID'] = range(1, len(sales_df) + 1)\n",
    "\n",
    "#randomly generate store id for 1 or 2 since we only have 2 branches\n",
    "sales_df['Branch'] = np.random.choice([1, 2], len(sales_df))\n",
    "\n",
    "#rename the column\n",
    "sales_df.rename(columns={'Branch':'store_id'}, inplace=True)\n"
   ]
  },
  {
   "cell_type": "markdown",
   "metadata": {
    "id": "y-ZK3hS9BLrP"
   },
   "source": [
    "**Since we combine 2 kinds of datasets, in order to ensure the consistency of the data, we replace the product retail price from product_df to Unit Price, Total, and Tax 5% columns in sales_df**\n",
    "\n",
    "Unit Price from sales_df"
   ]
  },
  {
   "cell_type": "code",
   "execution_count": 4,
   "metadata": {
    "id": "cWMygJHYBLrQ",
    "outputId": "299cd328-ec70-45a8-9600-fb9ba409909e"
   },
   "outputs": [
    {
     "name": "stdout",
     "output_type": "stream",
     "text": [
      "     Invoice ID  store_id       City Customer type  Gender  \\\n",
      "0             1         1     Yangon        Member  Female   \n",
      "1             2         1  Naypyitaw        Normal  Female   \n",
      "2             3         1     Yangon        Normal    Male   \n",
      "3             4         1     Yangon        Member    Male   \n",
      "4             5         2     Yangon        Normal    Male   \n",
      "..          ...       ...        ...           ...     ...   \n",
      "995         996         2  Naypyitaw        Normal    Male   \n",
      "996         997         2   Mandalay        Normal  Female   \n",
      "997         998         2     Yangon        Member    Male   \n",
      "998         999         2     Yangon        Normal    Male   \n",
      "999        1000         1     Yangon        Member  Female   \n",
      "\n",
      "               Product line  Unit price  Quantity   Tax 5%      Total  \\\n",
      "0         Health and beauty        2.85         7  26.1415   548.9715   \n",
      "1    Electronic accessories        0.74         5   3.8200    80.2200   \n",
      "2        Home and lifestyle        0.83         7  16.2155   340.5255   \n",
      "3         Health and beauty        3.64         8  23.2880   489.0480   \n",
      "4         Sports and travel        2.19         7  30.2085   634.3785   \n",
      "..                      ...         ...       ...      ...        ...   \n",
      "995       Health and beauty        0.85         1   2.0175    42.3675   \n",
      "996      Home and lifestyle        3.29        10  48.6900  1022.4900   \n",
      "997      Food and beverages        1.25         1   1.5920    33.4320   \n",
      "998      Home and lifestyle        2.71         1   3.2910    69.1110   \n",
      "999     Fashion accessories        2.69         7  30.9190   649.2990   \n",
      "\n",
      "          Date      Time      Payment    cogs  gross margin percentage  \\\n",
      "0   2019-01-05  13:08:00      Ewallet  522.83                 4.761905   \n",
      "1   2019-03-08  10:29:00         Cash   76.40                 4.761905   \n",
      "2   2019-03-03  13:23:00  Credit card  324.31                 4.761905   \n",
      "3   2019-01-27  20:33:00      Ewallet  465.76                 4.761905   \n",
      "4   2019-02-08  10:37:00      Ewallet  604.17                 4.761905   \n",
      "..         ...       ...          ...     ...                      ...   \n",
      "995 2019-01-29  13:46:00      Ewallet   40.35                 4.761905   \n",
      "996 2019-03-02  17:16:00      Ewallet  973.80                 4.761905   \n",
      "997 2019-02-09  13:22:00         Cash   31.84                 4.761905   \n",
      "998 2019-02-22  15:33:00         Cash   65.82                 4.761905   \n",
      "999 2019-02-18  13:28:00         Cash  618.38                 4.761905   \n",
      "\n",
      "     gross income  Rating  \n",
      "0         26.1415     9.1  \n",
      "1          3.8200     9.6  \n",
      "2         16.2155     7.4  \n",
      "3         23.2880     8.4  \n",
      "4         30.2085     5.3  \n",
      "..            ...     ...  \n",
      "995        2.0175     6.2  \n",
      "996       48.6900     4.4  \n",
      "997        1.5920     7.7  \n",
      "998        3.2910     4.1  \n",
      "999       30.9190     6.6  \n",
      "\n",
      "[1000 rows x 17 columns]\n"
     ]
    }
   ],
   "source": [
    "#get the product retail price from product_df\n",
    "product_cost = product_df['product_retail_price']\n",
    "\n",
    "#get the location of 'Unit Price'\n",
    "column_index = sales_df.columns.get_loc('Unit price')\n",
    "\n",
    "#drop the 'Unit Price' column\n",
    "sales_df = sales_df.drop('Unit price', axis=1)\n",
    "\n",
    "#insert the 'product_retail_price' from 'product_df' at the same location\n",
    "sales_df.insert(column_index, 'Unit price', product_cost)\n",
    "\n",
    "print(sales_df)"
   ]
  },
  {
   "cell_type": "markdown",
   "metadata": {
    "id": "M5Q85AWoBLrQ"
   },
   "source": [
    "Total and Tax 5% from sales_df"
   ]
  },
  {
   "cell_type": "code",
   "execution_count": 5,
   "metadata": {
    "id": "4Cqbx2t6BLrR"
   },
   "outputs": [],
   "source": [
    "sales_df['Total'] = sales_df['Unit price'] * sales_df['Quantity']\n",
    "\n",
    "sales_df['Tax 5%'] = round(sales_df['Total']*0.05, 2)"
   ]
  },
  {
   "cell_type": "code",
   "execution_count": 6,
   "metadata": {
    "id": "QgBE605gBLrR",
    "outputId": "fa476807-851e-40e7-b752-f338b6ac4b92"
   },
   "outputs": [
    {
     "data": {
      "text/html": [
       "<div>\n",
       "<style scoped>\n",
       "    .dataframe tbody tr th:only-of-type {\n",
       "        vertical-align: middle;\n",
       "    }\n",
       "\n",
       "    .dataframe tbody tr th {\n",
       "        vertical-align: top;\n",
       "    }\n",
       "\n",
       "    .dataframe thead th {\n",
       "        text-align: right;\n",
       "    }\n",
       "</style>\n",
       "<table border=\"1\" class=\"dataframe\">\n",
       "  <thead>\n",
       "    <tr style=\"text-align: right;\">\n",
       "      <th></th>\n",
       "      <th>customer_id</th>\n",
       "      <th>customer_acct_num</th>\n",
       "      <th>first_name</th>\n",
       "      <th>last_name</th>\n",
       "      <th>customer_address</th>\n",
       "      <th>customer_city</th>\n",
       "      <th>customer_state_province</th>\n",
       "      <th>customer_postal_code</th>\n",
       "      <th>customer_country</th>\n",
       "      <th>birthdate</th>\n",
       "      <th>marital_status</th>\n",
       "      <th>yearly_income</th>\n",
       "      <th>gender</th>\n",
       "      <th>total_children</th>\n",
       "      <th>num_children_at_home</th>\n",
       "      <th>education</th>\n",
       "      <th>acct_open_date</th>\n",
       "      <th>member_card</th>\n",
       "      <th>occupation</th>\n",
       "      <th>homeowner</th>\n",
       "    </tr>\n",
       "  </thead>\n",
       "  <tbody>\n",
       "    <tr>\n",
       "      <th>0</th>\n",
       "      <td>1</td>\n",
       "      <td>87462024688</td>\n",
       "      <td>Sheri</td>\n",
       "      <td>Nowmer</td>\n",
       "      <td>2433 Bailey Road</td>\n",
       "      <td>Tlaxiaco</td>\n",
       "      <td>Oaxaca</td>\n",
       "      <td>15057</td>\n",
       "      <td>Mexico</td>\n",
       "      <td>1961-08-26</td>\n",
       "      <td>M</td>\n",
       "      <td>$30K - $50K</td>\n",
       "      <td>F</td>\n",
       "      <td>4</td>\n",
       "      <td>2</td>\n",
       "      <td>Partial High School</td>\n",
       "      <td>1991-09-10</td>\n",
       "      <td>Bronze</td>\n",
       "      <td>Skilled Manual</td>\n",
       "      <td>Y</td>\n",
       "    </tr>\n",
       "    <tr>\n",
       "      <th>1</th>\n",
       "      <td>2</td>\n",
       "      <td>87470586299</td>\n",
       "      <td>Derrick</td>\n",
       "      <td>Whelply</td>\n",
       "      <td>2219 Dewing Avenue</td>\n",
       "      <td>Sooke</td>\n",
       "      <td>BC</td>\n",
       "      <td>17172</td>\n",
       "      <td>Canada</td>\n",
       "      <td>1915-07-03</td>\n",
       "      <td>S</td>\n",
       "      <td>$70K - $90K</td>\n",
       "      <td>M</td>\n",
       "      <td>1</td>\n",
       "      <td>0</td>\n",
       "      <td>Partial High School</td>\n",
       "      <td>1993-03-11</td>\n",
       "      <td>Bronze</td>\n",
       "      <td>Professional</td>\n",
       "      <td>N</td>\n",
       "    </tr>\n",
       "    <tr>\n",
       "      <th>2</th>\n",
       "      <td>3</td>\n",
       "      <td>87475757600</td>\n",
       "      <td>Jeanne</td>\n",
       "      <td>Derry</td>\n",
       "      <td>7640 First Ave.</td>\n",
       "      <td>Issaquah</td>\n",
       "      <td>WA</td>\n",
       "      <td>73980</td>\n",
       "      <td>USA</td>\n",
       "      <td>1910-06-21</td>\n",
       "      <td>M</td>\n",
       "      <td>$50K - $70K</td>\n",
       "      <td>F</td>\n",
       "      <td>1</td>\n",
       "      <td>1</td>\n",
       "      <td>Bachelors Degree</td>\n",
       "      <td>1991-06-11</td>\n",
       "      <td>Bronze</td>\n",
       "      <td>Professional</td>\n",
       "      <td>Y</td>\n",
       "    </tr>\n",
       "    <tr>\n",
       "      <th>3</th>\n",
       "      <td>4</td>\n",
       "      <td>87500482201</td>\n",
       "      <td>Michael</td>\n",
       "      <td>Spence</td>\n",
       "      <td>337 Tosca Way</td>\n",
       "      <td>Burnaby</td>\n",
       "      <td>BC</td>\n",
       "      <td>74674</td>\n",
       "      <td>Canada</td>\n",
       "      <td>1969-06-20</td>\n",
       "      <td>M</td>\n",
       "      <td>$10K - $30K</td>\n",
       "      <td>M</td>\n",
       "      <td>4</td>\n",
       "      <td>4</td>\n",
       "      <td>Partial High School</td>\n",
       "      <td>1994-05-21</td>\n",
       "      <td>Normal</td>\n",
       "      <td>Skilled Manual</td>\n",
       "      <td>N</td>\n",
       "    </tr>\n",
       "    <tr>\n",
       "      <th>4</th>\n",
       "      <td>5</td>\n",
       "      <td>87514054179</td>\n",
       "      <td>Maya</td>\n",
       "      <td>Gutierrez</td>\n",
       "      <td>8668 Via Neruda</td>\n",
       "      <td>Novato</td>\n",
       "      <td>CA</td>\n",
       "      <td>57355</td>\n",
       "      <td>USA</td>\n",
       "      <td>1951-05-10</td>\n",
       "      <td>S</td>\n",
       "      <td>$30K - $50K</td>\n",
       "      <td>F</td>\n",
       "      <td>3</td>\n",
       "      <td>0</td>\n",
       "      <td>Partial College</td>\n",
       "      <td>1992-08-21</td>\n",
       "      <td>Silver</td>\n",
       "      <td>Manual</td>\n",
       "      <td>N</td>\n",
       "    </tr>\n",
       "  </tbody>\n",
       "</table>\n",
       "</div>"
      ],
      "text/plain": [
       "   customer_id  customer_acct_num first_name  last_name    customer_address  \\\n",
       "0            1        87462024688      Sheri     Nowmer    2433 Bailey Road   \n",
       "1            2        87470586299    Derrick    Whelply  2219 Dewing Avenue   \n",
       "2            3        87475757600     Jeanne      Derry     7640 First Ave.   \n",
       "3            4        87500482201    Michael     Spence       337 Tosca Way   \n",
       "4            5        87514054179       Maya  Gutierrez     8668 Via Neruda   \n",
       "\n",
       "  customer_city customer_state_province  customer_postal_code  \\\n",
       "0      Tlaxiaco                  Oaxaca                 15057   \n",
       "1         Sooke                      BC                 17172   \n",
       "2      Issaquah                      WA                 73980   \n",
       "3       Burnaby                      BC                 74674   \n",
       "4        Novato                      CA                 57355   \n",
       "\n",
       "  customer_country  birthdate marital_status yearly_income gender  \\\n",
       "0           Mexico 1961-08-26              M   $30K - $50K      F   \n",
       "1           Canada 1915-07-03              S   $70K - $90K      M   \n",
       "2              USA 1910-06-21              M   $50K - $70K      F   \n",
       "3           Canada 1969-06-20              M   $10K - $30K      M   \n",
       "4              USA 1951-05-10              S   $30K - $50K      F   \n",
       "\n",
       "   total_children  num_children_at_home            education acct_open_date  \\\n",
       "0               4                     2  Partial High School     1991-09-10   \n",
       "1               1                     0  Partial High School     1993-03-11   \n",
       "2               1                     1     Bachelors Degree     1991-06-11   \n",
       "3               4                     4  Partial High School     1994-05-21   \n",
       "4               3                     0      Partial College     1992-08-21   \n",
       "\n",
       "  member_card      occupation homeowner  \n",
       "0      Bronze  Skilled Manual         Y  \n",
       "1      Bronze    Professional         N  \n",
       "2      Bronze    Professional         Y  \n",
       "3      Normal  Skilled Manual         N  \n",
       "4      Silver          Manual         N  "
      ]
     },
     "execution_count": 6,
     "metadata": {},
     "output_type": "execute_result"
    }
   ],
   "source": [
    "customer_df.head()"
   ]
  },
  {
   "cell_type": "code",
   "execution_count": 7,
   "metadata": {
    "id": "ji8-gLxlBLrR",
    "outputId": "aa0c63c4-a1b8-4276-8369-8ddf74ca4c64"
   },
   "outputs": [
    {
     "data": {
      "text/html": [
       "<div>\n",
       "<style scoped>\n",
       "    .dataframe tbody tr th:only-of-type {\n",
       "        vertical-align: middle;\n",
       "    }\n",
       "\n",
       "    .dataframe tbody tr th {\n",
       "        vertical-align: top;\n",
       "    }\n",
       "\n",
       "    .dataframe thead th {\n",
       "        text-align: right;\n",
       "    }\n",
       "</style>\n",
       "<table border=\"1\" class=\"dataframe\">\n",
       "  <thead>\n",
       "    <tr style=\"text-align: right;\">\n",
       "      <th></th>\n",
       "      <th>transaction_date</th>\n",
       "      <th>stock_date</th>\n",
       "      <th>product_id</th>\n",
       "      <th>customer_id</th>\n",
       "      <th>store_id</th>\n",
       "      <th>quantity</th>\n",
       "    </tr>\n",
       "  </thead>\n",
       "  <tbody>\n",
       "    <tr>\n",
       "      <th>0</th>\n",
       "      <td>1997-01-01</td>\n",
       "      <td>1996-12-31</td>\n",
       "      <td>869</td>\n",
       "      <td>3449</td>\n",
       "      <td>6</td>\n",
       "      <td>5</td>\n",
       "    </tr>\n",
       "    <tr>\n",
       "      <th>1</th>\n",
       "      <td>1997-01-01</td>\n",
       "      <td>1996-12-31</td>\n",
       "      <td>1472</td>\n",
       "      <td>3449</td>\n",
       "      <td>6</td>\n",
       "      <td>3</td>\n",
       "    </tr>\n",
       "    <tr>\n",
       "      <th>2</th>\n",
       "      <td>1997-01-01</td>\n",
       "      <td>1996-12-28</td>\n",
       "      <td>76</td>\n",
       "      <td>3449</td>\n",
       "      <td>6</td>\n",
       "      <td>4</td>\n",
       "    </tr>\n",
       "    <tr>\n",
       "      <th>3</th>\n",
       "      <td>1997-01-01</td>\n",
       "      <td>1996-12-26</td>\n",
       "      <td>320</td>\n",
       "      <td>3449</td>\n",
       "      <td>6</td>\n",
       "      <td>3</td>\n",
       "    </tr>\n",
       "    <tr>\n",
       "      <th>4</th>\n",
       "      <td>1997-01-01</td>\n",
       "      <td>1996-12-25</td>\n",
       "      <td>4</td>\n",
       "      <td>3449</td>\n",
       "      <td>6</td>\n",
       "      <td>4</td>\n",
       "    </tr>\n",
       "  </tbody>\n",
       "</table>\n",
       "</div>"
      ],
      "text/plain": [
       "  transaction_date stock_date  product_id  customer_id  store_id  quantity\n",
       "0       1997-01-01 1996-12-31         869         3449         6         5\n",
       "1       1997-01-01 1996-12-31        1472         3449         6         3\n",
       "2       1997-01-01 1996-12-28          76         3449         6         4\n",
       "3       1997-01-01 1996-12-26         320         3449         6         3\n",
       "4       1997-01-01 1996-12-25           4         3449         6         4"
      ]
     },
     "execution_count": 7,
     "metadata": {},
     "output_type": "execute_result"
    }
   ],
   "source": [
    "trans_df.head()"
   ]
  },
  {
   "cell_type": "code",
   "execution_count": 8,
   "metadata": {
    "id": "Sixj1WW_BLrR",
    "outputId": "9a564e3e-d1ce-40db-b5c2-a7becf87cafd"
   },
   "outputs": [
    {
     "data": {
      "text/html": [
       "<div>\n",
       "<style scoped>\n",
       "    .dataframe tbody tr th:only-of-type {\n",
       "        vertical-align: middle;\n",
       "    }\n",
       "\n",
       "    .dataframe tbody tr th {\n",
       "        vertical-align: top;\n",
       "    }\n",
       "\n",
       "    .dataframe thead th {\n",
       "        text-align: right;\n",
       "    }\n",
       "</style>\n",
       "<table border=\"1\" class=\"dataframe\">\n",
       "  <thead>\n",
       "    <tr style=\"text-align: right;\">\n",
       "      <th></th>\n",
       "      <th>product_id</th>\n",
       "      <th>product_brand</th>\n",
       "      <th>product_name</th>\n",
       "      <th>product_sku</th>\n",
       "      <th>product_retail_price</th>\n",
       "      <th>product_cost</th>\n",
       "      <th>product_weight</th>\n",
       "      <th>recyclable</th>\n",
       "      <th>low_fat</th>\n",
       "      <th>product_category</th>\n",
       "    </tr>\n",
       "  </thead>\n",
       "  <tbody>\n",
       "    <tr>\n",
       "      <th>0</th>\n",
       "      <td>1</td>\n",
       "      <td>Washington</td>\n",
       "      <td>Washington Berry Juice</td>\n",
       "      <td>90748583674</td>\n",
       "      <td>2.85</td>\n",
       "      <td>0.94</td>\n",
       "      <td>8.39</td>\n",
       "      <td>NaN</td>\n",
       "      <td>NaN</td>\n",
       "      <td>Food and beverages</td>\n",
       "    </tr>\n",
       "    <tr>\n",
       "      <th>1</th>\n",
       "      <td>2</td>\n",
       "      <td>Washington</td>\n",
       "      <td>Washington Mango Drink</td>\n",
       "      <td>96516502499</td>\n",
       "      <td>0.74</td>\n",
       "      <td>0.26</td>\n",
       "      <td>7.42</td>\n",
       "      <td>NaN</td>\n",
       "      <td>1.0</td>\n",
       "      <td>Food and beverages</td>\n",
       "    </tr>\n",
       "    <tr>\n",
       "      <th>2</th>\n",
       "      <td>3</td>\n",
       "      <td>Washington</td>\n",
       "      <td>Washington Strawberry Drink</td>\n",
       "      <td>58427771925</td>\n",
       "      <td>0.83</td>\n",
       "      <td>0.40</td>\n",
       "      <td>13.10</td>\n",
       "      <td>1.0</td>\n",
       "      <td>1.0</td>\n",
       "      <td>Food and beverages</td>\n",
       "    </tr>\n",
       "    <tr>\n",
       "      <th>3</th>\n",
       "      <td>4</td>\n",
       "      <td>Washington</td>\n",
       "      <td>Washington Cream Soda</td>\n",
       "      <td>64412155747</td>\n",
       "      <td>3.64</td>\n",
       "      <td>1.64</td>\n",
       "      <td>10.60</td>\n",
       "      <td>1.0</td>\n",
       "      <td>NaN</td>\n",
       "      <td>Food and beverages</td>\n",
       "    </tr>\n",
       "    <tr>\n",
       "      <th>4</th>\n",
       "      <td>5</td>\n",
       "      <td>Washington</td>\n",
       "      <td>Washington Diet Soda</td>\n",
       "      <td>85561191439</td>\n",
       "      <td>2.19</td>\n",
       "      <td>0.77</td>\n",
       "      <td>6.66</td>\n",
       "      <td>1.0</td>\n",
       "      <td>NaN</td>\n",
       "      <td>Food and beverages</td>\n",
       "    </tr>\n",
       "  </tbody>\n",
       "</table>\n",
       "</div>"
      ],
      "text/plain": [
       "   product_id product_brand                 product_name  product_sku  \\\n",
       "0           1    Washington       Washington Berry Juice  90748583674   \n",
       "1           2    Washington       Washington Mango Drink  96516502499   \n",
       "2           3    Washington  Washington Strawberry Drink  58427771925   \n",
       "3           4    Washington        Washington Cream Soda  64412155747   \n",
       "4           5    Washington         Washington Diet Soda  85561191439   \n",
       "\n",
       "   product_retail_price  product_cost  product_weight  recyclable  low_fat  \\\n",
       "0                  2.85          0.94            8.39         NaN      NaN   \n",
       "1                  0.74          0.26            7.42         NaN      1.0   \n",
       "2                  0.83          0.40           13.10         1.0      1.0   \n",
       "3                  3.64          1.64           10.60         1.0      NaN   \n",
       "4                  2.19          0.77            6.66         1.0      NaN   \n",
       "\n",
       "     product_category  \n",
       "0  Food and beverages  \n",
       "1  Food and beverages  \n",
       "2  Food and beverages  \n",
       "3  Food and beverages  \n",
       "4  Food and beverages  "
      ]
     },
     "execution_count": 8,
     "metadata": {},
     "output_type": "execute_result"
    }
   ],
   "source": [
    "product_df.head()"
   ]
  },
  {
   "cell_type": "code",
   "execution_count": 9,
   "metadata": {
    "id": "PPFcukQ_BLrS",
    "outputId": "a52eb8dc-859e-4918-d93f-f5d41e085577"
   },
   "outputs": [
    {
     "data": {
      "text/html": [
       "<div>\n",
       "<style scoped>\n",
       "    .dataframe tbody tr th:only-of-type {\n",
       "        vertical-align: middle;\n",
       "    }\n",
       "\n",
       "    .dataframe tbody tr th {\n",
       "        vertical-align: top;\n",
       "    }\n",
       "\n",
       "    .dataframe thead th {\n",
       "        text-align: right;\n",
       "    }\n",
       "</style>\n",
       "<table border=\"1\" class=\"dataframe\">\n",
       "  <thead>\n",
       "    <tr style=\"text-align: right;\">\n",
       "      <th></th>\n",
       "      <th>store_id</th>\n",
       "      <th>region_id</th>\n",
       "      <th>store_type</th>\n",
       "      <th>store_name</th>\n",
       "      <th>store_street_address</th>\n",
       "      <th>store_city</th>\n",
       "      <th>store_state</th>\n",
       "      <th>store_country</th>\n",
       "      <th>store_phone</th>\n",
       "      <th>first_opened_date</th>\n",
       "      <th>last_remodel_date</th>\n",
       "      <th>total_sqft</th>\n",
       "      <th>grocery_sqft</th>\n",
       "    </tr>\n",
       "  </thead>\n",
       "  <tbody>\n",
       "    <tr>\n",
       "      <th>0</th>\n",
       "      <td>1</td>\n",
       "      <td>28</td>\n",
       "      <td>Supermarket</td>\n",
       "      <td>Store 1</td>\n",
       "      <td>2853 Bailey Rd</td>\n",
       "      <td>Acapulco</td>\n",
       "      <td>Guerrero</td>\n",
       "      <td>Mexico</td>\n",
       "      <td>262-555-5124</td>\n",
       "      <td>1/9/1982</td>\n",
       "      <td>12/5/1990</td>\n",
       "      <td>23593</td>\n",
       "      <td>17475</td>\n",
       "    </tr>\n",
       "    <tr>\n",
       "      <th>1</th>\n",
       "      <td>2</td>\n",
       "      <td>78</td>\n",
       "      <td>Small Grocery</td>\n",
       "      <td>Store 2</td>\n",
       "      <td>5203 Catanzaro Way</td>\n",
       "      <td>Bellingham</td>\n",
       "      <td>WA</td>\n",
       "      <td>USA</td>\n",
       "      <td>605-555-8203</td>\n",
       "      <td>4/2/1970</td>\n",
       "      <td>6/4/1973</td>\n",
       "      <td>28206</td>\n",
       "      <td>22271</td>\n",
       "    </tr>\n",
       "    <tr>\n",
       "      <th>2</th>\n",
       "      <td>3</td>\n",
       "      <td>76</td>\n",
       "      <td>Supermarket</td>\n",
       "      <td>Store 3</td>\n",
       "      <td>1501 Ramsey Circle</td>\n",
       "      <td>Bremerton</td>\n",
       "      <td>WA</td>\n",
       "      <td>USA</td>\n",
       "      <td>509-555-1596</td>\n",
       "      <td>6/14/1959</td>\n",
       "      <td>11/19/1967</td>\n",
       "      <td>39696</td>\n",
       "      <td>24390</td>\n",
       "    </tr>\n",
       "    <tr>\n",
       "      <th>3</th>\n",
       "      <td>4</td>\n",
       "      <td>27</td>\n",
       "      <td>Gourmet Supermarket</td>\n",
       "      <td>Store 4</td>\n",
       "      <td>433 St George Dr</td>\n",
       "      <td>Camacho</td>\n",
       "      <td>Zacatecas</td>\n",
       "      <td>Mexico</td>\n",
       "      <td>304-555-1474</td>\n",
       "      <td>9/27/1994</td>\n",
       "      <td>12/1/1995</td>\n",
       "      <td>23759</td>\n",
       "      <td>16844</td>\n",
       "    </tr>\n",
       "    <tr>\n",
       "      <th>4</th>\n",
       "      <td>5</td>\n",
       "      <td>4</td>\n",
       "      <td>Small Grocery</td>\n",
       "      <td>Store 5</td>\n",
       "      <td>1250 Coggins Drive</td>\n",
       "      <td>Guadalajara</td>\n",
       "      <td>Jalisco</td>\n",
       "      <td>Mexico</td>\n",
       "      <td>801-555-4324</td>\n",
       "      <td>9/18/1978</td>\n",
       "      <td>6/29/1991</td>\n",
       "      <td>24597</td>\n",
       "      <td>15012</td>\n",
       "    </tr>\n",
       "  </tbody>\n",
       "</table>\n",
       "</div>"
      ],
      "text/plain": [
       "   store_id  region_id           store_type store_name store_street_address  \\\n",
       "0         1         28          Supermarket    Store 1       2853 Bailey Rd   \n",
       "1         2         78        Small Grocery    Store 2   5203 Catanzaro Way   \n",
       "2         3         76          Supermarket    Store 3   1501 Ramsey Circle   \n",
       "3         4         27  Gourmet Supermarket    Store 4     433 St George Dr   \n",
       "4         5          4        Small Grocery    Store 5   1250 Coggins Drive   \n",
       "\n",
       "    store_city store_state store_country   store_phone first_opened_date  \\\n",
       "0     Acapulco    Guerrero        Mexico  262-555-5124          1/9/1982   \n",
       "1   Bellingham          WA           USA  605-555-8203          4/2/1970   \n",
       "2    Bremerton          WA           USA  509-555-1596         6/14/1959   \n",
       "3      Camacho   Zacatecas        Mexico  304-555-1474         9/27/1994   \n",
       "4  Guadalajara     Jalisco        Mexico  801-555-4324         9/18/1978   \n",
       "\n",
       "  last_remodel_date  total_sqft  grocery_sqft  \n",
       "0         12/5/1990       23593         17475  \n",
       "1          6/4/1973       28206         22271  \n",
       "2        11/19/1967       39696         24390  \n",
       "3         12/1/1995       23759         16844  \n",
       "4         6/29/1991       24597         15012  "
      ]
     },
     "execution_count": 9,
     "metadata": {},
     "output_type": "execute_result"
    }
   ],
   "source": [
    "store_df.head()"
   ]
  },
  {
   "cell_type": "code",
   "execution_count": 10,
   "metadata": {
    "id": "x3NtOb53BLrS",
    "outputId": "c305265d-2244-4ffc-f334-f58c97ab5688"
   },
   "outputs": [
    {
     "data": {
      "text/html": [
       "<div>\n",
       "<style scoped>\n",
       "    .dataframe tbody tr th:only-of-type {\n",
       "        vertical-align: middle;\n",
       "    }\n",
       "\n",
       "    .dataframe tbody tr th {\n",
       "        vertical-align: top;\n",
       "    }\n",
       "\n",
       "    .dataframe thead th {\n",
       "        text-align: right;\n",
       "    }\n",
       "</style>\n",
       "<table border=\"1\" class=\"dataframe\">\n",
       "  <thead>\n",
       "    <tr style=\"text-align: right;\">\n",
       "      <th></th>\n",
       "      <th>Invoice ID</th>\n",
       "      <th>store_id</th>\n",
       "      <th>City</th>\n",
       "      <th>Customer type</th>\n",
       "      <th>Gender</th>\n",
       "      <th>Product line</th>\n",
       "      <th>Unit price</th>\n",
       "      <th>Quantity</th>\n",
       "      <th>Tax 5%</th>\n",
       "      <th>Total</th>\n",
       "      <th>Date</th>\n",
       "      <th>Time</th>\n",
       "      <th>Payment</th>\n",
       "      <th>cogs</th>\n",
       "      <th>gross margin percentage</th>\n",
       "      <th>gross income</th>\n",
       "      <th>Rating</th>\n",
       "    </tr>\n",
       "  </thead>\n",
       "  <tbody>\n",
       "    <tr>\n",
       "      <th>0</th>\n",
       "      <td>1</td>\n",
       "      <td>1</td>\n",
       "      <td>Yangon</td>\n",
       "      <td>Member</td>\n",
       "      <td>Female</td>\n",
       "      <td>Health and beauty</td>\n",
       "      <td>2.85</td>\n",
       "      <td>7</td>\n",
       "      <td>1.00</td>\n",
       "      <td>19.95</td>\n",
       "      <td>2019-01-05</td>\n",
       "      <td>13:08:00</td>\n",
       "      <td>Ewallet</td>\n",
       "      <td>522.83</td>\n",
       "      <td>4.761905</td>\n",
       "      <td>26.1415</td>\n",
       "      <td>9.1</td>\n",
       "    </tr>\n",
       "    <tr>\n",
       "      <th>1</th>\n",
       "      <td>2</td>\n",
       "      <td>1</td>\n",
       "      <td>Naypyitaw</td>\n",
       "      <td>Normal</td>\n",
       "      <td>Female</td>\n",
       "      <td>Electronic accessories</td>\n",
       "      <td>0.74</td>\n",
       "      <td>5</td>\n",
       "      <td>0.19</td>\n",
       "      <td>3.70</td>\n",
       "      <td>2019-03-08</td>\n",
       "      <td>10:29:00</td>\n",
       "      <td>Cash</td>\n",
       "      <td>76.40</td>\n",
       "      <td>4.761905</td>\n",
       "      <td>3.8200</td>\n",
       "      <td>9.6</td>\n",
       "    </tr>\n",
       "    <tr>\n",
       "      <th>2</th>\n",
       "      <td>3</td>\n",
       "      <td>1</td>\n",
       "      <td>Yangon</td>\n",
       "      <td>Normal</td>\n",
       "      <td>Male</td>\n",
       "      <td>Home and lifestyle</td>\n",
       "      <td>0.83</td>\n",
       "      <td>7</td>\n",
       "      <td>0.29</td>\n",
       "      <td>5.81</td>\n",
       "      <td>2019-03-03</td>\n",
       "      <td>13:23:00</td>\n",
       "      <td>Credit card</td>\n",
       "      <td>324.31</td>\n",
       "      <td>4.761905</td>\n",
       "      <td>16.2155</td>\n",
       "      <td>7.4</td>\n",
       "    </tr>\n",
       "    <tr>\n",
       "      <th>3</th>\n",
       "      <td>4</td>\n",
       "      <td>1</td>\n",
       "      <td>Yangon</td>\n",
       "      <td>Member</td>\n",
       "      <td>Male</td>\n",
       "      <td>Health and beauty</td>\n",
       "      <td>3.64</td>\n",
       "      <td>8</td>\n",
       "      <td>1.46</td>\n",
       "      <td>29.12</td>\n",
       "      <td>2019-01-27</td>\n",
       "      <td>20:33:00</td>\n",
       "      <td>Ewallet</td>\n",
       "      <td>465.76</td>\n",
       "      <td>4.761905</td>\n",
       "      <td>23.2880</td>\n",
       "      <td>8.4</td>\n",
       "    </tr>\n",
       "    <tr>\n",
       "      <th>4</th>\n",
       "      <td>5</td>\n",
       "      <td>2</td>\n",
       "      <td>Yangon</td>\n",
       "      <td>Normal</td>\n",
       "      <td>Male</td>\n",
       "      <td>Sports and travel</td>\n",
       "      <td>2.19</td>\n",
       "      <td>7</td>\n",
       "      <td>0.77</td>\n",
       "      <td>15.33</td>\n",
       "      <td>2019-02-08</td>\n",
       "      <td>10:37:00</td>\n",
       "      <td>Ewallet</td>\n",
       "      <td>604.17</td>\n",
       "      <td>4.761905</td>\n",
       "      <td>30.2085</td>\n",
       "      <td>5.3</td>\n",
       "    </tr>\n",
       "  </tbody>\n",
       "</table>\n",
       "</div>"
      ],
      "text/plain": [
       "   Invoice ID  store_id       City Customer type  Gender  \\\n",
       "0           1         1     Yangon        Member  Female   \n",
       "1           2         1  Naypyitaw        Normal  Female   \n",
       "2           3         1     Yangon        Normal    Male   \n",
       "3           4         1     Yangon        Member    Male   \n",
       "4           5         2     Yangon        Normal    Male   \n",
       "\n",
       "             Product line  Unit price  Quantity  Tax 5%  Total       Date  \\\n",
       "0       Health and beauty        2.85         7    1.00  19.95 2019-01-05   \n",
       "1  Electronic accessories        0.74         5    0.19   3.70 2019-03-08   \n",
       "2      Home and lifestyle        0.83         7    0.29   5.81 2019-03-03   \n",
       "3       Health and beauty        3.64         8    1.46  29.12 2019-01-27   \n",
       "4       Sports and travel        2.19         7    0.77  15.33 2019-02-08   \n",
       "\n",
       "       Time      Payment    cogs  gross margin percentage  gross income  \\\n",
       "0  13:08:00      Ewallet  522.83                 4.761905       26.1415   \n",
       "1  10:29:00         Cash   76.40                 4.761905        3.8200   \n",
       "2  13:23:00  Credit card  324.31                 4.761905       16.2155   \n",
       "3  20:33:00      Ewallet  465.76                 4.761905       23.2880   \n",
       "4  10:37:00      Ewallet  604.17                 4.761905       30.2085   \n",
       "\n",
       "   Rating  \n",
       "0     9.1  \n",
       "1     9.6  \n",
       "2     7.4  \n",
       "3     8.4  \n",
       "4     5.3  "
      ]
     },
     "execution_count": 10,
     "metadata": {},
     "output_type": "execute_result"
    }
   ],
   "source": [
    "sales_df.head()"
   ]
  },
  {
   "cell_type": "markdown",
   "metadata": {
    "id": "-LE-eng9BLrS"
   },
   "source": [
    "## Extract desired table data from files\n",
    "### Payment table df"
   ]
  },
  {
   "cell_type": "code",
   "execution_count": 11,
   "metadata": {
    "id": "-7vRWLBWBLrS",
    "outputId": "35fc2e27-4f7b-4f4d-c9c5-75137b21d64d"
   },
   "outputs": [
    {
     "name": "stdout",
     "output_type": "stream",
     "text": [
      "   payment_id payment_type\n",
      "0           1      Ewallet\n",
      "1           2         Cash\n",
      "2           3  Credit card\n"
     ]
    }
   ],
   "source": [
    "#get unique payment from the sales file\n",
    "unique_payments = sales_df['Payment'].unique()\n",
    "\n",
    "#create a new df\n",
    "payment = pd.DataFrame({'payment_id': range(1, len(unique_payments) + 1), 'payment_type': unique_payments})\n",
    "\n",
    "print(payment)"
   ]
  },
  {
   "cell_type": "markdown",
   "metadata": {
    "id": "sYmf3Q4yBLrS"
   },
   "source": [
    "#### Match the payment categorical values in sales_df and add one more column as Payment_ID"
   ]
  },
  {
   "cell_type": "code",
   "execution_count": 12,
   "metadata": {
    "id": "L8FukgAyBLrS",
    "outputId": "80e71132-03ba-46db-beca-7151b12804d1"
   },
   "outputs": [
    {
     "name": "stdout",
     "output_type": "stream",
     "text": [
      "0      1\n",
      "1      2\n",
      "2      3\n",
      "3      1\n",
      "4      1\n",
      "      ..\n",
      "995    1\n",
      "996    1\n",
      "997    2\n",
      "998    2\n",
      "999    2\n",
      "Name: payment_id, Length: 1000, dtype: int64\n"
     ]
    }
   ],
   "source": [
    "#create a dictionary for mapping 'Payment' to 'Payment_ID'\n",
    "payment_dict = dict(zip(payment.payment_type, payment.payment_id))\n",
    "\n",
    "#map 'Payment' to 'Payment_ID' in the 'sales_df' DataFrame\n",
    "sales_df['payment_id'] = sales_df['Payment'].map(payment_dict)\n",
    "\n",
    "print(sales_df['payment_id'])"
   ]
  },
  {
   "cell_type": "markdown",
   "metadata": {
    "id": "TrREPQasBLrS"
   },
   "source": [
    "### Product Category table df"
   ]
  },
  {
   "cell_type": "code",
   "execution_count": 13,
   "metadata": {
    "id": "ed6yeLvZBLrS",
    "outputId": "976c588a-e7da-4593-85d7-72b6ed0c2203"
   },
   "outputs": [
    {
     "name": "stdout",
     "output_type": "stream",
     "text": [
      "   category_id        product_category\n",
      "0            1       Health and beauty\n",
      "1            2  Electronic accessories\n",
      "2            3      Home and lifestyle\n",
      "3            4       Sports and travel\n",
      "4            5      Food and beverages\n",
      "5            6     Fashion accessories\n"
     ]
    }
   ],
   "source": [
    "#get unique product category from the sales file\n",
    "unique_procate = sales_df['Product line'].unique()\n",
    "\n",
    "#create a new df\n",
    "product_category = pd.DataFrame({'category_id': range(1, len(unique_procate) + 1), 'product_category': unique_procate})\n",
    "\n",
    "print(product_category)"
   ]
  },
  {
   "cell_type": "markdown",
   "metadata": {
    "id": "TK2JShUHBLrS"
   },
   "source": [
    "### Product table df"
   ]
  },
  {
   "cell_type": "code",
   "execution_count": 14,
   "metadata": {
    "id": "U3fGABduBLrT",
    "outputId": "e299e17f-23fe-4c34-9fcb-d2b3de366c7d"
   },
   "outputs": [
    {
     "name": "stdout",
     "output_type": "stream",
     "text": [
      "      product_id product_brand                    product_name  product_sku  \\\n",
      "0              1    Washington          Washington Berry Juice  90748583674   \n",
      "1              2    Washington          Washington Mango Drink  96516502499   \n",
      "2              3    Washington     Washington Strawberry Drink  58427771925   \n",
      "3              4    Washington           Washington Cream Soda  64412155747   \n",
      "4              5    Washington            Washington Diet Soda  85561191439   \n",
      "...          ...           ...                             ...          ...   \n",
      "1555        1556           CDR        CDR Creamy Peanut Butter  29538288712   \n",
      "1556        1557           CDR        CDR Strawberry Preserves  50687324404   \n",
      "1557        1558           CDR  CDR Extra Chunky Peanut Butter  84930775761   \n",
      "1558        1559           CDR             CDR Apple Preserves  75317577719   \n",
      "1559        1560           CDR                 CDR Grape Jelly  54896665215   \n",
      "\n",
      "      product_retail_price  product_cost  category_id  \n",
      "0                     2.85          0.94            5  \n",
      "1                     0.74          0.26            5  \n",
      "2                     0.83          0.40            5  \n",
      "3                     3.64          1.64            5  \n",
      "4                     2.19          0.77            5  \n",
      "...                    ...           ...          ...  \n",
      "1555                  2.65          1.14            5  \n",
      "1556                  1.20          0.48            5  \n",
      "1557                  2.16          0.82            5  \n",
      "1558                  1.62          0.62            5  \n",
      "1559                  1.60          0.74            5  \n",
      "\n",
      "[1560 rows x 7 columns]\n"
     ]
    }
   ],
   "source": [
    "#only keep the columns that we want from the original customer file\n",
    "columns_keep = ['product_id', 'product_brand', 'product_name', 'product_sku', 'product_retail_price',\n",
    "                   'product_cost', 'product_category']\n",
    "\n",
    "#copy only the desired columns in original dataset\n",
    "product = product_df[columns_keep].copy()\n",
    "\n",
    "#create a dictionary from product_category with product_category as key and category_id as value\n",
    "category_mapping = dict(zip(product_category['product_category'], product_category['category_id']))\n",
    "\n",
    "#use map function to replace product_category categorical values in product with corresponding category_id\n",
    "product['category_id'] = product['product_category'].map(category_mapping)\n",
    "\n",
    "#remove the original product_category column\n",
    "product = product.drop(columns=['product_category'])\n",
    "\n",
    "\n",
    "print(product)\n"
   ]
  },
  {
   "cell_type": "markdown",
   "metadata": {
    "id": "eJAuzKEbBLrT"
   },
   "source": [
    "### Store table df"
   ]
  },
  {
   "cell_type": "code",
   "execution_count": 15,
   "metadata": {
    "id": "PXA1bqR0BLrT",
    "outputId": "2400d23c-d30c-4a07-83f6-6c629517dd02"
   },
   "outputs": [
    {
     "name": "stdout",
     "output_type": "stream",
     "text": [
      "   store_id  store_city store_street_address   store_phone  store_sqft\n",
      "0         1  Queens, NY     3569 Jamaica Ave  501-555-4834       23593\n",
      "1         2  Queens, NY     2233 Jamaica Ave  959-555-2149       28206\n"
     ]
    }
   ],
   "source": [
    "#retrieve the needed columns from original store file and rename the total sqft\n",
    "columns_keep = ['store_id', 'store_city', 'store_street_address', 'store_phone', 'total_sqft']\n",
    "store_df1 = store_df[columns_keep].copy()\n",
    "store_df1 = store_df1.rename(columns={'total_sqft': 'store_sqft'})\n",
    "\n",
    "#create a subset of the store_df with two stores in Queens, NY\n",
    "store1 = store_df1.head(2).copy()\n",
    "\n",
    "#define the columns of hypothetical street addresses\n",
    "street_names = [\"Queens Blvd\", \"Rockaway Blvd\", \"Jamaica Ave\", \"Astoria Blvd\", \"Northern Blvd\"]\n",
    "\n",
    "#generate random store_street_address and store_phone\n",
    "store1['store_street_address'] = [f\"{random.randint(1, 9999)} {random.choice(street_names)}\" for _ in range(2)]\n",
    "store1['store_phone'] = [f\"{random.randint(100, 999)}-555-{random.randint(1000, 9999)}\" for _ in range(2)]\n",
    "store1['store_city'] = 'Queens, NY'\n",
    "\n",
    "print(store1)\n"
   ]
  },
  {
   "cell_type": "markdown",
   "metadata": {
    "id": "wgr5MzsdBLrT"
   },
   "source": [
    "### Customer table df"
   ]
  },
  {
   "cell_type": "code",
   "execution_count": 16,
   "metadata": {
    "id": "5kxVLVRBBLrT",
    "outputId": "c5165a92-b0d5-4668-e0f6-06530544ba9e"
   },
   "outputs": [
    {
     "name": "stdout",
     "output_type": "stream",
     "text": [
      "       customer_id first_name  last_name       customer_address  \\\n",
      "0                1      Sheri     Nowmer       2433 Bailey Road   \n",
      "1                2    Derrick    Whelply     2219 Dewing Avenue   \n",
      "2                3     Jeanne      Derry        7640 First Ave.   \n",
      "3                4    Michael     Spence          337 Tosca Way   \n",
      "4                5       Maya  Gutierrez        8668 Via Neruda   \n",
      "...            ...        ...        ...                    ...   \n",
      "10276        10277       Fran       Ross  5603 Blackridge Drive   \n",
      "10277        10278     Myreda    Calahoo      263 La Orinda Pl.   \n",
      "10278        10279       Mary      Ayers            6885 Auburn   \n",
      "10279        10280     Ernest     Aiello       5077 Bannock Ct.   \n",
      "10280        10281     Samuel    Cartney     4609 Parkway Drive   \n",
      "\n",
      "       customer_city customer_state_province  customer_postal_code  birthdate  \\\n",
      "0           Tlaxiaco                  Oaxaca                 15057 1961-08-26   \n",
      "1              Sooke                      BC                 17172 1915-07-03   \n",
      "2           Issaquah                      WA                 73980 1910-06-21   \n",
      "3            Burnaby                      BC                 74674 1969-06-20   \n",
      "4             Novato                      CA                 57355 1951-05-10   \n",
      "...              ...                     ...                   ...        ...   \n",
      "10276    Lake Oswego                      OR                 52724 1974-02-09   \n",
      "10277   N. Vancouver                      BC                 71758 1926-12-08   \n",
      "10278  Lincoln Acres                      CA                 42550 1913-05-18   \n",
      "10279       Puyallup                      WA                 27746 1968-09-06   \n",
      "10280      Vancouver                      BC                 63699 1914-07-06   \n",
      "\n",
      "      gender  \n",
      "0          F  \n",
      "1          M  \n",
      "2          F  \n",
      "3          M  \n",
      "4          F  \n",
      "...      ...  \n",
      "10276      M  \n",
      "10277      F  \n",
      "10278      M  \n",
      "10279      F  \n",
      "10280      F  \n",
      "\n",
      "[10281 rows x 9 columns]\n"
     ]
    }
   ],
   "source": [
    "#only keep the columns that we want from the original customer file\n",
    "columns_keep = ['customer_id', 'first_name', 'last_name', 'customer_address', 'customer_city',\n",
    "                   'customer_state_province', 'customer_postal_code', 'birthdate', 'gender']\n",
    "\n",
    "#copy only the desired columns in original dataset\n",
    "customer = customer_df[columns_keep].copy()\n",
    "\n",
    "print(customer)\n"
   ]
  },
  {
   "cell_type": "markdown",
   "metadata": {
    "id": "EYp9Z_8pBLrT"
   },
   "source": [
    "### Orders table df"
   ]
  },
  {
   "cell_type": "code",
   "execution_count": 17,
   "metadata": {
    "id": "SxQtYD_8BLrT",
    "outputId": "fd815471-aed8-4a40-b489-0893bc57c20d"
   },
   "outputs": [
    {
     "name": "stdout",
     "output_type": "stream",
     "text": [
      "(1000, 18)\n",
      "(1560, 10)\n"
     ]
    }
   ],
   "source": [
    "print(sales_df.shape)\n",
    "print(product_df.shape)"
   ]
  },
  {
   "cell_type": "code",
   "execution_count": 18,
   "metadata": {
    "id": "YlqnCF7MBLrT",
    "outputId": "9376fd05-7ed4-47eb-ce20-8ef4bb1a35bf"
   },
   "outputs": [
    {
     "name": "stderr",
     "output_type": "stream",
     "text": [
      "/var/folders/lk/zsjx8_mj2l10h0x59tk346_w0000gn/T/ipykernel_33792/1780438097.py:11: SettingWithCopyWarning: \n",
      "A value is trying to be set on a copy of a slice from a DataFrame.\n",
      "Try using .loc[row_indexer,col_indexer] = value instead\n",
      "\n",
      "See the caveats in the documentation: https://pandas.pydata.org/pandas-docs/stable/user_guide/indexing.html#returning-a-view-versus-a-copy\n",
      "  orders['Delivery'] = np.random.choice(['Yes', 'No'], len(orders))\n",
      "/var/folders/lk/zsjx8_mj2l10h0x59tk346_w0000gn/T/ipykernel_33792/1780438097.py:14: SettingWithCopyWarning: \n",
      "A value is trying to be set on a copy of a slice from a DataFrame.\n",
      "Try using .loc[row_indexer,col_indexer] = value instead\n",
      "\n",
      "See the caveats in the documentation: https://pandas.pydata.org/pandas-docs/stable/user_guide/indexing.html#returning-a-view-versus-a-copy\n",
      "  orders['Invoice ID'] = orders['Invoice ID'].rank(method='min').astype(int)\n",
      "/var/folders/lk/zsjx8_mj2l10h0x59tk346_w0000gn/T/ipykernel_33792/1780438097.py:15: SettingWithCopyWarning: \n",
      "A value is trying to be set on a copy of a slice from a DataFrame.\n",
      "Try using .loc[row_indexer,col_indexer] = value instead\n",
      "\n",
      "See the caveats in the documentation: https://pandas.pydata.org/pandas-docs/stable/user_guide/indexing.html#returning-a-view-versus-a-copy\n",
      "  orders['Invoice ID'] = orders['Invoice ID'].apply('{:05d}'.format)\n",
      "/var/folders/lk/zsjx8_mj2l10h0x59tk346_w0000gn/T/ipykernel_33792/1780438097.py:18: SettingWithCopyWarning: \n",
      "A value is trying to be set on a copy of a slice from a DataFrame.\n",
      "Try using .loc[row_indexer,col_indexer] = value instead\n",
      "\n",
      "See the caveats in the documentation: https://pandas.pydata.org/pandas-docs/stable/user_guide/indexing.html#returning-a-view-versus-a-copy\n",
      "  orders['product_id'] = [random.randint(1, 1560) for _ in range(len(orders))]\n",
      "/var/folders/lk/zsjx8_mj2l10h0x59tk346_w0000gn/T/ipykernel_33792/1780438097.py:20: SettingWithCopyWarning: \n",
      "A value is trying to be set on a copy of a slice from a DataFrame.\n",
      "Try using .loc[row_indexer,col_indexer] = value instead\n",
      "\n",
      "See the caveats in the documentation: https://pandas.pydata.org/pandas-docs/stable/user_guide/indexing.html#returning-a-view-versus-a-copy\n",
      "  orders['Customer_ID'] = [random.randint(1, 10248) for _ in range(len(orders))]\n"
     ]
    }
   ],
   "source": [
    "# need to reshape the product to make the combination work\n",
    "product_df1 = product_df.head(1000).copy()\n",
    "#combine sales_df and product_df\n",
    "merged_df = pd.concat([sales_df, product_df1], axis = 1)\n",
    "\n",
    "# Rename and select necessary columns\n",
    "orders = merged_df[['Invoice ID', 'store_id', 'Customer type', 'Unit price', 'Quantity', 'Payment', 'product_id', 'product_name']]\n",
    "orders.columns = ['Invoice ID', 'store_id', 'Customer_ID', 'Unit price', 'Quantity', 'payment_type', 'product_id', 'product_name']\n",
    "\n",
    "# randomly assign delivery column for Yes and No.\n",
    "orders['Delivery'] = np.random.choice(['Yes', 'No'], len(orders))\n",
    "\n",
    "# Renumber 'Invoice ID' to start from '00001'\n",
    "orders['Invoice ID'] = orders['Invoice ID'].rank(method='min').astype(int)\n",
    "orders['Invoice ID'] = orders['Invoice ID'].apply('{:05d}'.format)\n",
    "\n",
    "#add additional product_id column and randomly generate product_id from 1 to 1560\n",
    "orders['product_id'] = [random.randint(1, 1560) for _ in range(len(orders))]\n",
    "#randomly generate customer_id from 1 to 10248, duplicates is acceptable here\n",
    "orders['Customer_ID'] = [random.randint(1, 10248) for _ in range(len(orders))]\n",
    "\n",
    "# Reorder columns to match the desired format\n",
    "orders = orders[['Invoice ID', 'store_id', 'Customer_ID', 'Unit price', 'Quantity', 'payment_type', 'Delivery', 'product_id', 'product_name']]"
   ]
  },
  {
   "cell_type": "markdown",
   "metadata": {
    "id": "hG6-GyVQBLrT"
   },
   "source": [
    "**Transform the payment type to payment id**"
   ]
  },
  {
   "cell_type": "code",
   "execution_count": 19,
   "metadata": {
    "id": "M9_CxihFBLrT",
    "outputId": "110017a7-a572-4a26-cbb2-d7c3e5a9e908"
   },
   "outputs": [
    {
     "name": "stdout",
     "output_type": "stream",
     "text": [
      "    Invoice ID  store_id  Customer_ID  Unit price  Quantity Delivery  \\\n",
      "0        00001         1         2591        2.85         7      Yes   \n",
      "1        00002         1         9760        0.74         5      Yes   \n",
      "2        00003         1         8726        0.83         7      Yes   \n",
      "3        00004         1         6814        3.64         8       No   \n",
      "4        00005         2          251        2.19         7       No   \n",
      "..         ...       ...          ...         ...       ...      ...   \n",
      "995      00996         2         1980        0.85         1       No   \n",
      "996      00997         2         2966        3.29        10      Yes   \n",
      "997      00998         2         4392        1.25         1       No   \n",
      "998      00999         2         5082        2.71         1      Yes   \n",
      "999      01000         1         3042        2.69         7      Yes   \n",
      "\n",
      "     product_id                   product_name  payment_id  \n",
      "0           261         Washington Berry Juice           1  \n",
      "1          1181         Washington Mango Drink           2  \n",
      "2           333    Washington Strawberry Drink           3  \n",
      "3           455          Washington Cream Soda           1  \n",
      "4          1208           Washington Diet Soda           1  \n",
      "..          ...                            ...         ...  \n",
      "995         765     Even Better Chocolate Milk           1  \n",
      "996         112            Even Better 1% Milk           1  \n",
      "997         599         Even Better Whole Milk           2  \n",
      "998        1534  Even Better Strawberry Yogurt           2  \n",
      "999         131   Even Better Blueberry Yogurt           2  \n",
      "\n",
      "[1000 rows x 9 columns]\n"
     ]
    }
   ],
   "source": [
    "#create a dictionary from payment with payment_type as key and payment_id as value\n",
    "payment_mapping = dict(zip(payment['payment_type'], payment['payment_id']))\n",
    "\n",
    "#use map function to replace payment_type categorical values in payment with corresponding payment_id\n",
    "orders['payment_id'] = orders['payment_type'].map(payment_mapping)\n",
    "\n",
    "#remove the original paymeny_type column\n",
    "orders = orders.drop(columns=['payment_type'])\n",
    "\n",
    "print(orders)"
   ]
  },
  {
   "cell_type": "markdown",
   "metadata": {
    "id": "5YE-DFC5BLrT"
   },
   "source": [
    "### Delivery table df"
   ]
  },
  {
   "cell_type": "code",
   "execution_count": 20,
   "metadata": {
    "id": "I5h-lF_HBLrT",
    "outputId": "8e430b04-53a9-4cc4-d757-753e424f9a8b"
   },
   "outputs": [
    {
     "name": "stdout",
     "output_type": "stream",
     "text": [
      "     delivery_id Invoice ID  store_id  Customer_ID  Quantity\n",
      "0              1      00001         1         2591         7\n",
      "1              2      00002         1         9760         5\n",
      "2              3      00003         1         8726         7\n",
      "3              4      00007         2         2239         6\n",
      "4              5      00008         2         8328        10\n",
      "..           ...        ...       ...          ...       ...\n",
      "476          477      00993         2         4176         2\n",
      "477          478      00994         1         4588        10\n",
      "478          479      00997         2         2966        10\n",
      "479          480      00999         2         5082         1\n",
      "480          481      01000         1         3042         7\n",
      "\n",
      "[481 rows x 5 columns]\n"
     ]
    }
   ],
   "source": [
    "#filter out rows in orders df where 'Delivery' is 'Yes'\n",
    "delivery_orders = orders[orders['Delivery'] == 'Yes'].copy()\n",
    "\n",
    "# Select columns 'Invoice ID', 'store_id', 'Customer_ID', 'Quantity'\n",
    "delivery = delivery_orders[['Invoice ID', 'store_id', 'Customer_ID', 'Quantity']]\n",
    "\n",
    "# Create a new 'delivery_id' column starting from 1\n",
    "delivery.insert(0, 'delivery_id', range(1, 1 + len(delivery)))\n",
    "\n",
    "# Reset the index\n",
    "delivery.reset_index(drop=True, inplace=True)\n",
    "\n",
    "print(delivery)"
   ]
  },
  {
   "cell_type": "markdown",
   "metadata": {
    "id": "lEfmHdjqBLrU"
   },
   "source": [
    "### Transaction table df"
   ]
  },
  {
   "cell_type": "code",
   "execution_count": 21,
   "metadata": {
    "id": "tXZHica1BLrU",
    "outputId": "bf38eced-d66c-4d90-95f9-c9c0e578c317"
   },
   "outputs": [
    {
     "name": "stdout",
     "output_type": "stream",
     "text": [
      "     Invoice ID  Store  Tax 5%  Total       Date      Time  payment_id  \\\n",
      "0             1      1    1.00  19.95 2019-01-05  13:08:00           1   \n",
      "1             2      1    0.19   3.70 2019-03-08  10:29:00           2   \n",
      "2             3      1    0.29   5.81 2019-03-03  13:23:00           3   \n",
      "3             4      1    1.46  29.12 2019-01-27  20:33:00           1   \n",
      "4             5      2    0.77  15.33 2019-02-08  10:37:00           1   \n",
      "..          ...    ...     ...    ...        ...       ...         ...   \n",
      "995         996      2    0.04   0.85 2019-01-29  13:46:00           1   \n",
      "996         997      2    1.64  32.90 2019-03-02  17:16:00           1   \n",
      "997         998      2    0.06   1.25 2019-02-09  13:22:00           2   \n",
      "998         999      2    0.14   2.71 2019-02-22  15:33:00           2   \n",
      "999        1000      1    0.94  18.83 2019-02-18  13:28:00           2   \n",
      "\n",
      "     Quantity  \n",
      "0           7  \n",
      "1           5  \n",
      "2           7  \n",
      "3           8  \n",
      "4           7  \n",
      "..        ...  \n",
      "995         1  \n",
      "996        10  \n",
      "997         1  \n",
      "998         1  \n",
      "999         7  \n",
      "\n",
      "[1000 rows x 8 columns]\n"
     ]
    }
   ],
   "source": [
    "#merge sales_df and newly created payment table by inner joining common key payment_id\n",
    "transaction = pd.merge(sales_df, payment, on='payment_id', how='inner')\n",
    "#select the columns from sales_df and assign them to a new DataFrame\n",
    "transaction = sales_df[['Invoice ID', 'store_id', 'Tax 5%', 'Total', 'Date', 'Time', 'payment_id', 'Quantity']]\n",
    "\n",
    "#rename the columns\n",
    "transaction = transaction.rename(columns={\n",
    "    'Invoice ID': 'Invoice ID',\n",
    "    'store_id': 'Store',\n",
    "    'Tax 5%': 'Tax 5%',\n",
    "    'Total': 'Total',\n",
    "    'Date': 'Date',\n",
    "    'Time': 'Time',\n",
    "    'Payment_ID': 'Payment_ID',\n",
    "    'Quantity': 'Quantity'\n",
    "})\n",
    "\n",
    "print(transaction)"
   ]
  },
  {
   "cell_type": "markdown",
   "metadata": {
    "id": "q1MnBug8BLrU"
   },
   "source": [
    "### Membership table df"
   ]
  },
  {
   "cell_type": "code",
   "execution_count": 22,
   "metadata": {
    "id": "-qTFQC8MBLrU",
    "outputId": "52cc4d61-ea74-4b9b-c1b9-4b33739a3343"
   },
   "outputs": [
    {
     "name": "stdout",
     "output_type": "stream",
     "text": [
      "(10281, 20)\n"
     ]
    }
   ],
   "source": [
    "print(customer_df.shape)"
   ]
  },
  {
   "cell_type": "code",
   "execution_count": 23,
   "metadata": {
    "id": "gGRObJgEBLrU",
    "outputId": "e793f917-22d8-44ff-c396-814cee14ce65"
   },
   "outputs": [
    {
     "name": "stdout",
     "output_type": "stream",
     "text": [
      "       membership_id  customer_id first_name  last_name member_type\n",
      "0        87462024688         8499      Sheri     Nowmer      Bronze\n",
      "1        87470586299         6410    Derrick    Whelply      Bronze\n",
      "2        87475757600          109     Jeanne      Derry      Bronze\n",
      "3        87500482201         6514    Michael     Spence      Normal\n",
      "4        87514054179          704       Maya  Gutierrez      Silver\n",
      "...              ...          ...        ...        ...         ...\n",
      "10243    87070695757         7468        Don     Morton      Silver\n",
      "10244    87074440121         5020     Sharon     Barber      Bronze\n",
      "10245    87095983624         5290      Ricki   Chadwick      Golden\n",
      "10246    87099288105         5676     Thomas   Rickhoff      Bronze\n",
      "10247    87141243219         9681   Clifford     Walker      Bronze\n",
      "\n",
      "[10248 rows x 5 columns]\n"
     ]
    }
   ],
   "source": [
    "#only retrieve the necessary columns from the original customer dataset\n",
    "membership = customer_df[['customer_acct_num', 'first_name', 'last_name', 'member_card']].head(10248).copy()\n",
    "#rename the columns from customer account number to membership id and from member_card to member_type\n",
    "membership.columns = ['membership_id', 'first_name', 'last_name', 'member_type']\n",
    "#randomly generate unique customer id for each member between 1 and 10248 since we have 10248 number of customer in total without duplicates\n",
    "num_ids = 10248\n",
    "customer_id = random.sample(range(1, 10249), num_ids)\n",
    "\n",
    "#add this list as second column to the membership df\n",
    "membership.insert(1, 'customer_id', customer_id)\n",
    "\n",
    "print(membership)"
   ]
  },
  {
   "cell_type": "code",
   "execution_count": 24,
   "metadata": {
    "id": "4lZFmn4SBLrU",
    "outputId": "bf9a0621-5e0c-46d7-f8d1-0eea1c71ef3c"
   },
   "outputs": [
    {
     "name": "stdout",
     "output_type": "stream",
     "text": [
      "False\n"
     ]
    }
   ],
   "source": [
    "#check if there is duplicates in customer_id in membership table\n",
    "print(membership['customer_id'].duplicated().any())\n"
   ]
  },
  {
   "cell_type": "markdown",
   "metadata": {
    "id": "AShFwSXuBLrZ"
   },
   "source": [
    "### Vendor df table"
   ]
  },
  {
   "cell_type": "code",
   "execution_count": 25,
   "metadata": {
    "id": "ifFqxyIuBLrZ",
    "outputId": "b31d5fc5-6e2a-4d82-bf86-cc14bd592bdc"
   },
   "outputs": [
    {
     "name": "stdout",
     "output_type": "stream",
     "text": [
      "     vendor_id  product_id   vendor_name\n",
      "0            1         319    Washington\n",
      "1            2        1041       Jeffers\n",
      "2            3         798    Blue Label\n",
      "3            4         579  Green Ribbon\n",
      "4            5         414          King\n",
      "..         ...         ...           ...\n",
      "106        107         360    Gulf Coast\n",
      "107        108         259        Jardon\n",
      "108        109         422   Top Measure\n",
      "109        110         752        Modell\n",
      "110        111         333           CDR\n",
      "\n",
      "[111 rows x 3 columns]\n"
     ]
    }
   ],
   "source": [
    "#retrieve unique brand names\n",
    "unique_brands = product_df['product_brand'].unique()\n",
    "\n",
    "#create random unique product IDs since we only have 1560 products\n",
    "np.random.seed(0)  # for reproducibility\n",
    "product_ids = np.random.choice(range(1560), size=len(unique_brands), replace=False)\n",
    "\n",
    "# Create the vendor DataFrame\n",
    "vendor = pd.DataFrame({\n",
    "    'vendor_id': np.arange(1, len(unique_brands) + 1),\n",
    "    'product_id': product_ids,\n",
    "    'vendor_name': unique_brands\n",
    "})\n",
    "\n",
    "print(vendor)"
   ]
  },
  {
   "cell_type": "markdown",
   "metadata": {
    "id": "AZopXjrcBLrZ"
   },
   "source": [
    "### Staff df table\n",
    "**all table is simulated**"
   ]
  },
  {
   "cell_type": "code",
   "execution_count": 26,
   "metadata": {
    "id": "pQYV-MkkBLrZ",
    "outputId": "a31379c0-e07f-4aa4-998c-c2dc30bd95cc"
   },
   "outputs": [
    {
     "name": "stdout",
     "output_type": "stream",
     "text": [
      "   staff_id  store_id      first_name      last_name  staff_salary  gender  \\\n",
      "0     00001         2   Staff_First_1   Staff_Last_1        179000  Female   \n",
      "1     00002         1   Staff_First_2   Staff_Last_2        149000  Female   \n",
      "2     00003         2   Staff_First_3   Staff_Last_3        164000  Female   \n",
      "3     00004         2   Staff_First_4   Staff_Last_4        224000    Male   \n",
      "4     00005         1   Staff_First_5   Staff_Last_5        105000  Female   \n",
      "5     00006         1   Staff_First_6   Staff_Last_6         60000  Female   \n",
      "6     00007         1   Staff_First_7   Staff_Last_7         74000    Male   \n",
      "7     00008         1   Staff_First_8   Staff_Last_8        145000    Male   \n",
      "8     00009         2   Staff_First_9   Staff_Last_9         93000  Female   \n",
      "9     00010         2  Staff_First_10  Staff_Last_10        191000  Female   \n",
      "10    00011         1  Staff_First_11  Staff_Last_11        105000  Female   \n",
      "11    00012         2  Staff_First_12  Staff_Last_12         55000  Female   \n",
      "12    00013         2  Staff_First_13  Staff_Last_13        201000    Male   \n",
      "13    00014         2  Staff_First_14  Staff_Last_14         92000    Male   \n",
      "14    00015         2  Staff_First_15  Staff_Last_15        153000  Female   \n",
      "15    00016         2  Staff_First_16  Staff_Last_16         99000    Male   \n",
      "16    00017         2  Staff_First_17  Staff_Last_17        151000    Male   \n",
      "17    00018         1  Staff_First_18  Staff_Last_18        152000    Male   \n",
      "18    00019         2  Staff_First_19  Staff_Last_19        125000    Male   \n",
      "19    00020         2  Staff_First_20  Staff_Last_20        167000    Male   \n",
      "20    00021         2  Staff_First_21  Staff_Last_21        234000  Female   \n",
      "21    00022         1  Staff_First_22  Staff_Last_22        221000  Female   \n",
      "22    00023         2  Staff_First_23  Staff_Last_23        202000    Male   \n",
      "23    00024         2  Staff_First_24  Staff_Last_24        131000  Female   \n",
      "24    00025         2  Staff_First_25  Staff_Last_25         71000    Male   \n",
      "25    00026         2  Staff_First_26  Staff_Last_26        196000    Male   \n",
      "26    00027         2  Staff_First_27  Staff_Last_27        113000    Male   \n",
      "27    00028         1  Staff_First_28  Staff_Last_28        139000    Male   \n",
      "28    00029         2  Staff_First_29  Staff_Last_29         79000    Male   \n",
      "29    00030         2  Staff_First_30  Staff_Last_30         87000  Female   \n",
      "30    00031         1  Staff_First_31  Staff_Last_31        227000  Female   \n",
      "31    00032         1  Staff_First_32  Staff_Last_32        218000  Female   \n",
      "32    00033         2  Staff_First_33  Staff_Last_33        156000  Female   \n",
      "\n",
      "   contact_details  \n",
      "0     555-555-0001  \n",
      "1     555-555-0002  \n",
      "2     555-555-0003  \n",
      "3     555-555-0004  \n",
      "4     555-555-0005  \n",
      "5     555-555-0006  \n",
      "6     555-555-0007  \n",
      "7     555-555-0008  \n",
      "8     555-555-0009  \n",
      "9     555-555-0010  \n",
      "10    555-555-0011  \n",
      "11    555-555-0012  \n",
      "12    555-555-0013  \n",
      "13    555-555-0014  \n",
      "14    555-555-0015  \n",
      "15    555-555-0016  \n",
      "16    555-555-0017  \n",
      "17    555-555-0018  \n",
      "18    555-555-0019  \n",
      "19    555-555-0020  \n",
      "20    555-555-0021  \n",
      "21    555-555-0022  \n",
      "22    555-555-0023  \n",
      "23    555-555-0024  \n",
      "24    555-555-0025  \n",
      "25    555-555-0026  \n",
      "26    555-555-0027  \n",
      "27    555-555-0028  \n",
      "28    555-555-0029  \n",
      "29    555-555-0030  \n",
      "30    555-555-0031  \n",
      "31    555-555-0032  \n",
      "32    555-555-0033  \n"
     ]
    }
   ],
   "source": [
    "# Number of staff we want\n",
    "n_staff = 33\n",
    "\n",
    "# Staff UID\n",
    "staff_ids = [str(i).zfill(5) for i in range(1, n_staff+1)]\n",
    "\n",
    "#randomly assign store id 1/2 for each staff\n",
    "store_ids = np.random.choice([1, 2], size=n_staff)\n",
    "\n",
    "#randomly generate first and last names (just as examples, you can use a more sophisticated name generator if you want)\n",
    "first_names = [\"Staff_First_\" + str(i) for i in range(1, n_staff+1)]\n",
    "last_names = [\"Staff_Last_\" + str(i) for i in range(1, n_staff+1)]\n",
    "\n",
    "# randomly generate staff salaries in thousands\n",
    "staff_salaries_thousands = np.random.randint(50, 240, size=n_staff)\n",
    "# Convert to actual salary\n",
    "staff_salaries = staff_salaries_thousands * 1000\n",
    "\n",
    "# Generate genders (assuming roughly equal distribution of male and female)\n",
    "genders = np.random.choice([\"Male\", \"Female\"], size=n_staff)\n",
    "\n",
    "# Generate random contact details (just as examples, you can use a more sophisticated generator if you want)\n",
    "contact_details = [\"555-555-\" + str(i).zfill(4) for i in range(1, n_staff+1)]\n",
    "\n",
    "# Create the DataFrame\n",
    "staff = pd.DataFrame({\n",
    "    'staff_id': staff_ids,\n",
    "    'store_id': store_ids,\n",
    "    'first_name': first_names,\n",
    "    'last_name': last_names,\n",
    "    'staff_salary': staff_salaries,\n",
    "    'gender': genders,\n",
    "    'contact_details': contact_details\n",
    "})\n",
    "\n",
    "print(staff)"
   ]
  },
  {
   "cell_type": "markdown",
   "metadata": {
    "id": "dOOEfIo_BLrZ"
   },
   "source": [
    "### Inventory df table"
   ]
  },
  {
   "cell_type": "code",
   "execution_count": 27,
   "metadata": {
    "id": "yWpMIPqTBLrZ",
    "outputId": "d8c5caf5-d667-4ab2-bea1-dfcf0ee2c731"
   },
   "outputs": [
    {
     "name": "stdout",
     "output_type": "stream",
     "text": [
      "      product_id  store_id  product_sku  quantity\n",
      "0              1         2  90748583674        21\n",
      "1              2         2  96516502499        39\n",
      "2              3         2  58427771925        15\n",
      "3              4         1  64412155747        79\n",
      "4              5         2  85561191439        67\n",
      "...          ...       ...          ...       ...\n",
      "1555        1556         1  29538288712        67\n",
      "1556        1557         2  50687324404        24\n",
      "1557        1558         1  84930775761        17\n",
      "1558        1559         1  75317577719        58\n",
      "1559        1560         1  54896665215        83\n",
      "\n",
      "[1560 rows x 4 columns]\n"
     ]
    }
   ],
   "source": [
    "n_products = len(product_df)\n",
    "\n",
    "#assign serial number for each product\n",
    "product_id = range(1, n_products+1)\n",
    "\n",
    "#randomly generate store id for each product inventory level\n",
    "store_id = np.random.choice([1, 2], size=n_products)\n",
    "\n",
    "#create the 'product_sku' column from product_df\n",
    "product_sku = product_df['product_sku'].values\n",
    "\n",
    "#randomly simulate the 'quantity' column from 10 to 100\n",
    "quantity = np.random.randint(10, 101, size=n_products)\n",
    "\n",
    "#create the 'inventory' DataFrame\n",
    "inventory = pd.DataFrame({\n",
    "    'product_id': product_id,\n",
    "    'store_id': store_id,\n",
    "    'product_sku': product_sku,\n",
    "    'quantity': quantity,\n",
    "})\n",
    "\n",
    "print(inventory)"
   ]
  },
  {
   "cell_type": "markdown",
   "metadata": {
    "id": "28PEchIUBLra"
   },
   "source": [
    "### Rating df table"
   ]
  },
  {
   "cell_type": "code",
   "execution_count": 28,
   "metadata": {
    "id": "l1qvUqK-BLra",
    "outputId": "c23c60c2-4316-481a-851a-2c9b322b63c9"
   },
   "outputs": [
    {
     "name": "stdout",
     "output_type": "stream",
     "text": [
      "     Invoice ID  Customer_ID  Rating\n",
      "0             1         2610     9.1\n",
      "1             2         2565     9.6\n",
      "2             3         8081     7.4\n",
      "3             4         9668     8.4\n",
      "4             5         2921     5.3\n",
      "..          ...          ...     ...\n",
      "995         996         3594     6.2\n",
      "996         997          667     4.4\n",
      "997         998         4969     7.7\n",
      "998         999          115     4.1\n",
      "999        1000         2278     6.6\n",
      "\n",
      "[1000 rows x 3 columns]\n"
     ]
    }
   ],
   "source": [
    "#extract Invoice ID and Ratings columns from sales_df\n",
    "invoice_ids = sales_df['Invoice ID']\n",
    "ratings = sales_df['Rating']\n",
    "\n",
    "#randomly generate Customer_IDs in the range 1 to 10248\n",
    "n_records = len(invoice_ids)\n",
    "customer_ids = np.random.randint(1, 10249, size=n_records)\n",
    "\n",
    "#create the DataFrame\n",
    "rating = pd.DataFrame({\n",
    "    'Invoice ID': invoice_ids,\n",
    "    'Customer_ID': customer_ids,\n",
    "    'Rating': ratings\n",
    "})\n",
    "\n",
    "print(rating)"
   ]
  },
  {
   "cell_type": "markdown",
   "metadata": {
    "id": "PagXNF7LBLra"
   },
   "source": [
    "### Cost df table"
   ]
  },
  {
   "cell_type": "code",
   "execution_count": 29,
   "metadata": {
    "id": "yi2oyN7DBLra",
    "outputId": "73809cd8-b96f-4d8c-881b-d697dbe06d8f"
   },
   "outputs": [
    {
     "name": "stdout",
     "output_type": "stream",
     "text": [
      "     Invoice ID  Store       Date  Total       cost\n",
      "0             1      2 2019-01-05  19.95  14.176699\n",
      "1             2      2 2019-03-08   3.70   3.047417\n",
      "2             3      2 2019-03-03   5.81   4.111684\n",
      "3             4      1 2019-01-27  29.12  23.897652\n",
      "4             5      2 2019-02-08  15.33  11.525460\n",
      "..          ...    ...        ...    ...        ...\n",
      "995         996      2 2019-01-29   0.85   0.746627\n",
      "996         997      2 2019-03-02  32.90  27.095969\n",
      "997         998      2 2019-02-09   1.25   0.906107\n",
      "998         999      2 2019-02-22   2.71   2.237156\n",
      "999        1000      1 2019-02-18  18.83  16.529102\n",
      "\n",
      "[1000 rows x 5 columns]\n"
     ]
    }
   ],
   "source": [
    "#count the length of sales_df data to fit the size of random simulation in store id and cost\n",
    "n_records = len(sales_df)\n",
    "\n",
    "#get the 'Invoice ID', 'Date', and 'Total' columns from sales_df\n",
    "invoice_id = sales_df['Invoice ID'].values\n",
    "date = sales_df['Date'].values\n",
    "total = sales_df['Total'].values\n",
    "\n",
    "#randomly assign 1 or 2 into each row of the 'store_id' column\n",
    "store = np.random.choice([1, 2], size=n_records)\n",
    "\n",
    "#randomly create the 'cost' column between 0.7 and 0.9\n",
    "total_cost = total * np.random.uniform(0.7, 0.9, size=n_records)\n",
    "\n",
    "# Create the 'cost' DataFrame\n",
    "cost = pd.DataFrame({\n",
    "    'Invoice ID': invoice_id,\n",
    "    'Store': store,\n",
    "    'Date': date,\n",
    "    'Total': total,\n",
    "    'cost': total_cost,\n",
    "})\n",
    "\n",
    "print(cost)\n"
   ]
  },
  {
   "cell_type": "markdown",
   "metadata": {
    "id": "Mqbas_wrBLra"
   },
   "source": [
    "### Income df table"
   ]
  },
  {
   "cell_type": "code",
   "execution_count": 30,
   "metadata": {
    "id": "ahF4w5_aBLra",
    "outputId": "f076f1ae-c2f2-4592-9a0c-7f474f734b26"
   },
   "outputs": [
    {
     "name": "stdout",
     "output_type": "stream",
     "text": [
      "     Invoice ID  Store       Date  Total  gross income\n",
      "0             1      2 2019-01-05  19.95       26.1415\n",
      "1             2      2 2019-03-08   3.70        3.8200\n",
      "2             3      1 2019-03-03   5.81       16.2155\n",
      "3             4      2 2019-01-27  29.12       23.2880\n",
      "4             5      1 2019-02-08  15.33       30.2085\n",
      "..          ...    ...        ...    ...           ...\n",
      "995         996      1 2019-01-29   0.85        2.0175\n",
      "996         997      2 2019-03-02  32.90       48.6900\n",
      "997         998      1 2019-02-09   1.25        1.5920\n",
      "998         999      1 2019-02-22   2.71        3.2910\n",
      "999        1000      1 2019-02-18  18.83       30.9190\n",
      "\n",
      "[1000 rows x 5 columns]\n"
     ]
    }
   ],
   "source": [
    "#count the length of sales_df data to fit the size of random simulation in store id\n",
    "n_records = sales_df.shape[0]\n",
    "\n",
    "#randomly assign 1 or 2 into each row of the 'store_id' column\n",
    "store = np.random.choice([1, 2], size=n_records)\n",
    "\n",
    "#create income DataFrame\n",
    "income = pd.DataFrame({\n",
    "    'Invoice ID': sales_df['Invoice ID'],\n",
    "    'Store': store,\n",
    "    'Date': sales_df['Date'],\n",
    "    'Total': sales_df['Total'],\n",
    "    'gross income': sales_df['gross income']\n",
    "})\n",
    "\n",
    "print(income)"
   ]
  },
  {
   "cell_type": "markdown",
   "metadata": {
    "id": "yqccBrENBLra"
   },
   "source": [
    "# Connect database"
   ]
  },
  {
   "cell_type": "code",
   "execution_count": 32,
   "metadata": {
    "id": "Qg7KyqbfBLra"
   },
   "outputs": [],
   "source": [
    "import psycopg2\n",
    "\n",
    "# Connect to database\n",
    "conn = psycopg2.connect(\n",
    "    dbname='group_project',\n",
    "    host='localhost',\n",
    "    port=5432,\n",
    "    user='postgres',\n",
    "    password='123'\n",
    ")\n",
    "\n",
    "# Connect the cursor\n",
    "cur = conn.cursor()"
   ]
  },
  {
   "cell_type": "markdown",
   "metadata": {
    "id": "a5HdM5wLBLra"
   },
   "source": [
    "#### Drop the table if needed"
   ]
  },
  {
   "cell_type": "code",
   "execution_count": null,
   "metadata": {
    "id": "rtpV-wGFBLra"
   },
   "outputs": [],
   "source": [
    "# List of all tables you want to drop\n",
    "#tables_to_drop = [\"Customer\", \"Store\", \"Payment\", \"Orders\"]  # Add more tables to the list as needed\n",
    "\n",
    "#for table in tables_to_drop:\n",
    "    #cur.execute(f\"DROP TABLE IF EXISTS {table} CASCADE\")\n",
    "\n",
    "#conn.commit()"
   ]
  },
  {
   "cell_type": "markdown",
   "metadata": {
    "id": "ONgQsD2JBLra"
   },
   "source": [
    "## Store"
   ]
  },
  {
   "cell_type": "code",
   "execution_count": 33,
   "metadata": {
    "id": "vYN4u9KWBLra",
    "outputId": "079b7813-8278-4d70-92e4-5d88878d1ed2"
   },
   "outputs": [
    {
     "data": {
      "text/plain": [
       "RangeIndex(start=0, stop=1, step=1)"
      ]
     },
     "execution_count": 33,
     "metadata": {},
     "output_type": "execute_result"
    }
   ],
   "source": [
    "store = pd.DataFrame(store)\n",
    "store.columns"
   ]
  },
  {
   "cell_type": "code",
   "execution_count": 34,
   "metadata": {
    "id": "5EDTrdzsBLrb"
   },
   "outputs": [],
   "source": [
    "#if the transaction is aborted run this line\n",
    "conn.rollback()\n",
    "\n",
    "create_store = \"\"\"\n",
    "CREATE TABLE Store (\n",
    "    store_id INT PRIMARY KEY,\n",
    "    store_city VARCHAR(255),\n",
    "    store_street_address VARCHAR(255),\n",
    "    store_phone VARCHAR(15),\n",
    "    store_sqft INT\n",
    ");\n",
    "\"\"\"\n",
    "\n",
    "cur.execute(create_store)\n",
    "\n",
    "for index, row in store1.iterrows():\n",
    "    cur.execute(\n",
    "        \"\"\"\n",
    "        INSERT INTO Store (store_id, store_city, store_street_address, store_phone, store_sqft)\n",
    "        VALUES (%s, %s, %s, %s, %s);\n",
    "        \"\"\",  (row['store_id'],\trow['store_city'],\trow['store_street_address'],\trow['store_phone'],\trow['store_sqft'])\n",
    "\n",
    "    )\n",
    "\n",
    "conn.commit()\n"
   ]
  },
  {
   "cell_type": "code",
   "execution_count": 35,
   "metadata": {
    "id": "NFIq25t6BLrb",
    "outputId": "0950256b-8335-4ed1-f85f-7077745f346f"
   },
   "outputs": [
    {
     "name": "stdout",
     "output_type": "stream",
     "text": [
      "(1, 'Queens, NY', '3569 Jamaica Ave', '501-555-4834', 23593)\n",
      "(2, 'Queens, NY', '2233 Jamaica Ave', '959-555-2149', 28206)\n"
     ]
    }
   ],
   "source": [
    "conn.rollback()\n",
    "query = \"SELECT * FROM Store LIMIT 5;\"\n",
    "cur.execute(query)\n",
    "result = cur.fetchall()\n",
    "\n",
    "for row in result:\n",
    "    print(row)"
   ]
  },
  {
   "cell_type": "markdown",
   "metadata": {
    "id": "VUttcvUKBLrb"
   },
   "source": [
    "## Payment"
   ]
  },
  {
   "cell_type": "code",
   "execution_count": 36,
   "metadata": {
    "id": "k03twtSzBLrb"
   },
   "outputs": [],
   "source": [
    "conn.rollback()\n",
    "\n",
    "create_payment = \"\"\"\n",
    "CREATE TABLE Payment (\n",
    "    payment_id INT PRIMARY KEY,\n",
    "    payment_type VARCHAR(50)\n",
    ");\n",
    "\"\"\"\n",
    "\n",
    "cur.execute(create_payment)\n",
    "\n",
    "for index, row in payment.iterrows():\n",
    "    cur.execute(\n",
    "        \"\"\"\n",
    "        INSERT INTO Payment (payment_id, payment_type)\n",
    "        VALUES (%s, %s);\n",
    "        \"\"\",  (row['payment_id'],\trow['payment_type'])\n",
    "\n",
    "    )\n",
    "\n",
    "conn.commit()"
   ]
  },
  {
   "cell_type": "code",
   "execution_count": 37,
   "metadata": {
    "id": "2KsiwRLtBLrb",
    "outputId": "56f75494-9b80-4aca-f3ff-85bcd0ca9f69"
   },
   "outputs": [
    {
     "name": "stdout",
     "output_type": "stream",
     "text": [
      "(1, 'Ewallet')\n",
      "(2, 'Cash')\n",
      "(3, 'Credit card')\n"
     ]
    }
   ],
   "source": [
    "conn.rollback()\n",
    "query = \"SELECT * FROM Payment LIMIT 5;\"\n",
    "cur.execute(query)\n",
    "result = cur.fetchall()\n",
    "\n",
    "for row in result:\n",
    "    print(row)"
   ]
  },
  {
   "cell_type": "markdown",
   "metadata": {
    "id": "CQ1tZ6WJBLrb"
   },
   "source": [
    "## Customer"
   ]
  },
  {
   "cell_type": "code",
   "execution_count": 38,
   "metadata": {
    "id": "MUTnr5h-BLrb"
   },
   "outputs": [],
   "source": [
    "conn.rollback()\n",
    "\n",
    "create_customer = \"\"\"\n",
    "CREATE TABLE Customer (\n",
    "    customer_id INT PRIMARY KEY,\n",
    "    first_name VARCHAR(100),\n",
    "    last_name VARCHAR(100),\n",
    "    customer_address VARCHAR(255),\n",
    "    customer_city VARCHAR(100),\n",
    "    customer_state_province VARCHAR(100),\n",
    "    customer_postal_code VARCHAR(10),\n",
    "    birthdate DATE,\n",
    "    gender CHAR(1)\n",
    ");\n",
    "\"\"\"\n",
    "\n",
    "cur.execute(create_customer)\n",
    "\n",
    "for index, row in customer.iterrows():\n",
    "    cur.execute(\n",
    "        \"\"\"\n",
    "        INSERT INTO Customer (customer_id, first_name, last_name, customer_address, customer_city,\n",
    "                              customer_state_province, customer_postal_code, birthdate, gender)\n",
    "        VALUES (%s, %s, %s, %s, %s, %s, %s, %s, %s);\n",
    "        \"\"\",\n",
    "        (row['customer_id'], row['first_name'], row['last_name'],\n",
    "         row['customer_address'], row['customer_city'], row['customer_state_province'],\n",
    "         row['customer_postal_code'], row['birthdate'], row['gender'])\n",
    "    )\n",
    "\n",
    "# Commit the changes\n",
    "conn.commit()"
   ]
  },
  {
   "cell_type": "code",
   "execution_count": 39,
   "metadata": {
    "id": "NWmN4NUgBLrb",
    "outputId": "eb55d549-0d00-433b-d45e-8590510f2bd1"
   },
   "outputs": [
    {
     "name": "stdout",
     "output_type": "stream",
     "text": [
      "(1, 'Sheri', 'Nowmer', '2433 Bailey Road', 'Tlaxiaco', 'Oaxaca', '15057', datetime.date(1961, 8, 26), 'F')\n",
      "(2, 'Derrick', 'Whelply', '2219 Dewing Avenue', 'Sooke', 'BC', '17172', datetime.date(1915, 7, 3), 'M')\n",
      "(3, 'Jeanne', 'Derry', '7640 First Ave.', 'Issaquah', 'WA', '73980', datetime.date(1910, 6, 21), 'F')\n",
      "(4, 'Michael', 'Spence', '337 Tosca Way', 'Burnaby', 'BC', '74674', datetime.date(1969, 6, 20), 'M')\n",
      "(5, 'Maya', 'Gutierrez', '8668 Via Neruda', 'Novato', 'CA', '57355', datetime.date(1951, 5, 10), 'F')\n"
     ]
    }
   ],
   "source": [
    "conn.rollback()\n",
    "query = \"SELECT * FROM Customer LIMIT 5;\"\n",
    "cur.execute(query)\n",
    "result = cur.fetchall()\n",
    "\n",
    "for row in result:\n",
    "    print(row)"
   ]
  },
  {
   "cell_type": "markdown",
   "metadata": {
    "id": "Z34VfGM4BLrb"
   },
   "source": [
    "## Membership Info"
   ]
  },
  {
   "cell_type": "code",
   "execution_count": 40,
   "metadata": {
    "id": "hlwdxS4mBLrb"
   },
   "outputs": [],
   "source": [
    "conn.rollback()\n",
    "create_membership = \"\"\"\n",
    "    CREATE TABLE \"Membership\" (\n",
    "    membership_id BIGINT PRIMARY KEY,\n",
    "    customer_id INT,\n",
    "    first_name VARCHAR(255),\n",
    "    last_name VARCHAR(255),\n",
    "    member_type VARCHAR(255),\n",
    "    FOREIGN KEY (customer_id) REFERENCES Customer(customer_id)\n",
    ");\n",
    "\"\"\"\n",
    "\n",
    "cur.execute(create_membership)\n",
    "\n",
    "# Loop over each row in membership_data to insert the data into the Membership_info table\n",
    "for index, row in membership.iterrows():\n",
    "    cur.execute(\n",
    "        \"\"\"\n",
    "        INSERT INTO \"Membership\" (membership_id, customer_id, first_name, last_name, member_type)\n",
    "        VALUES (%s, %s, %s, %s, %s);\n",
    "        \"\"\",\n",
    "        (row['membership_id'], row['customer_id'], row['first_name'], row['last_name'], row['member_type'])\n",
    "    )\n",
    "\n",
    "# Commit the changes\n",
    "conn.commit()"
   ]
  },
  {
   "cell_type": "code",
   "execution_count": 41,
   "metadata": {
    "id": "7eIjclSeBLrb",
    "outputId": "33ee5bb2-1107-4859-c0e4-8d3e4b40653a"
   },
   "outputs": [
    {
     "name": "stdout",
     "output_type": "stream",
     "text": [
      "(87462024688, 8499, 'Sheri', 'Nowmer', 'Bronze')\n",
      "(87470586299, 6410, 'Derrick', 'Whelply', 'Bronze')\n",
      "(87475757600, 109, 'Jeanne', 'Derry', 'Bronze')\n",
      "(87500482201, 6514, 'Michael', 'Spence', 'Normal')\n",
      "(87514054179, 704, 'Maya', 'Gutierrez', 'Silver')\n"
     ]
    }
   ],
   "source": [
    "conn.rollback()\n",
    "query = 'SELECT * FROM \"Membership\" LIMIT 5;'\n",
    "\n",
    "cur.execute(query)\n",
    "result = cur.fetchall()\n",
    "\n",
    "for row in result:\n",
    "    print(row)"
   ]
  },
  {
   "cell_type": "markdown",
   "metadata": {
    "id": "FvXE4ZR6BLrb"
   },
   "source": [
    "## Product Categories"
   ]
  },
  {
   "cell_type": "code",
   "execution_count": 42,
   "metadata": {
    "id": "v9E5a9nLBLrc"
   },
   "outputs": [],
   "source": [
    "conn.rollback()\n",
    "create_product_category = \"\"\"\n",
    "CREATE TABLE \"product_category\" (\n",
    "    category_id INT PRIMARY KEY,\n",
    "    Product_line VARCHAR(255)\n",
    ");\n",
    "\"\"\"\n",
    "\n",
    "cur.execute(create_product_category)\n",
    "\n",
    "for index, row in product_category.iterrows():\n",
    "    cur.execute(\n",
    "        \"\"\"\n",
    "        INSERT INTO \"product_category\" (category_id, Product_line)\n",
    "        VALUES (%s, %s);\n",
    "        \"\"\",\n",
    "        (row['category_id'], row['product_category'])\n",
    "    )\n",
    "\n",
    "# Commit the changes\n",
    "conn.commit()"
   ]
  },
  {
   "cell_type": "code",
   "execution_count": 43,
   "metadata": {
    "id": "AilKrswABLrc",
    "outputId": "2d1b831b-1f83-4339-8ee0-d3d192c4a873"
   },
   "outputs": [
    {
     "name": "stdout",
     "output_type": "stream",
     "text": [
      "(1, 'Health and beauty')\n",
      "(2, 'Electronic accessories')\n",
      "(3, 'Home and lifestyle')\n",
      "(4, 'Sports and travel')\n",
      "(5, 'Food and beverages')\n"
     ]
    }
   ],
   "source": [
    "conn.rollback()\n",
    "query = 'SELECT * FROM \"product_category\" LIMIT 5;'\n",
    "\n",
    "cur.execute(query)\n",
    "result = cur.fetchall()\n",
    "\n",
    "for row in result:\n",
    "    print(row)"
   ]
  },
  {
   "cell_type": "markdown",
   "metadata": {
    "id": "KiIQHQ78BLrc"
   },
   "source": [
    "## Product"
   ]
  },
  {
   "cell_type": "code",
   "execution_count": 44,
   "metadata": {
    "id": "wwe-hf8TBLrc"
   },
   "outputs": [],
   "source": [
    "conn.rollback()\n",
    "\n",
    "# Create the Product table SQL statement\n",
    "create_product_table = \"\"\"\n",
    "    CREATE TABLE \"Product\" (\n",
    "    product_id INT PRIMARY KEY,\n",
    "    product_brand VARCHAR(100),\n",
    "    product_name VARCHAR(255),\n",
    "    product_sku VARCHAR(15),\n",
    "    product_retail_price DECIMAL(10, 2),\n",
    "    product_cost DECIMAL(10, 2),\n",
    "    category_id INT,\n",
    "    FOREIGN KEY (category_id) REFERENCES product_category(category_id)\n",
    ");\n",
    "\"\"\"\n",
    "cur.execute(create_product_table)\n",
    "\n",
    "for index, row in product.iterrows():\n",
    "    cur.execute(\n",
    "        \"\"\"\n",
    "        INSERT INTO \"Product\" (product_id, product_brand, product_name, product_sku, product_retail_price, product_cost, category_id)\n",
    "        VALUES (%s, %s, %s, %s, %s, %s, %s);\n",
    "        \"\"\",\n",
    "        (row['product_id'], row['product_brand'], row['product_name'], row['product_sku'],\n",
    "         row['product_retail_price'], row['product_cost'], row['category_id'])\n",
    "    )\n",
    "\n",
    "conn.commit()"
   ]
  },
  {
   "cell_type": "code",
   "execution_count": 45,
   "metadata": {
    "id": "jcDt92hsBLrc",
    "outputId": "c76d48c7-430a-421a-c1f7-f835d9121868"
   },
   "outputs": [
    {
     "name": "stdout",
     "output_type": "stream",
     "text": [
      "(1, 'Washington', 'Washington Berry Juice', '90748583674', Decimal('2.85'), Decimal('0.94'), 5)\n",
      "(2, 'Washington', 'Washington Mango Drink', '96516502499', Decimal('0.74'), Decimal('0.26'), 5)\n",
      "(3, 'Washington', 'Washington Strawberry Drink', '58427771925', Decimal('0.83'), Decimal('0.40'), 5)\n",
      "(4, 'Washington', 'Washington Cream Soda', '64412155747', Decimal('3.64'), Decimal('1.64'), 5)\n",
      "(5, 'Washington', 'Washington Diet Soda', '85561191439', Decimal('2.19'), Decimal('0.77'), 5)\n"
     ]
    }
   ],
   "source": [
    "conn.rollback()\n",
    "query = 'SELECT * FROM \"Product\" LIMIT 5;'\n",
    "\n",
    "cur.execute(query)\n",
    "result = cur.fetchall()\n",
    "\n",
    "for row in result:\n",
    "    print(row)"
   ]
  },
  {
   "cell_type": "markdown",
   "metadata": {
    "id": "j1QMsHM2BLrc"
   },
   "source": [
    "## Vendor"
   ]
  },
  {
   "cell_type": "code",
   "execution_count": 46,
   "metadata": {
    "id": "nm2KCCd0BLrc"
   },
   "outputs": [],
   "source": [
    "#cur.execute(\"DROP TABLE IF EXISTS vendor;\")\n",
    "conn.rollback()\n",
    "create_vendor = \"\"\"\n",
    "CREATE TABLE \"vendor\" (\n",
    "    vendor_id INT PRIMARY KEY,\n",
    "    product_id INT,\n",
    "    vendor_name VARCHAR(255),\n",
    "    FOREIGN KEY (product_id) REFERENCES \"Product\"(product_id)\n",
    ");\n",
    "\"\"\"\n",
    "\n",
    "cur.execute(create_vendor)\n",
    "\n",
    "for index, row in vendor.iterrows():\n",
    "    cur.execute(\n",
    "        \"\"\"\n",
    "        INSERT INTO \"vendor\" (vendor_id, product_id, vendor_name)\n",
    "        VALUES (%s, %s, %s);\n",
    "        \"\"\",\n",
    "        (row['vendor_id'], row['product_id'], row['vendor_name'])\n",
    "    )\n",
    "\n",
    "conn.commit()"
   ]
  },
  {
   "cell_type": "code",
   "execution_count": 47,
   "metadata": {
    "id": "xtyD7vPRBLrc",
    "outputId": "36e2156a-2521-46ad-8896-b4aa1ca8ec8b"
   },
   "outputs": [
    {
     "name": "stdout",
     "output_type": "stream",
     "text": [
      "(1, 'Health and beauty')\n",
      "(2, 'Electronic accessories')\n",
      "(3, 'Home and lifestyle')\n",
      "(4, 'Sports and travel')\n",
      "(5, 'Food and beverages')\n"
     ]
    }
   ],
   "source": [
    "query = 'SELECT * FROM \"product_category\" LIMIT 5;'\n",
    "\n",
    "cur.execute(query)\n",
    "result = cur.fetchall()\n",
    "\n",
    "for row in result:\n",
    "    print(row)"
   ]
  },
  {
   "cell_type": "markdown",
   "metadata": {
    "id": "vEKPkNA6BLrc"
   },
   "source": [
    "## Staff"
   ]
  },
  {
   "cell_type": "code",
   "execution_count": 48,
   "metadata": {
    "id": "NmkxJJkOBLrc"
   },
   "outputs": [],
   "source": [
    "conn.rollback()\n",
    "create_staff = \"\"\"\n",
    "CREATE TABLE \"staff\" (\n",
    "    staff_id INT PRIMARY KEY,\n",
    "    store_id INT,\n",
    "    first_name VARCHAR(255),\n",
    "    last_name VARCHAR(255),\n",
    "    staff_salary INT,\n",
    "    gender CHAR(10),\n",
    "    contact_details VARCHAR(255),\n",
    "    FOREIGN KEY (store_id) REFERENCES Store(store_id)\n",
    ");\n",
    "\"\"\"\n",
    "\n",
    "cur.execute(create_staff)\n",
    "\n",
    "for index, row in staff.iterrows():\n",
    "    cur.execute(\n",
    "        \"\"\"\n",
    "        INSERT INTO \"staff\" (staff_id, store_id, first_name, last_name, staff_salary, gender, contact_details)\n",
    "        VALUES (%s, %s, %s, %s, %s, %s, %s);\n",
    "        \"\"\",\n",
    "        (row['staff_id'], row['store_id'], row['first_name'], row['last_name'], row['staff_salary'], row['gender'], row['contact_details'])\n",
    "    )\n",
    "\n",
    "conn.commit()"
   ]
  },
  {
   "cell_type": "code",
   "execution_count": 49,
   "metadata": {
    "id": "qe4wrqaDBLrc",
    "outputId": "056dc740-27ee-4429-fd63-b4d5789a748f"
   },
   "outputs": [
    {
     "name": "stdout",
     "output_type": "stream",
     "text": [
      "(1, 2, 'Staff_First_1', 'Staff_Last_1', 179000, 'Female    ', '555-555-0001')\n",
      "(2, 1, 'Staff_First_2', 'Staff_Last_2', 149000, 'Female    ', '555-555-0002')\n",
      "(3, 2, 'Staff_First_3', 'Staff_Last_3', 164000, 'Female    ', '555-555-0003')\n",
      "(4, 2, 'Staff_First_4', 'Staff_Last_4', 224000, 'Male      ', '555-555-0004')\n",
      "(5, 1, 'Staff_First_5', 'Staff_Last_5', 105000, 'Female    ', '555-555-0005')\n"
     ]
    }
   ],
   "source": [
    "query = 'SELECT * FROM \"staff\" LIMIT 5;'\n",
    "\n",
    "cur.execute(query)\n",
    "result = cur.fetchall()\n",
    "\n",
    "for row in result:\n",
    "    print(row)"
   ]
  },
  {
   "cell_type": "markdown",
   "metadata": {
    "id": "u2n8BydJBLrd"
   },
   "source": [
    "## Orders"
   ]
  },
  {
   "cell_type": "code",
   "execution_count": 50,
   "metadata": {
    "id": "xCQUJQkGBLrd"
   },
   "outputs": [],
   "source": [
    "conn.rollback()\n",
    "\n",
    "# create order table\n",
    "cur = conn.cursor()\n",
    "\n",
    "create_order = \"\"\"\n",
    "CREATE TABLE \"Orders\" (\n",
    "    Invoice_ID INT PRIMARY KEY,\n",
    "    Store INT,\n",
    "    Customer_ID INT,\n",
    "    Unit_Price DECIMAL(8, 2),\n",
    "    Quantity INT,\n",
    "    Payment_ID INT,\n",
    "    Delivery VARCHAR(3),\n",
    "    product_id INT,\n",
    "    product_name VARCHAR(100),\n",
    "    FOREIGN KEY (Store) REFERENCES Store(store_id),\n",
    "    FOREIGN KEY (Customer_ID) REFERENCES Customer(customer_id),\n",
    "    FOREIGN KEY (Payment_ID) REFERENCES Payment(payment_id),\n",
    "    FOREIGN KEY (product_id) REFERENCES \"Product\"(product_id)\n",
    ");\n",
    "\"\"\"\n",
    "\n",
    "# Execute the create statement\n",
    "cur.execute(create_order)\n",
    "\n",
    "# Loop over each row to insert the data\n",
    "for index, row in orders.iterrows():\n",
    "    cur.execute(\n",
    "        \"\"\"\n",
    "        INSERT INTO \"Orders\" (invoice_id, store, customer_id, unit_price, quantity, payment_id, Delivery, product_id, product_name)\n",
    "        VALUES (%s, %s, %s, %s, %s, %s, %s, %s, %s);\n",
    "        \"\"\",\n",
    "        (row['Invoice ID'], row['store_id'], row['Customer_ID'], row['Unit price'], row['Quantity'], row['payment_id'], row['Delivery'],\n",
    "         row['product_id'], row['product_name'])\n",
    "    )\n",
    "\n",
    "# Commit the changes\n",
    "conn.commit()"
   ]
  },
  {
   "cell_type": "code",
   "execution_count": 51,
   "metadata": {
    "id": "fHnQ_qNABLrd",
    "outputId": "f1437539-0133-4f65-d7ab-71071bfc1b57"
   },
   "outputs": [
    {
     "name": "stdout",
     "output_type": "stream",
     "text": [
      "(1, 1, 2591, Decimal('2.85'), 7, 1, 'Yes', 261, 'Washington Berry Juice')\n",
      "(2, 1, 9760, Decimal('0.74'), 5, 2, 'Yes', 1181, 'Washington Mango Drink')\n",
      "(3, 1, 8726, Decimal('0.83'), 7, 3, 'Yes', 333, 'Washington Strawberry Drink')\n",
      "(4, 1, 6814, Decimal('3.64'), 8, 1, 'No', 455, 'Washington Cream Soda')\n",
      "(5, 2, 251, Decimal('2.19'), 7, 1, 'No', 1208, 'Washington Diet Soda')\n"
     ]
    }
   ],
   "source": [
    "query = 'SELECT * FROM \"Orders\" LIMIT 5;'\n",
    "\n",
    "cur.execute(query)\n",
    "result = cur.fetchall()\n",
    "\n",
    "for row in result:\n",
    "    print(row)"
   ]
  },
  {
   "cell_type": "code",
   "execution_count": 52,
   "metadata": {
    "id": "368dYQYEBLrd",
    "outputId": "1596e31d-ba42-47d8-93a7-e5667864b843"
   },
   "outputs": [],
   "source": [
    "#reconnect the database\n",
    "conn = psycopg2.connect(\n",
    "    dbname='group_project',\n",
    "    host='localhost',\n",
    "    port=5432,\n",
    "    user='postgres',\n",
    "    password='123'\n",
    ")\n",
    "cur = conn.cursor()"
   ]
  },
  {
   "cell_type": "markdown",
   "metadata": {
    "id": "ZUeq5sE2BLrd"
   },
   "source": [
    "## Delivery"
   ]
  },
  {
   "cell_type": "code",
   "execution_count": 53,
   "metadata": {
    "id": "zZeS1p6KBLrd"
   },
   "outputs": [],
   "source": [
    "conn.rollback()\n",
    "#create first statement\n",
    "cur.execute(\"\"\"\n",
    "   CREATE TABLE \"Delivery\" (\n",
    "   delivery_id INT PRIMARY KEY,\n",
    "   Invoice_ID INT,\n",
    "   Store INT,\n",
    "   Customer_ID INT,\n",
    "   Quantity INT\n",
    ");\n",
    "\"\"\")\n",
    "conn.commit()"
   ]
  },
  {
   "cell_type": "code",
   "execution_count": 54,
   "metadata": {
    "id": "t40epQnEBLrd"
   },
   "outputs": [],
   "source": [
    "conn.rollback()\n",
    "#Add FK for Invoice_ID\n",
    "cur.execute(\"\"\"\n",
    "   ALTER TABLE \"Delivery\"\n",
    "   ADD CONSTRAINT fk_invoice\n",
    "   FOREIGN KEY (Invoice_ID) REFERENCES \"Orders\"(Invoice_ID);\n",
    "\"\"\")\n",
    "conn.commit()\n",
    "\n",
    "#Add FK for Store\n",
    "cur.execute(\"\"\"\n",
    "   ALTER TABLE \"Delivery\"\n",
    "   ADD CONSTRAINT fk_store\n",
    "   FOREIGN KEY (Store) REFERENCES Store(store_id);\n",
    "\"\"\")\n",
    "conn.commit()\n",
    "\n",
    "#Add FK for customer_id\n",
    "cur.execute(\"\"\"\n",
    "   ALTER TABLE \"Delivery\"\n",
    "   ADD CONSTRAINT fk_customer\n",
    "   FOREIGN KEY (Customer_ID) REFERENCES Customer(customer_id);\n",
    "\"\"\")\n",
    "conn.commit()"
   ]
  },
  {
   "cell_type": "code",
   "execution_count": 55,
   "metadata": {
    "id": "VMwFALiEBLrd"
   },
   "outputs": [],
   "source": [
    "#insert values\n",
    "for index, row in delivery.iterrows():\n",
    "    cur.execute(\n",
    "        \"\"\"\n",
    "        INSERT INTO \"Delivery\" (delivery_id, invoice_id, Store, Customer_ID, Quantity)\n",
    "        VALUES (%s, %s, %s, %s, %s);\n",
    "        \"\"\",\n",
    "        (int(row['delivery_id']), int(row['Invoice ID']), int(row['store_id']), int(row['Customer_ID']), int(row['Quantity']))\n",
    "    )\n",
    "\n",
    "conn.commit()"
   ]
  },
  {
   "cell_type": "code",
   "execution_count": 56,
   "metadata": {
    "id": "hp1RDcJQBLrd",
    "outputId": "90bff6a6-7fac-42a7-d61d-851129641cbc"
   },
   "outputs": [
    {
     "name": "stdout",
     "output_type": "stream",
     "text": [
      "(1, 1, 1, 2591, 7)\n",
      "(2, 2, 1, 9760, 5)\n",
      "(3, 3, 1, 8726, 7)\n",
      "(4, 7, 2, 2239, 6)\n",
      "(5, 8, 2, 8328, 10)\n"
     ]
    }
   ],
   "source": [
    "query = 'SELECT * FROM \"Delivery\" LIMIT 5;'\n",
    "\n",
    "cur.execute(query)\n",
    "result = cur.fetchall()\n",
    "\n",
    "for row in result:\n",
    "    print(row)"
   ]
  },
  {
   "cell_type": "markdown",
   "metadata": {
    "id": "iaKh_WDaBLrd"
   },
   "source": [
    "## Transaction"
   ]
  },
  {
   "cell_type": "code",
   "execution_count": 57,
   "metadata": {
    "id": "v9ezHkqfBLrd"
   },
   "outputs": [],
   "source": [
    "conn.rollback()\n",
    "\n",
    "create_transaction = \"\"\"\n",
    "CREATE TABLE \"Transaction\" (\n",
    "    Invoice_ID INT PRIMARY KEY,\n",
    "    Store INT,\n",
    "    Tax_5 DECIMAL(8, 2),\n",
    "    Total DECIMAL(8, 2),\n",
    "    Date DATE,\n",
    "    Time TIME,\n",
    "    Payment_ID INT,\n",
    "    FOREIGN KEY (Store) REFERENCES Store(store_id),\n",
    "    FOREIGN KEY (Payment_ID) REFERENCES Payment(payment_id)\n",
    ");\n",
    "\"\"\"\n",
    "\n",
    "cur.execute(create_transaction)\n",
    "\n",
    "for index, row in transaction.iterrows():\n",
    "    cur.execute(\n",
    "        \"\"\"\n",
    "        INSERT INTO \"Transaction\" (Invoice_ID, Store, Tax_5, Total, Date, Time, Payment_ID)\n",
    "        VALUES (%s, %s, %s, %s, %s, %s, %s);\n",
    "        \"\"\",\n",
    "        (row['Invoice ID'], row['Store'], row['Tax 5%'], row['Total'],\n",
    "         row['Date'], row['Time'], row['payment_id'])\n",
    "    )\n",
    "\n",
    "\n",
    "conn.commit()"
   ]
  },
  {
   "cell_type": "code",
   "execution_count": 58,
   "metadata": {
    "id": "NSn-WO1YBLre",
    "outputId": "e34d0f85-8ae0-4a93-c831-5952d356cdae"
   },
   "outputs": [
    {
     "name": "stdout",
     "output_type": "stream",
     "text": [
      "(1, 1, Decimal('1.00'), Decimal('19.95'), datetime.date(2019, 1, 5), datetime.time(13, 8), 1)\n",
      "(2, 1, Decimal('0.19'), Decimal('3.70'), datetime.date(2019, 3, 8), datetime.time(10, 29), 2)\n",
      "(3, 1, Decimal('0.29'), Decimal('5.81'), datetime.date(2019, 3, 3), datetime.time(13, 23), 3)\n",
      "(4, 1, Decimal('1.46'), Decimal('29.12'), datetime.date(2019, 1, 27), datetime.time(20, 33), 1)\n",
      "(5, 2, Decimal('0.77'), Decimal('15.33'), datetime.date(2019, 2, 8), datetime.time(10, 37), 1)\n"
     ]
    }
   ],
   "source": [
    "query = 'SELECT * FROM \"Transaction\" LIMIT 5;'\n",
    "\n",
    "cur.execute(query)\n",
    "result = cur.fetchall()\n",
    "\n",
    "for row in result:\n",
    "    print(row)"
   ]
  },
  {
   "cell_type": "markdown",
   "metadata": {
    "id": "RQ0KGSsUBLre"
   },
   "source": [
    "## Rating"
   ]
  },
  {
   "cell_type": "code",
   "execution_count": 59,
   "metadata": {
    "id": "1USvEMbwBLre"
   },
   "outputs": [],
   "source": [
    "conn.rollback()\n",
    "create_rating = \"\"\"\n",
    "CREATE TABLE \"rating\" (\n",
    "    Invoice_ID INT PRIMARY KEY,\n",
    "    Customer_ID INT,\n",
    "    Rating DECIMAL(3,1),\n",
    "    FOREIGN KEY (Invoice_ID) REFERENCES \"Orders\"(Invoice_ID),\n",
    "    FOREIGN KEY (Customer_ID) REFERENCES Customer(customer_id)\n",
    ");\n",
    "\"\"\"\n",
    "\n",
    "cur.execute(create_rating)\n",
    "\n",
    "for index, row in rating.iterrows():\n",
    "    cur.execute(\n",
    "        \"\"\"\n",
    "        INSERT INTO \"rating\" (Invoice_ID, Customer_ID, Rating)\n",
    "        VALUES (%s, %s, %s);\n",
    "        \"\"\",\n",
    "        (row['Invoice ID'], row['Customer_ID'], row['Rating'])\n",
    "    )\n",
    "\n",
    "conn.commit()"
   ]
  },
  {
   "cell_type": "code",
   "execution_count": 60,
   "metadata": {
    "id": "CF7zJa8oBLre",
    "outputId": "a2050138-248a-4f0a-9635-99fc1d80da78"
   },
   "outputs": [
    {
     "name": "stdout",
     "output_type": "stream",
     "text": [
      "(1, 2610, Decimal('9.1'))\n",
      "(2, 2565, Decimal('9.6'))\n",
      "(3, 8081, Decimal('7.4'))\n",
      "(4, 9668, Decimal('8.4'))\n",
      "(5, 2921, Decimal('5.3'))\n"
     ]
    }
   ],
   "source": [
    "query = 'SELECT * FROM \"rating\" LIMIT 5;'\n",
    "\n",
    "cur.execute(query)\n",
    "result = cur.fetchall()\n",
    "\n",
    "for row in result:\n",
    "    print(row)"
   ]
  },
  {
   "cell_type": "markdown",
   "metadata": {
    "id": "_2ITDEdgBLre"
   },
   "source": [
    "## Inventory"
   ]
  },
  {
   "cell_type": "code",
   "execution_count": 61,
   "metadata": {
    "id": "wilcIfNzBLre"
   },
   "outputs": [],
   "source": [
    "#create sql statement\n",
    "conn.rollback()\n",
    "create_inventory = \"\"\"\n",
    "CREATE TABLE \"inventory\" (\n",
    "    product_id INT,\n",
    "    store_id INT,\n",
    "    product_sku BIGINT,\n",
    "    quantity INT,\n",
    "    PRIMARY KEY (product_id, store_id),\n",
    "    FOREIGN KEY (product_id) REFERENCES \"Product\"(product_id),\n",
    "    FOREIGN KEY (store_id) REFERENCES Store(store_id)\n",
    ");\n",
    "\"\"\"\n",
    "\n",
    "cur.execute(create_inventory)\n",
    "\n",
    "for index, row in inventory.iterrows():\n",
    "    cur.execute(\n",
    "        \"\"\"\n",
    "        INSERT INTO \"inventory\" (product_id, store_id, product_sku, quantity)\n",
    "        VALUES (%s, %s, %s, %s);\n",
    "        \"\"\",\n",
    "        (int(row['product_id']), int(row['store_id']), int(row['product_sku']), int(row['quantity']))\n",
    "    )\n",
    "\n",
    "conn.commit()"
   ]
  },
  {
   "cell_type": "code",
   "execution_count": 62,
   "metadata": {
    "id": "Y559ye8xBLre",
    "outputId": "e6570c2f-8e8b-4496-cf39-830d42ef6105"
   },
   "outputs": [
    {
     "name": "stdout",
     "output_type": "stream",
     "text": [
      "(1, 2, 90748583674, 21)\n",
      "(2, 2, 96516502499, 39)\n",
      "(3, 2, 58427771925, 15)\n",
      "(4, 1, 64412155747, 79)\n",
      "(5, 2, 85561191439, 67)\n"
     ]
    }
   ],
   "source": [
    "query = 'SELECT * FROM \"inventory\" LIMIT 5;'\n",
    "\n",
    "cur.execute(query)\n",
    "result = cur.fetchall()\n",
    "\n",
    "for row in result:\n",
    "    print(row)"
   ]
  },
  {
   "cell_type": "markdown",
   "metadata": {
    "id": "JuhLBml3BLre"
   },
   "source": [
    "## Financial Cost"
   ]
  },
  {
   "cell_type": "code",
   "execution_count": 63,
   "metadata": {
    "id": "Tlv3ipf8BLre"
   },
   "outputs": [],
   "source": [
    "conn.rollback()\n",
    "\n",
    "create_financial_cost = \"\"\"\n",
    "CREATE TABLE \"Cost\" (\n",
    "    Invoice_ID INT,\n",
    "    Store INT,\n",
    "    Date DATE,\n",
    "    Total DECIMAL(10, 4),\n",
    "    cost DECIMAL(10, 2),\n",
    "    PRIMARY KEY (Invoice_ID),\n",
    "    FOREIGN KEY (Store) REFERENCES Store(store_id)\n",
    ");\n",
    "\"\"\"\n",
    "\n",
    "cur.execute(create_financial_cost)\n",
    "\n",
    "for index, row in cost.iterrows():\n",
    "    cur.execute(\n",
    "        \"\"\"\n",
    "        INSERT INTO \"Cost\" (Invoice_ID, Store, Date, Total, cost)\n",
    "        VALUES (%s, %s, %s, %s, %s);\n",
    "        \"\"\",\n",
    "        (row['Invoice ID'], row['Store'], row['Date'], row['Total'], row['cost'])\n",
    "    )\n",
    "\n",
    "conn.commit()"
   ]
  },
  {
   "cell_type": "code",
   "execution_count": 64,
   "metadata": {
    "id": "rT5XZplSBLre",
    "outputId": "c296ee20-8cfb-43fb-9866-93cab31addd0"
   },
   "outputs": [
    {
     "name": "stdout",
     "output_type": "stream",
     "text": [
      "(1, 2, datetime.date(2019, 1, 5), Decimal('19.9500'), Decimal('14.18'))\n",
      "(2, 2, datetime.date(2019, 3, 8), Decimal('3.7000'), Decimal('3.05'))\n",
      "(3, 2, datetime.date(2019, 3, 3), Decimal('5.8100'), Decimal('4.11'))\n",
      "(4, 1, datetime.date(2019, 1, 27), Decimal('29.1200'), Decimal('23.90'))\n",
      "(5, 2, datetime.date(2019, 2, 8), Decimal('15.3300'), Decimal('11.53'))\n"
     ]
    }
   ],
   "source": [
    "query = 'SELECT * FROM \"Cost\" LIMIT 5;'\n",
    "\n",
    "cur.execute(query)\n",
    "result = cur.fetchall()\n",
    "\n",
    "for row in result:\n",
    "    print(row)"
   ]
  },
  {
   "cell_type": "markdown",
   "metadata": {
    "id": "jZ1K1jQmBLre"
   },
   "source": [
    "## Financial Income"
   ]
  },
  {
   "cell_type": "code",
   "execution_count": 65,
   "metadata": {
    "id": "wNKST89QBLre"
   },
   "outputs": [],
   "source": [
    "conn.rollback()\n",
    "\n",
    "create_financial_income = \"\"\"\n",
    "CREATE TABLE \"Income\" (\n",
    "    Invoice_ID INT,\n",
    "    Store INT,\n",
    "    Date DATE,\n",
    "    Total DECIMAL(10, 4),\n",
    "    Gross_Income DECIMAL(10, 2),\n",
    "    PRIMARY KEY (Invoice_ID),\n",
    "    FOREIGN KEY (Store) REFERENCES Store(store_id)\n",
    ");\n",
    "\"\"\"\n",
    "\n",
    "cur.execute(create_financial_income)\n",
    "\n",
    "for index, row in income.iterrows():\n",
    "    cur.execute(\n",
    "        \"\"\"\n",
    "        INSERT INTO \"Income\" (Invoice_ID, Store, Date, Total, Gross_Income)\n",
    "        VALUES (%s, %s, %s, %s, %s);\n",
    "        \"\"\",\n",
    "        (row['Invoice ID'], row['Store'], row['Date'], row['Total'], row['gross income'])\n",
    "    )\n",
    "\n",
    "conn.commit()"
   ]
  },
  {
   "cell_type": "code",
   "execution_count": 66,
   "metadata": {
    "id": "MCGQB2IvBLrf",
    "outputId": "9ef80ce6-d05b-4e82-bcf5-a2dd5638ceb0"
   },
   "outputs": [
    {
     "name": "stdout",
     "output_type": "stream",
     "text": [
      "(1, 2, datetime.date(2019, 1, 5), Decimal('19.9500'), Decimal('26.14'))\n",
      "(2, 2, datetime.date(2019, 3, 8), Decimal('3.7000'), Decimal('3.82'))\n",
      "(3, 1, datetime.date(2019, 3, 3), Decimal('5.8100'), Decimal('16.22'))\n",
      "(4, 2, datetime.date(2019, 1, 27), Decimal('29.1200'), Decimal('23.29'))\n",
      "(5, 1, datetime.date(2019, 2, 8), Decimal('15.3300'), Decimal('30.21'))\n"
     ]
    }
   ],
   "source": [
    "query = 'SELECT * FROM \"Income\" LIMIT 5;'\n",
    "\n",
    "cur.execute(query)\n",
    "result = cur.fetchall()\n",
    "\n",
    "for row in result:\n",
    "    print(row)"
   ]
  },
  {
   "cell_type": "markdown",
   "metadata": {
    "id": "0R5YMkD0BLrf"
   },
   "source": [
    "# Analytical Procedure\n",
    "\n",
    "## 1. Performance of stores - financial incomes"
   ]
  },
  {
   "cell_type": "code",
   "execution_count": 67,
   "metadata": {
    "id": "jjgNAMyjBLrf",
    "outputId": "ac8beac1-6ceb-4130-a9f4-2316c7454ffe"
   },
   "outputs": [
    {
     "name": "stdout",
     "output_type": "stream",
     "text": [
      "(2, Decimal('1272.19'))\n",
      "(1, Decimal('1028.18'))\n"
     ]
    }
   ],
   "source": [
    "conn.rollback()\n",
    "cur.execute('''\n",
    "    SELECT store, ROUND(SUM(Total - cost),2) as NetIncome\n",
    "    FROM \"Cost\"\n",
    "    GROUP BY store\n",
    "    ORDER BY NetIncome DESC;\n",
    "''')\n",
    "\n",
    "results = cur.fetchall()\n",
    "\n",
    "for row in results:\n",
    "    print(row)"
   ]
  },
  {
   "cell_type": "markdown",
   "metadata": {
    "id": "izMNw4PHBLrf"
   },
   "source": [
    "## 2. Best product sales by volume"
   ]
  },
  {
   "cell_type": "code",
   "execution_count": 68,
   "metadata": {
    "id": "c3OXAh3nBLrf",
    "outputId": "08de267c-0ec8-4a29-df18-5a2aacd4a1f4"
   },
   "outputs": [
    {
     "name": "stdout",
     "output_type": "stream",
     "text": [
      "('Red Spade Pimento Loaf', 10)\n"
     ]
    }
   ],
   "source": [
    "conn.rollback()\n",
    "cur.execute('''\n",
    "    SELECT product_name, SUM(quantity) AS total_sales_volume\n",
    "    FROM \"Orders\"\n",
    "    GROUP BY product_name\n",
    "    ORDER BY total_sales_volume DESC\n",
    "    LIMIT 1;\n",
    "''')\n",
    "\n",
    "results = cur.fetchall()\n",
    "\n",
    "for row in results:\n",
    "    print(row)"
   ]
  },
  {
   "cell_type": "markdown",
   "metadata": {
    "id": "vSkMd-oGBLrf"
   },
   "source": [
    "## 3. Vendor - best brand"
   ]
  },
  {
   "cell_type": "code",
   "execution_count": 69,
   "metadata": {
    "id": "Ip5BT7OOBLrf",
    "outputId": "0bd21c5e-2203-41ba-cc83-7ca8e589f043"
   },
   "outputs": [
    {
     "name": "stdout",
     "output_type": "stream",
     "text": [
      "('Tell Tale', 221)\n"
     ]
    }
   ],
   "source": [
    "conn.rollback()\n",
    "cur.execute('''\n",
    "    SELECT p.product_brand, SUM(o.quantity) as total_volume\n",
    "    FROM \"Product\" p\n",
    "    JOIN \"Orders\" o ON p.product_id = o.product_id\n",
    "    GROUP BY p.product_brand\n",
    "    ORDER BY total_volume DESC\n",
    "    LIMIT 1;\n",
    "''')\n",
    "\n",
    "results = cur.fetchall()\n",
    "\n",
    "for row in results:\n",
    "    print(row)"
   ]
  },
  {
   "cell_type": "markdown",
   "metadata": {
    "id": "N2nMRrNFBLrf"
   },
   "source": [
    "## 4. Best product category by volume"
   ]
  },
  {
   "cell_type": "code",
   "execution_count": 70,
   "metadata": {
    "id": "U6bzMj5XBLrf",
    "outputId": "815f1e9d-d9a6-4037-d1ce-7c88c5146d52"
   },
   "outputs": [
    {
     "name": "stdout",
     "output_type": "stream",
     "text": [
      "('Food and beverages', 4021)\n"
     ]
    }
   ],
   "source": [
    "conn.rollback()\n",
    "cur.execute('''\n",
    "    SELECT pc.Product_line, SUM(o.quantity) as total_volume\n",
    "    FROM \"Product\" p\n",
    "    JOIN \"Orders\" o ON p.product_id = o.product_id\n",
    "    JOIN product_category pc ON p.category_id = pc.category_id\n",
    "    GROUP BY pc.Product_line\n",
    "    ORDER BY total_volume DESC\n",
    "    LIMIT 1;\n",
    "''')\n",
    "\n",
    "results = cur.fetchall()\n",
    "\n",
    "for row in results:\n",
    "    print(row)"
   ]
  },
  {
   "cell_type": "markdown",
   "metadata": {
    "id": "Jk0-i1x-BLrf"
   },
   "source": [
    "## 5. The average rating of membership"
   ]
  },
  {
   "cell_type": "code",
   "execution_count": 71,
   "metadata": {
    "id": "iXY4ZntCBLrf",
    "outputId": "4c545e9e-e67d-4e28-c09e-208409dca8bd"
   },
   "outputs": [
    {
     "name": "stdout",
     "output_type": "stream",
     "text": [
      "('Golden', Decimal('7.05'))\n",
      "('Normal', Decimal('7.02'))\n",
      "('Bronze', Decimal('6.98'))\n",
      "('Silver', Decimal('6.71'))\n"
     ]
    }
   ],
   "source": [
    "conn.rollback()\n",
    "cur.execute('''\n",
    "    SELECT m.member_type, ROUND(AVG(r.rating),2) as average_rating\n",
    "    FROM \"Membership\" m\n",
    "    JOIN rating r ON m.customer_id = r.customer_id\n",
    "    GROUP BY m.member_type\n",
    "    ORDER BY average_rating DESC;\n",
    "''')\n",
    "\n",
    "results = cur.fetchall()\n",
    "\n",
    "for row in results:\n",
    "    print(row)"
   ]
  },
  {
   "cell_type": "markdown",
   "metadata": {
    "id": "vMV3AheuBLrf"
   },
   "source": [
    "## 6. Average purchase of each membership level"
   ]
  },
  {
   "cell_type": "code",
   "execution_count": 72,
   "metadata": {
    "id": "mDAzL1LYBLrf",
    "outputId": "e5906402-51c8-4daf-db59-988398a90c82"
   },
   "outputs": [
    {
     "name": "stdout",
     "output_type": "stream",
     "text": [
      "('Normal', Decimal('12.30'))\n",
      "('Golden', Decimal('12.30'))\n",
      "('Bronze', Decimal('11.32'))\n",
      "('Silver', Decimal('11.12'))\n"
     ]
    }
   ],
   "source": [
    "conn.rollback()\n",
    "cur.execute('''\n",
    "    SELECT m.member_type, ROUND(AVG(t.Total),2) as average_purchase\n",
    "    FROM \"Membership\" m\n",
    "    JOIN \"Orders\" o ON m.customer_id = o.Customer_ID\n",
    "    JOIN \"Transaction\" t ON o.Invoice_ID = t.Invoice_ID\n",
    "    GROUP BY m.member_type\n",
    "    ORDER BY average_purchase DESC;\n",
    "''')\n",
    "\n",
    "results = cur.fetchall()\n",
    "\n",
    "for row in results:\n",
    "    print(row)"
   ]
  },
  {
   "cell_type": "markdown",
   "metadata": {
    "id": "EFKmNooDBLrg"
   },
   "source": []
  },
  {
   "cell_type": "code",
   "execution_count": 73,
   "metadata": {
    "id": "zEx5fqSZBLrg",
    "outputId": "151e6dec-1f24-4963-c81e-12b484fc7d83"
   },
   "outputs": [
    {
     "name": "stdout",
     "output_type": "stream",
     "text": [
      "('Tell Tale', 221)\n"
     ]
    }
   ],
   "source": []
  },
  {
   "cell_type": "markdown",
   "metadata": {},
   "source": [
    "## 7.  Calculates the average age of customers and counts the number of customers from each area."
   ]
  },
  {
   "cell_type": "code",
   "execution_count": 77,
   "metadata": {},
   "outputs": [
    {
     "name": "stdout",
     "output_type": "stream",
     "text": [
      "(Decimal('79'), 'Mexico City', 97)\n",
      "(Decimal('79'), 'Langley', 92)\n",
      "(Decimal('80'), 'Hidalgo', 100)\n",
      "(Decimal('79'), 'Santa Cruz', 92)\n",
      "(Decimal('78'), 'Burlingame', 99)\n",
      "(Decimal('78'), 'N. Vancouver', 99)\n",
      "(Decimal('79'), 'Walla Walla', 99)\n",
      "(Decimal('82'), 'Novato', 90)\n",
      "(Decimal('82'), 'San Francisco', 47)\n",
      "(Decimal('77'), 'San Gabriel', 96)\n",
      "(Decimal('80'), 'Newport Beach', 90)\n",
      "(Decimal('75'), 'Sooke', 97)\n",
      "(Decimal('78'), 'Glendale', 102)\n",
      "(Decimal('76'), 'Imperial Beach', 92)\n",
      "(Decimal('75'), 'Olympia', 92)\n",
      "(Decimal('76'), 'Chula Vista', 103)\n",
      "(Decimal('76'), 'Victoria', 92)\n",
      "(Decimal('76'), 'Mill Valley', 85)\n",
      "(Decimal('79'), 'Oregon City', 87)\n",
      "(Decimal('82'), 'Orizaba', 93)\n",
      "(Decimal('79'), 'Portland', 90)\n",
      "(Decimal('77'), 'Santa Anita', 97)\n",
      "(Decimal('73'), 'Cliffside', 94)\n",
      "(Decimal('80'), 'Bremerton', 91)\n",
      "(Decimal('74'), 'La Jolla', 94)\n",
      "(Decimal('78'), 'Lynnwood', 97)\n",
      "(Decimal('74'), 'Marysville', 93)\n",
      "(Decimal('78'), 'La Cruz', 78)\n",
      "(Decimal('78'), 'Westminster', 92)\n",
      "(Decimal('77'), 'Metchosin', 96)\n",
      "(Decimal('76'), 'Tixapan', 100)\n",
      "(Decimal('82'), 'Oak Bay', 99)\n",
      "(Decimal('74'), 'Merida', 99)\n",
      "(Decimal('77'), 'San Andres', 99)\n",
      "(Decimal('77'), 'Fremont', 75)\n",
      "(Decimal('75'), 'Ladner', 100)\n",
      "(Decimal('80'), 'Guadalajara', 104)\n",
      "(Decimal('79'), 'Pomona', 106)\n",
      "(Decimal('76'), 'Seattle', 92)\n",
      "(Decimal('79'), 'Everett', 95)\n",
      "(Decimal('77'), 'Lincoln Acres', 103)\n",
      "(Decimal('76'), 'Downey', 110)\n",
      "(Decimal('77'), 'Bellingham', 104)\n",
      "(Decimal('79'), 'Milwaukie', 104)\n",
      "(Decimal('80'), 'W. Linn', 87)\n",
      "(Decimal('79'), 'Santa Monica', 92)\n",
      "(Decimal('83'), 'Burnaby', 85)\n",
      "(Decimal('77'), 'Sedro Woolley', 87)\n",
      "(Decimal('77'), 'Kirkland', 93)\n",
      "(Decimal('78'), 'Santa Fe', 51)\n",
      "(Decimal('76'), 'Lemon Grove', 107)\n",
      "(Decimal('78'), 'Burbank', 96)\n",
      "(Decimal('78'), 'Spokane', 85)\n",
      "(Decimal('77'), 'Woodland Hills', 96)\n",
      "(Decimal('75'), 'Woodburn', 90)\n",
      "(Decimal('76'), 'Concord', 106)\n",
      "(Decimal('79'), 'Issaquah', 103)\n",
      "(Decimal('77'), 'Ballard', 99)\n",
      "(Decimal('77'), 'Burien', 106)\n",
      "(Decimal('76'), 'Bellflower', 97)\n",
      "(Decimal('73'), 'Spring Valley', 91)\n",
      "(Decimal('81'), 'Port Orchard', 89)\n",
      "(Decimal('84'), 'Oakland', 87)\n",
      "(Decimal('80'), 'Port Hammond', 96)\n",
      "(Decimal('77'), 'National City', 101)\n",
      "(Decimal('74'), 'Haney', 90)\n",
      "(Decimal('80'), 'Altadena', 96)\n",
      "(Decimal('77'), 'Long Beach', 95)\n",
      "(Decimal('76'), 'Tacoma', 93)\n",
      "(Decimal('78'), 'Arcadia', 98)\n",
      "(Decimal('77'), 'La Mesa', 95)\n",
      "(Decimal('76'), 'San Diego', 91)\n",
      "(Decimal('78'), 'San Carlos', 88)\n",
      "(Decimal('81'), 'Langford', 105)\n",
      "(Decimal('77'), 'El Cajon', 104)\n",
      "(Decimal('78'), 'Anacortes', 97)\n",
      "(Decimal('73'), 'Torrance', 101)\n",
      "(Decimal('77'), 'Los Angeles', 90)\n",
      "(Decimal('77'), 'Richmond', 191)\n",
      "(Decimal('76'), 'Royal Oak', 94)\n",
      "(Decimal('78'), 'Coronado', 102)\n",
      "(Decimal('79'), 'Corvallis', 96)\n",
      "(Decimal('77'), 'Camacho', 91)\n",
      "(Decimal('80'), 'Acapulco', 106)\n",
      "(Decimal('76'), 'Lakewood', 82)\n",
      "(Decimal('78'), 'Shawnee', 111)\n",
      "(Decimal('78'), 'Palo Alto', 91)\n",
      "(Decimal('78'), 'Vancouver', 92)\n",
      "(Decimal('77'), 'Beaverton', 104)\n",
      "(Decimal('76'), 'Daly City', 87)\n",
      "(Decimal('78'), 'Tlaxiaco', 90)\n",
      "(Decimal('76'), 'Colma', 84)\n",
      "(Decimal('76'), 'West Covina', 87)\n",
      "(Decimal('78'), 'Beverly Hills', 94)\n",
      "(Decimal('76'), 'Redmond', 94)\n",
      "(Decimal('78'), 'Yakima', 96)\n",
      "(Decimal('78'), 'Puyallup', 95)\n",
      "(Decimal('79'), 'Redwood City', 84)\n",
      "(Decimal('76'), 'Edmonds', 94)\n",
      "(Decimal('77'), 'Grossmont', 100)\n",
      "(Decimal('80'), 'Renton', 92)\n",
      "(Decimal('80'), 'Lake Oswego', 104)\n",
      "(Decimal('77'), 'Lebanon', 108)\n",
      "(Decimal('76'), 'Berkeley', 100)\n",
      "(Decimal('80'), 'Newton', 90)\n",
      "(Decimal('77'), 'Albany', 84)\n",
      "(Decimal('77'), 'San Jose', 98)\n",
      "(Decimal('82'), 'Salem', 97)\n"
     ]
    }
   ],
   "source": [
    "# 1. calculates the average age of customers and counts the number of customers from each area.\n",
    "\n",
    "# Connect to the database and execute the query\n",
    "conn.rollback()\n",
    "cur.execute('''\n",
    "    SELECT \n",
    "        ROUND(AVG(EXTRACT(YEAR FROM AGE(CURRENT_DATE, birthdate)))) as average_age, \n",
    "        customer_city as area, \n",
    "        COUNT(customer_id) as num_customers\n",
    "    FROM \"customer\"\n",
    "    GROUP BY customer_city;\n",
    "''')\n",
    "results = cur.fetchall()\n",
    "\n",
    "# Print the results\n",
    "for row in results:\n",
    "    print(row)\n"
   ]
  },
  {
   "cell_type": "markdown",
   "metadata": {},
   "source": [
    "## 8 Identifies the store with the highest inventory level."
   ]
  },
  {
   "cell_type": "code",
   "execution_count": 100,
   "metadata": {},
   "outputs": [
    {
     "name": "stdout",
     "output_type": "stream",
     "text": [
      "(2, 43301)\n"
     ]
    }
   ],
   "source": [
    "#4 identifies the store with the highest inventory level.\n",
    "# Connect to the database and execute the query\n",
    "conn.rollback()\n",
    "cur.execute('''\n",
    "    SELECT \n",
    "        store_id,\n",
    "        SUM(quantity) as total_inventory\n",
    "    FROM inventory\n",
    "    GROUP BY store_id\n",
    "    ORDER BY total_inventory DESC\n",
    "    LIMIT 1;\n",
    "''')\n",
    "results = cur.fetchone()\n",
    "\n",
    "# Print the result\n",
    "print(results)\n"
   ]
  },
  {
   "cell_type": "markdown",
   "metadata": {},
   "source": [
    "## 9 Compare the delivery and non-delivery income for store 1 and store 2"
   ]
  },
  {
   "cell_type": "code",
   "execution_count": 113,
   "metadata": {},
   "outputs": [
    {
     "name": "stdout",
     "output_type": "stream",
     "text": [
      "('No', 1, Decimal('3783.89'))\n",
      "('No', 2, Decimal('4175.58'))\n",
      "('Yes', 1, Decimal('3338.47'))\n",
      "('Yes', 2, Decimal('4082.11'))\n"
     ]
    }
   ],
   "source": [
    "# Connect to the database and execute the query\n",
    "conn.rollback()\n",
    "cur.execute('''\n",
    "   SELECT \"public\".\"Orders\".\"delivery\" AS \"delivery\", \"public\".\"Orders\".\"store\" AS \"store\", SUM(\"Income\".\"gross_income\") AS \"sum\"\n",
    "FROM \"public\".\"Orders\"\n",
    "LEFT JOIN \"public\".\"Delivery\" AS \"Delivery\" ON \"public\".\"Orders\".\"invoice_id\" = \"Delivery\".\"invoice_id\" LEFT JOIN \"public\".\"Income\" AS \"Income\" ON \"public\".\"Orders\".\"invoice_id\" = \"Income\".\"invoice_id\"\n",
    "GROUP BY \"public\".\"Orders\".\"delivery\", \"public\".\"Orders\".\"store\"\n",
    "ORDER BY \"public\".\"Orders\".\"delivery\" ASC, \"public\".\"Orders\".\"store\" ASC\n",
    "''')\n",
    "results = cur.fetchall()\n",
    "\n",
    "# Print the results\n",
    "for row in results:\n",
    "    print(row)\n"
   ]
  },
  {
   "cell_type": "markdown",
   "metadata": {},
   "source": [
    "## 10  identifies customers average purchase grouping by their gender"
   ]
  },
  {
   "cell_type": "code",
   "execution_count": 114,
   "metadata": {},
   "outputs": [
    {
     "name": "stdout",
     "output_type": "stream",
     "text": [
      "('F', Decimal('1.0573248407643312'))\n",
      "('M', Decimal('1.0393374741200828'))\n"
     ]
    }
   ],
   "source": [
    "# Connect to the database and execute the query\n",
    "conn.rollback()\n",
    "cur.execute('''\n",
    "   SELECT \"Customer\".\"gender\" AS \"Customer__gender\", AVG(\"source\".\"count\") AS \"avg\"\n",
    "FROM (SELECT \"public\".\"Orders\".\"customer_id\" AS \"customer_id\", COUNT(*) AS \"count\" FROM \"public\".\"Orders\"\n",
    "GROUP BY \"public\".\"Orders\".\"customer_id\"\n",
    "ORDER BY \"public\".\"Orders\".\"customer_id\" ASC) AS \"source\"\n",
    "LEFT JOIN \"public\".\"customer\" AS \"Customer\" ON \"source\".\"customer_id\" = \"Customer\".\"customer_id\" GROUP BY \"Customer\".\"gender\" ORDER BY \"Customer\".\"gender\" ASC\n",
    "''')\n",
    "results = cur.fetchall()\n",
    "\n",
    "# Print the results\n",
    "for row in results:\n",
    "    print(row)\n"
   ]
  }
 ],
 "metadata": {
  "colab": {
   "provenance": []
  },
  "kernelspec": {
   "display_name": "Python 3 (ipykernel)",
   "language": "python",
   "name": "python3"
  },
  "language_info": {
   "codemirror_mode": {
    "name": "ipython",
    "version": 3
   },
   "file_extension": ".py",
   "mimetype": "text/x-python",
   "name": "python",
   "nbconvert_exporter": "python",
   "pygments_lexer": "ipython3",
   "version": "3.9.13"
  },
  "vscode": {
   "interpreter": {
    "hash": "de8ad9456243b6960082ed76502daf77a564024d303d074cae540dad91fb49fb"
   }
  }
 },
 "nbformat": 4,
 "nbformat_minor": 1
}
